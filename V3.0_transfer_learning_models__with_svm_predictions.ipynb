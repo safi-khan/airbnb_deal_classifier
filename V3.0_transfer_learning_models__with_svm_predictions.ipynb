{
 "cells": [
  {
   "cell_type": "markdown",
   "metadata": {},
   "source": [
    "#### Notebook Objective:\n",
    "This notebook is aimed at evaluating the performance of  ONLY non-text features to see if they can make decent estimates on the `deal_type` without any text processing"
   ]
  },
  {
   "cell_type": "markdown",
   "metadata": {},
   "source": [
    "---\n",
    "#### Import libraries"
   ]
  },
  {
   "cell_type": "code",
   "execution_count": 1,
   "metadata": {},
   "outputs": [],
   "source": [
    "#Import basic data science libraries\n",
    "import pandas as pd\n",
    "import numpy as np\n",
    "\n",
    "#Visuals basic\n",
    "import matplotlib.pyplot as plt\n",
    "%matplotlib inline\n",
    "import seaborn as sns"
   ]
  },
  {
   "cell_type": "code",
   "execution_count": 2,
   "metadata": {},
   "outputs": [],
   "source": [
    "#Importing preprocessing model support libraries\n",
    "from sklearn.model_selection import train_test_split\n",
    "from sklearn import metrics\n",
    "from sklearn.preprocessing import StandardScaler\n",
    "from sklearn.pipeline import Pipeline\n",
    "from sklearn.decomposition import PCA"
   ]
  },
  {
   "cell_type": "code",
   "execution_count": 3,
   "metadata": {},
   "outputs": [],
   "source": [
    "# importing the GridSearchCV class from model_selection submodule of scikit learn to cross validate\n",
    "from sklearn.model_selection import GridSearchCV\n",
    "from sklearn.model_selection import cross_val_score\n",
    "\n",
    "#To save the models\n",
    "import pickle"
   ]
  },
  {
   "cell_type": "code",
   "execution_count": 4,
   "metadata": {},
   "outputs": [],
   "source": [
    "#Importing Classification Models\n",
    "from sklearn.linear_model import LogisticRegression \n",
    "from sklearn.neighbors import KNeighborsClassifier\n",
    "from sklearn.tree import DecisionTreeClassifier\n",
    "from sklearn.ensemble import RandomForestClassifier \n",
    "from sklearn.ensemble import AdaBoostClassifier\n",
    "from sklearn.svm import SVC\n",
    "\n",
    "#Import Evaluation metrics\n",
    "from sklearn.metrics import confusion_matrix\n",
    "from sklearn.metrics import classification_report\n",
    "from sklearn.metrics import accuracy_score, precision_score, recall_score, f1_score, roc_curve, roc_auc_score\n",
    "\n",
    "#Import PCA\n",
    "from sklearn.decomposition import PCA \n",
    "\n",
    "#Ignore Warnings\n",
    "import warnings\n",
    "warnings.filterwarnings('ignore')"
   ]
  },
  {
   "cell_type": "markdown",
   "metadata": {},
   "source": [
    "---\n",
    "#### Import data and Inspect"
   ]
  },
  {
   "cell_type": "code",
   "execution_count": 5,
   "metadata": {},
   "outputs": [],
   "source": [
    "master = pd.read_csv('clean_data_w_deal.csv')"
   ]
  },
  {
   "cell_type": "code",
   "execution_count": 6,
   "metadata": {},
   "outputs": [
    {
     "data": {
      "text/plain": [
       "(31604, 118)"
      ]
     },
     "execution_count": 6,
     "metadata": {},
     "output_type": "execute_result"
    }
   ],
   "source": [
    "master.shape"
   ]
  },
  {
   "cell_type": "code",
   "execution_count": 7,
   "metadata": {},
   "outputs": [
    {
     "data": {
      "text/html": [
       "<div>\n",
       "<style scoped>\n",
       "    .dataframe tbody tr th:only-of-type {\n",
       "        vertical-align: middle;\n",
       "    }\n",
       "\n",
       "    .dataframe tbody tr th {\n",
       "        vertical-align: top;\n",
       "    }\n",
       "\n",
       "    .dataframe thead th {\n",
       "        text-align: right;\n",
       "    }\n",
       "</style>\n",
       "<table border=\"1\" class=\"dataframe\">\n",
       "  <thead>\n",
       "    <tr style=\"text-align: right;\">\n",
       "      <th></th>\n",
       "      <th>title</th>\n",
       "      <th>summary</th>\n",
       "      <th>description</th>\n",
       "      <th>transit</th>\n",
       "      <th>house_rules</th>\n",
       "      <th>max_guests</th>\n",
       "      <th>bathrooms</th>\n",
       "      <th>bedrooms</th>\n",
       "      <th>beds</th>\n",
       "      <th>price</th>\n",
       "      <th>...</th>\n",
       "      <th>cancellation_policy_moderate</th>\n",
       "      <th>cancellation_policy_strict</th>\n",
       "      <th>room_type_entire_home/apt</th>\n",
       "      <th>room_type_private_room</th>\n",
       "      <th>room_type_shared_room</th>\n",
       "      <th>experiences_offered_business</th>\n",
       "      <th>experiences_offered_family</th>\n",
       "      <th>experiences_offered_none</th>\n",
       "      <th>experiences_offered_romantic</th>\n",
       "      <th>experiences_offered_social</th>\n",
       "    </tr>\n",
       "  </thead>\n",
       "  <tbody>\n",
       "    <tr>\n",
       "      <th>0</th>\n",
       "      <td>Quiet Room in Leafy Village near Central London</td>\n",
       "      <td>My place is good for couples, solo adventurers...</td>\n",
       "      <td>My place is good for couples, solo adventurers...</td>\n",
       "      <td>Free parking on street, on bus route to centra...</td>\n",
       "      <td>not_available</td>\n",
       "      <td>2</td>\n",
       "      <td>2.0</td>\n",
       "      <td>1.0</td>\n",
       "      <td>1.0</td>\n",
       "      <td>39.0</td>\n",
       "      <td>...</td>\n",
       "      <td>0</td>\n",
       "      <td>0</td>\n",
       "      <td>0</td>\n",
       "      <td>1</td>\n",
       "      <td>0</td>\n",
       "      <td>0</td>\n",
       "      <td>0</td>\n",
       "      <td>1</td>\n",
       "      <td>0</td>\n",
       "      <td>0</td>\n",
       "    </tr>\n",
       "    <tr>\n",
       "      <th>1</th>\n",
       "      <td>Spacious room in private house.</td>\n",
       "      <td>Newly-decorated double room in beautiful house...</td>\n",
       "      <td>Newly-decorated double room in beautiful house...</td>\n",
       "      <td>Excellent transport links. Five minutes easy w...</td>\n",
       "      <td>Sorry, but no smokers please.</td>\n",
       "      <td>2</td>\n",
       "      <td>1.0</td>\n",
       "      <td>1.0</td>\n",
       "      <td>1.0</td>\n",
       "      <td>45.0</td>\n",
       "      <td>...</td>\n",
       "      <td>0</td>\n",
       "      <td>0</td>\n",
       "      <td>0</td>\n",
       "      <td>1</td>\n",
       "      <td>0</td>\n",
       "      <td>0</td>\n",
       "      <td>0</td>\n",
       "      <td>1</td>\n",
       "      <td>0</td>\n",
       "      <td>0</td>\n",
       "    </tr>\n",
       "    <tr>\n",
       "      <th>2</th>\n",
       "      <td>Bright room in lovely area plus C/Breakfast</td>\n",
       "      <td>Quiet location in smart area with good restaur...</td>\n",
       "      <td>Quiet location in smart area with good restaur...</td>\n",
       "      <td>not_available</td>\n",
       "      <td>Early Check In Weekends only from 1 o Clock on...</td>\n",
       "      <td>3</td>\n",
       "      <td>1.0</td>\n",
       "      <td>1.0</td>\n",
       "      <td>2.0</td>\n",
       "      <td>60.0</td>\n",
       "      <td>...</td>\n",
       "      <td>0</td>\n",
       "      <td>0</td>\n",
       "      <td>0</td>\n",
       "      <td>1</td>\n",
       "      <td>0</td>\n",
       "      <td>0</td>\n",
       "      <td>0</td>\n",
       "      <td>1</td>\n",
       "      <td>0</td>\n",
       "      <td>0</td>\n",
       "    </tr>\n",
       "    <tr>\n",
       "      <th>3</th>\n",
       "      <td>Bright, airy room by Tower Bridge and river</td>\n",
       "      <td>For solo travellers:  Bright, airy room in ver...</td>\n",
       "      <td>For solo travellers:  Bright, airy room in ver...</td>\n",
       "      <td>Walking In under 5 minutes you can be at Tower...</td>\n",
       "      <td>We are looking for respectful guests to share ...</td>\n",
       "      <td>1</td>\n",
       "      <td>1.0</td>\n",
       "      <td>1.0</td>\n",
       "      <td>1.0</td>\n",
       "      <td>55.0</td>\n",
       "      <td>...</td>\n",
       "      <td>0</td>\n",
       "      <td>0</td>\n",
       "      <td>0</td>\n",
       "      <td>1</td>\n",
       "      <td>0</td>\n",
       "      <td>0</td>\n",
       "      <td>0</td>\n",
       "      <td>1</td>\n",
       "      <td>0</td>\n",
       "      <td>0</td>\n",
       "    </tr>\n",
       "    <tr>\n",
       "      <th>4</th>\n",
       "      <td>Bright apartment at London Bridge</td>\n",
       "      <td>A bright and quiet apartment in Central London...</td>\n",
       "      <td>A bright and quiet apartment in Central London...</td>\n",
       "      <td>not_available</td>\n",
       "      <td>I would like that my guests feel like at their...</td>\n",
       "      <td>2</td>\n",
       "      <td>1.0</td>\n",
       "      <td>1.0</td>\n",
       "      <td>1.0</td>\n",
       "      <td>75.0</td>\n",
       "      <td>...</td>\n",
       "      <td>1</td>\n",
       "      <td>0</td>\n",
       "      <td>1</td>\n",
       "      <td>0</td>\n",
       "      <td>0</td>\n",
       "      <td>0</td>\n",
       "      <td>0</td>\n",
       "      <td>1</td>\n",
       "      <td>0</td>\n",
       "      <td>0</td>\n",
       "    </tr>\n",
       "  </tbody>\n",
       "</table>\n",
       "<p>5 rows × 118 columns</p>\n",
       "</div>"
      ],
      "text/plain": [
       "                                             title  \\\n",
       "0  Quiet Room in Leafy Village near Central London   \n",
       "1                  Spacious room in private house.   \n",
       "2      Bright room in lovely area plus C/Breakfast   \n",
       "3      Bright, airy room by Tower Bridge and river   \n",
       "4                Bright apartment at London Bridge   \n",
       "\n",
       "                                             summary  \\\n",
       "0  My place is good for couples, solo adventurers...   \n",
       "1  Newly-decorated double room in beautiful house...   \n",
       "2  Quiet location in smart area with good restaur...   \n",
       "3  For solo travellers:  Bright, airy room in ver...   \n",
       "4  A bright and quiet apartment in Central London...   \n",
       "\n",
       "                                         description  \\\n",
       "0  My place is good for couples, solo adventurers...   \n",
       "1  Newly-decorated double room in beautiful house...   \n",
       "2  Quiet location in smart area with good restaur...   \n",
       "3  For solo travellers:  Bright, airy room in ver...   \n",
       "4  A bright and quiet apartment in Central London...   \n",
       "\n",
       "                                             transit  \\\n",
       "0  Free parking on street, on bus route to centra...   \n",
       "1  Excellent transport links. Five minutes easy w...   \n",
       "2                                      not_available   \n",
       "3  Walking In under 5 minutes you can be at Tower...   \n",
       "4                                      not_available   \n",
       "\n",
       "                                         house_rules  max_guests  bathrooms  \\\n",
       "0                                      not_available           2        2.0   \n",
       "1                      Sorry, but no smokers please.           2        1.0   \n",
       "2  Early Check In Weekends only from 1 o Clock on...           3        1.0   \n",
       "3  We are looking for respectful guests to share ...           1        1.0   \n",
       "4  I would like that my guests feel like at their...           2        1.0   \n",
       "\n",
       "   bedrooms  beds  price  ...  cancellation_policy_moderate  \\\n",
       "0       1.0   1.0   39.0  ...                             0   \n",
       "1       1.0   1.0   45.0  ...                             0   \n",
       "2       1.0   2.0   60.0  ...                             0   \n",
       "3       1.0   1.0   55.0  ...                             0   \n",
       "4       1.0   1.0   75.0  ...                             1   \n",
       "\n",
       "   cancellation_policy_strict  room_type_entire_home/apt  \\\n",
       "0                           0                          0   \n",
       "1                           0                          0   \n",
       "2                           0                          0   \n",
       "3                           0                          0   \n",
       "4                           0                          1   \n",
       "\n",
       "   room_type_private_room  room_type_shared_room  \\\n",
       "0                       1                      0   \n",
       "1                       1                      0   \n",
       "2                       1                      0   \n",
       "3                       1                      0   \n",
       "4                       0                      0   \n",
       "\n",
       "   experiences_offered_business  experiences_offered_family  \\\n",
       "0                             0                           0   \n",
       "1                             0                           0   \n",
       "2                             0                           0   \n",
       "3                             0                           0   \n",
       "4                             0                           0   \n",
       "\n",
       "   experiences_offered_none  experiences_offered_romantic  \\\n",
       "0                         1                             0   \n",
       "1                         1                             0   \n",
       "2                         1                             0   \n",
       "3                         1                             0   \n",
       "4                         1                             0   \n",
       "\n",
       "   experiences_offered_social  \n",
       "0                           0  \n",
       "1                           0  \n",
       "2                           0  \n",
       "3                           0  \n",
       "4                           0  \n",
       "\n",
       "[5 rows x 118 columns]"
      ]
     },
     "execution_count": 7,
     "metadata": {},
     "output_type": "execute_result"
    }
   ],
   "source": [
    "master.head()"
   ]
  },
  {
   "cell_type": "code",
   "execution_count": 8,
   "metadata": {},
   "outputs": [
    {
     "data": {
      "text/plain": [
       "False    118\n",
       "dtype: int64"
      ]
     },
     "execution_count": 8,
     "metadata": {},
     "output_type": "execute_result"
    }
   ],
   "source": [
    "#Checking for any null values\n",
    "(master.isna().sum() > 0).value_counts()"
   ]
  },
  {
   "cell_type": "code",
   "execution_count": 9,
   "metadata": {},
   "outputs": [],
   "source": [
    "#making a copy of master to use for classification modelling\n",
    "deal_df = master.copy()"
   ]
  },
  {
   "cell_type": "code",
   "execution_count": 10,
   "metadata": {},
   "outputs": [
    {
     "name": "stdout",
     "output_type": "stream",
     "text": [
      "title\n",
      "summary\n",
      "description\n",
      "transit\n",
      "house_rules\n",
      "max_guests\n",
      "bathrooms\n",
      "bedrooms\n",
      "beds\n",
      "price\n",
      "cleaning_fee\n",
      "guests_included\n",
      "charge_per_extra_guest\n",
      "total_reviews\n",
      "overall_rating\n",
      "accuracy_rating\n",
      "cleanliness_rating\n",
      "check_in_rating\n",
      "communication_rating\n",
      "location_rating\n",
      "value_rating\n",
      "reviews_per_month\n",
      "beds_per_bedroom\n",
      "max_guests_per_bed\n",
      "included_guests_per_bed\n",
      "add_guests_upsell\n",
      "professionally_managed\n",
      "real_bed\n",
      "relative_avg_price\n",
      "deal_type\n",
      "24-hour_check-in\n",
      "air_conditioning\n",
      "breakfast\n",
      "buzzer/wireless_intercom\n",
      "carbon_monoxide_detector\n",
      "doorman\n",
      "dryer\n",
      "elevator_in_building\n",
      "essentials\n",
      "family/kid_friendly\n",
      "fire_extinguisher\n",
      "first_aid_kit\n",
      "free_parking_on_premises\n",
      "gym\n",
      "heating\n",
      "hot_tub\n",
      "indoor_fireplace\n",
      "internet\n",
      "iron\n",
      "keypad\n",
      "kitchen\n",
      "laptop_friendly_workspace\n",
      "lock_on_bedroom_door\n",
      "other_pet(s)\n",
      "pets_allowed\n",
      "pets_live_on_this_property\n",
      "pool\n",
      "private_entrance\n",
      "private_living_room\n",
      "safety_card\n",
      "self_check-in\n",
      "shampoo\n",
      "smoke_detector\n",
      "smoking_allowed\n",
      "suitable_for_events\n",
      "tv\n",
      "washer\n",
      "wheelchair_accessible\n",
      "wireless_internet\n",
      "host_identity_verified\n",
      "host_is_superhost\n",
      "instant_bookable\n",
      "is_location_exact\n",
      "require_guest_phone_verification\n",
      "require_guest_profile_picture\n",
      "host_response_time_a_few_days_or_more\n",
      "host_response_time_not_available\n",
      "host_response_time_within_a_day\n",
      "host_response_time_within_a_few_hours\n",
      "host_response_time_within_an_hour\n",
      "neighbourhood_barnet\n",
      "neighbourhood_brent\n",
      "neighbourhood_camden\n",
      "neighbourhood_city_of_london\n",
      "neighbourhood_ealing\n",
      "neighbourhood_greenwich\n",
      "neighbourhood_hackney\n",
      "neighbourhood_hammersmith_and_fulham\n",
      "neighbourhood_haringey\n",
      "neighbourhood_hounslow\n",
      "neighbourhood_islington\n",
      "neighbourhood_kensington_and_chelsea\n",
      "neighbourhood_lambeth\n",
      "neighbourhood_lewisham\n",
      "neighbourhood_merton\n",
      "neighbourhood_newham\n",
      "neighbourhood_other\n",
      "neighbourhood_richmond_upon_thames\n",
      "neighbourhood_southwark\n",
      "neighbourhood_tower_hamlets\n",
      "neighbourhood_waltham_forest\n",
      "neighbourhood_wandsworth\n",
      "neighbourhood_westminster\n",
      "property_type_apartment\n",
      "property_type_bed_&_breakfast\n",
      "property_type_house\n",
      "property_type_other\n",
      "cancellation_policy_flexible\n",
      "cancellation_policy_moderate\n",
      "cancellation_policy_strict\n",
      "room_type_entire_home/apt\n",
      "room_type_private_room\n",
      "room_type_shared_room\n",
      "experiences_offered_business\n",
      "experiences_offered_family\n",
      "experiences_offered_none\n",
      "experiences_offered_romantic\n",
      "experiences_offered_social\n"
     ]
    }
   ],
   "source": [
    "#Print all column names to show them all\n",
    "for i in range(0, deal_df.columns.shape[0]):\n",
    "    print (deal_df.columns[i])"
   ]
  },
  {
   "cell_type": "code",
   "execution_count": 11,
   "metadata": {},
   "outputs": [],
   "source": [
    "#Make a list of text columns to drop them\n",
    "drop_col = ['transit', 'house_rules', 'title', 'summary', 'description', 'host_response_time_not_available']"
   ]
  },
  {
   "cell_type": "code",
   "execution_count": 12,
   "metadata": {},
   "outputs": [],
   "source": [
    "deal_df.drop(drop_col, inplace = True, axis = 1)"
   ]
  },
  {
   "cell_type": "code",
   "execution_count": 13,
   "metadata": {},
   "outputs": [
    {
     "data": {
      "text/plain": [
       "(31604, 112)"
      ]
     },
     "execution_count": 13,
     "metadata": {},
     "output_type": "execute_result"
    }
   ],
   "source": [
    "deal_df.shape"
   ]
  },
  {
   "cell_type": "markdown",
   "metadata": {},
   "source": [
    "##### Merging NLP output with probability"
   ]
  },
  {
   "cell_type": "code",
   "execution_count": 14,
   "metadata": {},
   "outputs": [],
   "source": [
    "#loading up \n",
    "text_predictions = pd.read_csv('nlp_predictions.csv')"
   ]
  },
  {
   "cell_type": "code",
   "execution_count": 15,
   "metadata": {},
   "outputs": [
    {
     "data": {
      "text/html": [
       "<div>\n",
       "<style scoped>\n",
       "    .dataframe tbody tr th:only-of-type {\n",
       "        vertical-align: middle;\n",
       "    }\n",
       "\n",
       "    .dataframe tbody tr th {\n",
       "        vertical-align: top;\n",
       "    }\n",
       "\n",
       "    .dataframe thead th {\n",
       "        text-align: right;\n",
       "    }\n",
       "</style>\n",
       "<table border=\"1\" class=\"dataframe\">\n",
       "  <thead>\n",
       "    <tr style=\"text-align: right;\">\n",
       "      <th></th>\n",
       "      <th>nlp_pred_1</th>\n",
       "      <th>nlp_pred_2</th>\n",
       "      <th>nlp_pred_3</th>\n",
       "    </tr>\n",
       "  </thead>\n",
       "  <tbody>\n",
       "    <tr>\n",
       "      <th>0</th>\n",
       "      <td>0.018513</td>\n",
       "      <td>0.860774</td>\n",
       "      <td>0.120713</td>\n",
       "    </tr>\n",
       "    <tr>\n",
       "      <th>1</th>\n",
       "      <td>0.030633</td>\n",
       "      <td>0.584860</td>\n",
       "      <td>0.384508</td>\n",
       "    </tr>\n",
       "    <tr>\n",
       "      <th>2</th>\n",
       "      <td>0.904492</td>\n",
       "      <td>0.064233</td>\n",
       "      <td>0.031275</td>\n",
       "    </tr>\n",
       "    <tr>\n",
       "      <th>3</th>\n",
       "      <td>0.031903</td>\n",
       "      <td>0.850543</td>\n",
       "      <td>0.117554</td>\n",
       "    </tr>\n",
       "    <tr>\n",
       "      <th>4</th>\n",
       "      <td>0.115649</td>\n",
       "      <td>0.619779</td>\n",
       "      <td>0.264572</td>\n",
       "    </tr>\n",
       "  </tbody>\n",
       "</table>\n",
       "</div>"
      ],
      "text/plain": [
       "   nlp_pred_1  nlp_pred_2  nlp_pred_3\n",
       "0    0.018513    0.860774    0.120713\n",
       "1    0.030633    0.584860    0.384508\n",
       "2    0.904492    0.064233    0.031275\n",
       "3    0.031903    0.850543    0.117554\n",
       "4    0.115649    0.619779    0.264572"
      ]
     },
     "execution_count": 15,
     "metadata": {},
     "output_type": "execute_result"
    }
   ],
   "source": [
    "# sneak-peak\n",
    "text_predictions.head()"
   ]
  },
  {
   "cell_type": "code",
   "execution_count": 16,
   "metadata": {},
   "outputs": [],
   "source": [
    "#merge them using concat\n",
    "deal_df = pd.concat([deal_df, text_predictions], axis=1)"
   ]
  },
  {
   "cell_type": "code",
   "execution_count": 17,
   "metadata": {},
   "outputs": [
    {
     "data": {
      "text/plain": [
       "(31604, 115)"
      ]
     },
     "execution_count": 17,
     "metadata": {},
     "output_type": "execute_result"
    }
   ],
   "source": [
    "deal_df.shape"
   ]
  },
  {
   "cell_type": "markdown",
   "metadata": {},
   "source": [
    "#### Check for target class imbalance"
   ]
  },
  {
   "cell_type": "code",
   "execution_count": 18,
   "metadata": {
    "scrolled": false
   },
   "outputs": [
    {
     "data": {
      "text/plain": [
       "<matplotlib.axes._subplots.AxesSubplot at 0x18960bbfb08>"
      ]
     },
     "execution_count": 18,
     "metadata": {},
     "output_type": "execute_result"
    },
    {
     "data": {
      "image/png": "[encoded data removed]",
      "text/plain": [
       "<Figure size 432x288 with 1 Axes>"
      ]
     },
     "metadata": {
      "needs_background": "light"
     },
     "output_type": "display_data"
    }
   ],
   "source": [
    "deal_df.deal_type.value_counts().plot(kind='bar', alpha = 0.5)"
   ]
  },
  {
   "cell_type": "code",
   "execution_count": 19,
   "metadata": {
    "scrolled": true
   },
   "outputs": [
    {
     "data": {
      "text/plain": [
       "Fair         13547\n",
       "Good         10624\n",
       "Expensive     7433\n",
       "Name: deal_type, dtype: int64"
      ]
     },
     "execution_count": 19,
     "metadata": {},
     "output_type": "execute_result"
    }
   ],
   "source": [
    "deal_df.deal_type.value_counts()"
   ]
  },
  {
   "cell_type": "markdown",
   "metadata": {},
   "source": [
    "Lets do random resampling of the target variables to have equal classes.\n",
    "We will use SMOTE method to balance the target variable on our training dataset after the split to ensure the model is trained on balanced data without any data leakage"
   ]
  },
  {
   "cell_type": "markdown",
   "metadata": {},
   "source": [
    "## Train-Test Split\n"
   ]
  },
  {
   "cell_type": "code",
   "execution_count": 20,
   "metadata": {},
   "outputs": [],
   "source": [
    "#Allocating Features and Target variables to X and y \n",
    "X = deal_df.loc[:, deal_df.columns != 'deal_type']\n",
    "y = deal_df['deal_type']\n",
    "\n",
    "# We will stratify in order to ensure our data is evenly split for all deal_types \n",
    "X_train, X_test, y_train, y_test = train_test_split(X, y, test_size = 0.2, stratify = y, random_state = 88)"
   ]
  },
  {
   "cell_type": "code",
   "execution_count": 21,
   "metadata": {},
   "outputs": [],
   "source": [
    "#addressing Imbalance dataset using SMOTE method\n",
    "from imblearn.over_sampling import SMOTE\n",
    "sm = SMOTE(random_state = 8, sampling_strategy = 'all', k_neighbors=3)\n",
    "X_rem, y_rem = sm.fit_sample(X_train, y_train)"
   ]
  },
  {
   "cell_type": "markdown",
   "metadata": {},
   "source": [
    "---\n",
    "\n",
    "Check to make sure our data is in right shape to be fed into ML models."
   ]
  },
  {
   "cell_type": "code",
   "execution_count": 22,
   "metadata": {
    "scrolled": true
   },
   "outputs": [
    {
     "data": {
      "text/plain": [
       "<matplotlib.axes._subplots.AxesSubplot at 0x18963643bc8>"
      ]
     },
     "execution_count": 22,
     "metadata": {},
     "output_type": "execute_result"
    },
    {
     "data": {
      "image/png": "[encoded data removed]",
      "text/plain": [
       "<Figure size 432x288 with 1 Axes>"
      ]
     },
     "metadata": {
      "needs_background": "light"
     },
     "output_type": "display_data"
    }
   ],
   "source": [
    "#Checking to ensure the data are balanced (visuals)\n",
    "y_rem.value_counts().plot(kind='bar', alpha = 0.5)"
   ]
  },
  {
   "cell_type": "code",
   "execution_count": 23,
   "metadata": {
    "scrolled": true
   },
   "outputs": [
    {
     "data": {
      "text/plain": [
       "Expensive    10838\n",
       "Good         10838\n",
       "Fair         10838\n",
       "Name: deal_type, dtype: int64"
      ]
     },
     "execution_count": 23,
     "metadata": {},
     "output_type": "execute_result"
    }
   ],
   "source": [
    "#Checking for training set values.\n",
    "y_rem.value_counts()"
   ]
  },
  {
   "cell_type": "code",
   "execution_count": 24,
   "metadata": {},
   "outputs": [
    {
     "data": {
      "text/plain": [
       "Fair         2709\n",
       "Good         2125\n",
       "Expensive    1487\n",
       "Name: deal_type, dtype: int64"
      ]
     },
     "execution_count": 24,
     "metadata": {},
     "output_type": "execute_result"
    }
   ],
   "source": [
    "#checking for test target to ensure it reflects real world data.\n",
    "y_test.value_counts()"
   ]
  },
  {
   "cell_type": "code",
   "execution_count": 25,
   "metadata": {
    "scrolled": true
   },
   "outputs": [
    {
     "name": "stdout",
     "output_type": "stream",
     "text": [
      "The shape of our features are: (31604, 114)\n",
      "The shape of our features are: (31604,) \n",
      "\n",
      "Training set size:\n",
      "X_rem: (32514, 114)\n",
      "y_rem: (32514,) \n",
      "\n",
      "Testing set size:\n",
      "X_test: (6321, 114)\n",
      "y_test: (6321,)\n"
     ]
    }
   ],
   "source": [
    "#printing complete dataset shape\n",
    "print(f'The shape of our features are: {X.shape}')\n",
    "print(f'The shape of our features are: {y.shape} \\n')\n",
    "\n",
    "\n",
    "# Printing training dataset shape after the split and rebalancing. \n",
    "print('Training set size:')\n",
    "print(f'X_rem: {X_rem.shape}')\n",
    "print(f'y_rem: {y_rem.shape} \\n')\n",
    "\n",
    "\n",
    "# Printing Test dataset shape after the split and rebalancing\n",
    "print('Testing set size:')\n",
    "print(f'X_test: {X_test.shape}')\n",
    "print(f'y_test: {y_test.shape}')"
   ]
  },
  {
   "cell_type": "markdown",
   "metadata": {},
   "source": [
    "---\n",
    "\n",
    "### Modelling with GridSearch Cross-Validation"
   ]
  },
  {
   "cell_type": "markdown",
   "metadata": {},
   "source": [
    "##### Build a pipeline"
   ]
  },
  {
   "cell_type": "code",
   "execution_count": 26,
   "metadata": {},
   "outputs": [],
   "source": [
    "#instantiate pipeline \n",
    "model_pipeline = Pipeline([('scaler', StandardScaler()),('dim_reducer', PCA()), ('model', LogisticRegression())])"
   ]
  },
  {
   "cell_type": "markdown",
   "metadata": {},
   "source": [
    "--- \n",
    "##### Logistic Regression"
   ]
  },
  {
   "cell_type": "code",
   "execution_count": 27,
   "metadata": {},
   "outputs": [],
   "source": [
    "# Intiate a parameter grid for logistic regression\n",
    "logreg_param_grid = [\n",
    "    \n",
    "    {'scaler': [StandardScaler()],\n",
    "    'dim_reducer': [PCA()],\n",
    "    'dim_reducer__n_components': [None],\n",
    "    'model': [LogisticRegression(random_state = 8, n_jobs = -1)],\n",
    "    'model__C': [0.01, 0.1, 1, 10],\n",
    "    'model__solver': ['lbfgs','sag','saga']}\n",
    "]"
   ]
  },
  {
   "cell_type": "markdown",
   "metadata": {},
   "source": [
    "##### Note:\n",
    "No PCA applied by setting `n_components` = `None` as it significantly reduces the prerformance of the model."
   ]
  },
  {
   "cell_type": "code",
   "execution_count": 28,
   "metadata": {},
   "outputs": [],
   "source": [
    "# Instantiate the logistic regression grid search\n",
    "logreg_gs = GridSearchCV(model_pipeline, param_grid=logreg_param_grid, cv=5, verbose=1, scoring = 'accuracy')"
   ]
  },
  {
   "cell_type": "code",
   "execution_count": 29,
   "metadata": {
    "scrolled": true
   },
   "outputs": [
    {
     "name": "stdout",
     "output_type": "stream",
     "text": [
      "Fitting 5 folds for each of 12 candidates, totalling 60 fits\n"
     ]
    },
    {
     "name": "stderr",
     "output_type": "stream",
     "text": [
      "[Parallel(n_jobs=1)]: Using backend SequentialBackend with 1 concurrent workers.\n",
      "[Parallel(n_jobs=1)]: Done  60 out of  60 | elapsed:  6.3min finished\n"
     ]
    },
    {
     "name": "stdout",
     "output_type": "stream",
     "text": [
      "Wall time: 6min 27s\n"
     ]
    }
   ],
   "source": [
    "%%time\n",
    "\n",
    "#Fitting the logistic Regression GridSearch\n",
    "fitted_logreg_gs = logreg_gs.fit(X_rem, y_rem)"
   ]
  },
  {
   "cell_type": "markdown",
   "metadata": {},
   "source": [
    "---"
   ]
  },
  {
   "cell_type": "code",
   "execution_count": 30,
   "metadata": {
    "scrolled": false
   },
   "outputs": [
    {
     "name": "stdout",
     "output_type": "stream",
     "text": [
      "Best Parameters:  {'dim_reducer': PCA(), 'dim_reducer__n_components': None, 'model': LogisticRegression(C=10, n_jobs=-1, random_state=8), 'model__C': 10, 'model__solver': 'lbfgs', 'scaler': StandardScaler()}\n",
      "\n",
      "Best Score:  0.9851142881644718\n"
     ]
    }
   ],
   "source": [
    "#Check for best parameters and best score \n",
    "\n",
    "print(\"Best Parameters: \", fitted_logreg_gs.best_params_)\n",
    "print(\"\\nBest Score: \", fitted_logreg_gs.best_score_)"
   ]
  },
  {
   "cell_type": "code",
   "execution_count": 31,
   "metadata": {},
   "outputs": [],
   "source": [
    "#Use model to predict test set\n",
    "y_pred_logreg = fitted_logreg_gs.predict(X_test)"
   ]
  },
  {
   "cell_type": "code",
   "execution_count": 32,
   "metadata": {},
   "outputs": [
    {
     "name": "stdout",
     "output_type": "stream",
     "text": [
      "Training Score:  0.988220458879252\n",
      "Test Score:  0.8881506090808416\n"
     ]
    }
   ],
   "source": [
    "#Compare Training and Test set scores to ensure we are not over or under-fitting\n",
    "\n",
    "print('Training Score: ', fitted_logreg_gs.score(X_rem,y_rem))\n",
    "print('Test Score: ', fitted_logreg_gs.score(X_test,y_test))"
   ]
  },
  {
   "cell_type": "code",
   "execution_count": 33,
   "metadata": {},
   "outputs": [
    {
     "name": "stdout",
     "output_type": "stream",
     "text": [
      "Classification Report \n",
      "               precision    recall  f1-score   support\n",
      "\n",
      "   Expensive       0.95      0.89      0.92      1487\n",
      "        Fair       0.86      0.89      0.87      2709\n",
      "        Good       0.89      0.88      0.89      2125\n",
      "\n",
      "    accuracy                           0.89      6321\n",
      "   macro avg       0.90      0.89      0.89      6321\n",
      "weighted avg       0.89      0.89      0.89      6321\n",
      "\n"
     ]
    },
    {
     "data": {
      "image/png": "[encoded data removed]",
      "text/plain": [
       "<Figure size 720x360 with 2 Axes>"
      ]
     },
     "metadata": {
      "needs_background": "light"
     },
     "output_type": "display_data"
    }
   ],
   "source": [
    "# Setting up our confusion matrix \n",
    "logreg_confusion_matrix = confusion_matrix(y_test,y_pred_logreg)\n",
    "\n",
    "# Making a DataFrame of Confustion matrix for readability\n",
    "logreg_confusion_matrix = pd.DataFrame(data = logreg_confusion_matrix,\\\n",
    "                                   columns = ['Predicted Expensive', 'Predicted Fair', 'Predicted Good'],\\\n",
    "                                  index = ['True Expensive','True Fair', 'True Good'])\n",
    "\n",
    "# Setting up our classification_report\n",
    "logreg_classification_report = classification_report(y_test,y_pred_logreg)\n",
    "logreg_scores_dict = classification_report(y_test,y_pred_logreg, output_dict = True)\n",
    "\n",
    "# Print Classification report\n",
    "print(f'Classification Report \\n {logreg_classification_report}')\n",
    "\n",
    "# Visualizing the confusion matrix heatmap\n",
    "plt.figure(figsize = (10,5))\n",
    "sns.heatmap(logreg_confusion_matrix, annot = True, cmap='Blues', fmt = 'g')\n",
    "plt.title('Confusion Matrix')\n",
    "plt.show()"
   ]
  },
  {
   "cell_type": "markdown",
   "metadata": {},
   "source": [
    "--- \n",
    "\n",
    "##### Decision Trees\n",
    "\n",
    "---"
   ]
  },
  {
   "cell_type": "code",
   "execution_count": 34,
   "metadata": {},
   "outputs": [],
   "source": [
    "# Intiate a parameter grid for DecisionTreeClassifier\n",
    "dt_param_grid = [\n",
    "    \n",
    "    {'scaler': [None],\n",
    "    'dim_reducer': [PCA()],\n",
    "    'dim_reducer__n_components': [.9,.95,.99],\n",
    "    'model': [DecisionTreeClassifier(random_state = 8)],\n",
    "    'model__max_depth': [5,10,20,30],\n",
    "    'model__max_features': ['auto', 'log2', None]}\n",
    "]"
   ]
  },
  {
   "cell_type": "markdown",
   "metadata": {},
   "source": [
    "##### Note: \n",
    "Scaler is set to none as Decision Trees are immune to scaling. Therefore to save on computational power we will not scale the training data."
   ]
  },
  {
   "cell_type": "code",
   "execution_count": 35,
   "metadata": {},
   "outputs": [],
   "source": [
    "# Instantiate the DecisionTrees Grid Search Cross Validation\n",
    "dt_gs = GridSearchCV(model_pipeline, param_grid=dt_param_grid, cv=5, verbose=1, scoring = 'accuracy')"
   ]
  },
  {
   "cell_type": "code",
   "execution_count": 36,
   "metadata": {
    "scrolled": true
   },
   "outputs": [
    {
     "name": "stdout",
     "output_type": "stream",
     "text": [
      "Fitting 5 folds for each of 36 candidates, totalling 180 fits\n"
     ]
    },
    {
     "name": "stderr",
     "output_type": "stream",
     "text": [
      "[Parallel(n_jobs=1)]: Using backend SequentialBackend with 1 concurrent workers.\n",
      "[Parallel(n_jobs=1)]: Done 180 out of 180 | elapsed:  2.2min finished\n"
     ]
    },
    {
     "name": "stdout",
     "output_type": "stream",
     "text": [
      "Wall time: 2min 12s\n"
     ]
    }
   ],
   "source": [
    "%%time\n",
    "\n",
    "\n",
    "#Fitting the DT GS-CV\n",
    "fitted_dt_gs = dt_gs.fit(X_rem, y_rem)"
   ]
  },
  {
   "cell_type": "markdown",
   "metadata": {},
   "source": [
    "---"
   ]
  },
  {
   "cell_type": "code",
   "execution_count": 37,
   "metadata": {},
   "outputs": [
    {
     "name": "stdout",
     "output_type": "stream",
     "text": [
      "Best Parameters:  {'dim_reducer': PCA(n_components=0.95), 'dim_reducer__n_components': 0.95, 'model': DecisionTreeClassifier(max_depth=20, random_state=8), 'model__max_depth': 20, 'model__max_features': None, 'scaler': None}\n",
      "\n",
      "Best Score:  0.923971724854719\n"
     ]
    }
   ],
   "source": [
    "#Check for best parameters and best score \n",
    "\n",
    "print(\"Best Parameters: \", fitted_dt_gs.best_params_)\n",
    "print(\"\\nBest Score: \", fitted_dt_gs.best_score_)"
   ]
  },
  {
   "cell_type": "code",
   "execution_count": 38,
   "metadata": {},
   "outputs": [],
   "source": [
    "#Use best model to predict test set values\n",
    "\n",
    "y_pred_dt = fitted_dt_gs.predict(X_test)"
   ]
  },
  {
   "cell_type": "code",
   "execution_count": 39,
   "metadata": {},
   "outputs": [
    {
     "name": "stdout",
     "output_type": "stream",
     "text": [
      "Training Score:  0.9993541243771914\n",
      "Test Score:  0.9090333807941782\n"
     ]
    }
   ],
   "source": [
    "#Compare Training and Test set scores to ensure we are not over or under-fitting\n",
    "\n",
    "print('Training Score: ', fitted_dt_gs.score(X_rem,y_rem))\n",
    "print('Test Score: ', fitted_dt_gs.score(X_test,y_test))"
   ]
  },
  {
   "cell_type": "code",
   "execution_count": 40,
   "metadata": {},
   "outputs": [
    {
     "name": "stdout",
     "output_type": "stream",
     "text": [
      "Classification Report \n",
      "               precision    recall  f1-score   support\n",
      "\n",
      "   Expensive       0.92      0.94      0.93      1487\n",
      "        Fair       0.90      0.89      0.89      2709\n",
      "        Good       0.91      0.92      0.92      2125\n",
      "\n",
      "    accuracy                           0.91      6321\n",
      "   macro avg       0.91      0.91      0.91      6321\n",
      "weighted avg       0.91      0.91      0.91      6321\n",
      "\n"
     ]
    },
    {
     "data": {
      "image/png": "[encoded data removed]",
      "text/plain": [
       "<Figure size 720x360 with 2 Axes>"
      ]
     },
     "metadata": {
      "needs_background": "light"
     },
     "output_type": "display_data"
    }
   ],
   "source": [
    "# Setting up our confusion matrix \n",
    "dt_confusion_matrix = confusion_matrix(y_test,y_pred_dt)\n",
    "\n",
    "# Making a DataFrame of Confustion matrix for readability\n",
    "dt_confusion_matrix = pd.DataFrame(data = dt_confusion_matrix,\\\n",
    "                                   columns = ['Predicted Expensive', 'Predicted Fair', 'Predicted Good'],\\\n",
    "                                  index = ['True Expensive','True Fair', 'True Good'])\n",
    "\n",
    "# Setting up classification_report for decision tree model\n",
    "dt_classification_report = classification_report(y_test,y_pred_dt)\n",
    "dt_scores_dict = classification_report(y_test,y_pred_dt, output_dict = True)\n",
    "\n",
    "# Printing classification report\n",
    "print(f'Classification Report \\n {dt_classification_report}')\n",
    "\n",
    "# Visualizing the confusion matrix heatmap\n",
    "plt.figure(figsize = (10,5))\n",
    "sns.heatmap(dt_confusion_matrix, annot = True, cmap='YlOrBr', fmt = 'g')\n",
    "plt.title('Confusion Matrix')\n",
    "plt.show()"
   ]
  },
  {
   "cell_type": "markdown",
   "metadata": {},
   "source": [
    "---\n",
    "\n",
    "##### RandomForestClassifier\n",
    "\n",
    "---"
   ]
  },
  {
   "cell_type": "code",
   "execution_count": 41,
   "metadata": {},
   "outputs": [],
   "source": [
    "# Intiate a parameter grid for Random Forest Classifier\n",
    "\n",
    "rf_param_grid = [\n",
    "    \n",
    "    {'scaler': [None],\n",
    "    'dim_reducer': [PCA()],\n",
    "    'dim_reducer__n_components': [.9,.95,.99],\n",
    "    'model': [RandomForestClassifier(random_state = 8, n_jobs = -1)],\n",
    "    'model__max_depth': [5,10,20,30],\n",
    "    'model__n_estimators': [100,200,300,400]}\n",
    "]"
   ]
  },
  {
   "cell_type": "markdown",
   "metadata": {},
   "source": [
    "##### Note: \n",
    "Scaler is set to none as Decision Trees are immune to scaling. Therefore to save on computational power we will not scale the training data."
   ]
  },
  {
   "cell_type": "markdown",
   "metadata": {},
   "source": [
    "##### Note: \n",
    "Scaler is set to None as RandomForests are immune to scaling. Therefore to save on computational power we will not scale the training data."
   ]
  },
  {
   "cell_type": "code",
   "execution_count": 42,
   "metadata": {},
   "outputs": [],
   "source": [
    "# Instantiate the logistic regression grid search\n",
    "rf_gs = GridSearchCV(model_pipeline, param_grid=rf_param_grid, cv=5, verbose=1, scoring = 'accuracy')"
   ]
  },
  {
   "cell_type": "code",
   "execution_count": 43,
   "metadata": {
    "scrolled": true
   },
   "outputs": [
    {
     "name": "stdout",
     "output_type": "stream",
     "text": [
      "Fitting 5 folds for each of 48 candidates, totalling 240 fits\n"
     ]
    },
    {
     "name": "stderr",
     "output_type": "stream",
     "text": [
      "[Parallel(n_jobs=1)]: Using backend SequentialBackend with 1 concurrent workers.\n",
      "[Parallel(n_jobs=1)]: Done 240 out of 240 | elapsed: 22.6min finished\n"
     ]
    },
    {
     "name": "stdout",
     "output_type": "stream",
     "text": [
      "Wall time: 22min 50s\n"
     ]
    }
   ],
   "source": [
    "%%time\n",
    "\n",
    "\n",
    "#Fitting the logistic Reg GS\n",
    "fitted_rf_gs = rf_gs.fit(X_rem, y_rem)"
   ]
  },
  {
   "cell_type": "markdown",
   "metadata": {},
   "source": [
    "---"
   ]
  },
  {
   "cell_type": "code",
   "execution_count": 44,
   "metadata": {},
   "outputs": [
    {
     "name": "stdout",
     "output_type": "stream",
     "text": [
      "Best Parameters:  {'dim_reducer': PCA(n_components=0.95), 'dim_reducer__n_components': 0.95, 'model': RandomForestClassifier(max_depth=30, n_estimators=400, n_jobs=-1,\n",
      "                       random_state=8), 'model__max_depth': 30, 'model__n_estimators': 400, 'scaler': None}\n",
      "\n",
      "Best Score:  0.954912010182178\n"
     ]
    }
   ],
   "source": [
    "#Check for best parameters and best score \n",
    "\n",
    "print(\"Best Parameters: \", fitted_rf_gs.best_params_)\n",
    "print(\"\\nBest Score: \", fitted_rf_gs.best_score_)"
   ]
  },
  {
   "cell_type": "code",
   "execution_count": 45,
   "metadata": {},
   "outputs": [],
   "source": [
    "#Use best model to predict test set values\n",
    "\n",
    "y_pred_rf = fitted_rf_gs.predict(X_test)"
   ]
  },
  {
   "cell_type": "code",
   "execution_count": 46,
   "metadata": {},
   "outputs": [
    {
     "name": "stdout",
     "output_type": "stream",
     "text": [
      "Training Score:  1.0\n",
      "Test Score:  0.9398829299161525\n"
     ]
    }
   ],
   "source": [
    "#Compare Training and Test set scores to ensure we are not over or under-fitting\n",
    "\n",
    "print('Training Score: ', fitted_rf_gs.score(X_rem,y_rem))\n",
    "print('Test Score: ', fitted_rf_gs.score(X_test,y_test))"
   ]
  },
  {
   "cell_type": "code",
   "execution_count": 47,
   "metadata": {
    "scrolled": true
   },
   "outputs": [
    {
     "name": "stdout",
     "output_type": "stream",
     "text": [
      "Classification Report \n",
      "               precision    recall  f1-score   support\n",
      "\n",
      "   Expensive       0.95      0.95      0.95      1487\n",
      "        Fair       0.93      0.93      0.93      2709\n",
      "        Good       0.94      0.95      0.94      2125\n",
      "\n",
      "    accuracy                           0.94      6321\n",
      "   macro avg       0.94      0.94      0.94      6321\n",
      "weighted avg       0.94      0.94      0.94      6321\n",
      "\n"
     ]
    },
    {
     "data": {
      "image/png": "[encoded data removed]",
      "text/plain": [
       "<Figure size 720x360 with 2 Axes>"
      ]
     },
     "metadata": {
      "needs_background": "light"
     },
     "output_type": "display_data"
    }
   ],
   "source": [
    "# Setting up our confusion matrix \n",
    "rf_confusion_matrix = confusion_matrix(y_test,y_pred_rf)\n",
    "\n",
    "# Making a DataFrame of Confustion matrix for readability\n",
    "rf_confusion_matrix = pd.DataFrame(data = rf_confusion_matrix,\\\n",
    "                                   columns = ['Predicted Expensive', 'Predicted Fair', 'Predicted Good'],\\\n",
    "                                  index = ['True Expensive','True Fair', 'True Good'])\n",
    "\n",
    "# Setting up our classification_report\n",
    "rf_classification_report = classification_report(y_test,y_pred_rf)\n",
    "rf_scores_dict = classification_report(y_test,y_pred_rf, output_dict = True)\n",
    "\n",
    "# Printing classification report\n",
    "print(f'Classification Report \\n {rf_classification_report}')\n",
    "\n",
    "# Visualizing the confusion matrix heatmap\n",
    "plt.figure(figsize = (10,5))\n",
    "sns.heatmap(rf_confusion_matrix, annot = True, cmap='Reds', fmt = 'g')\n",
    "plt.title('Confusion Matrix')\n",
    "plt.show()"
   ]
  },
  {
   "cell_type": "markdown",
   "metadata": {},
   "source": [
    "---\n",
    "\n",
    "##### KNNs\n",
    "\n",
    "---"
   ]
  },
  {
   "cell_type": "code",
   "execution_count": 48,
   "metadata": {},
   "outputs": [],
   "source": [
    "knn_param_grid = [\n",
    "    \n",
    "    {'scaler': [StandardScaler()],\n",
    "    'dim_reducer': [PCA()],\n",
    "    'dim_reducer__n_components': [0.9,0.95,0.99],\n",
    "    'model': [KNeighborsClassifier(n_jobs = -1)],\n",
    "    'model__n_neighbors': [3,5,7,9],\n",
    "    'model__weights': ['uniform', 'distance']}\n",
    "]"
   ]
  },
  {
   "cell_type": "code",
   "execution_count": 49,
   "metadata": {},
   "outputs": [],
   "source": [
    "# Instantiate the logistic regression grid search\n",
    "knn_gs = GridSearchCV(model_pipeline, param_grid = knn_param_grid, cv=5, verbose=1, scoring = 'accuracy')"
   ]
  },
  {
   "cell_type": "code",
   "execution_count": 50,
   "metadata": {
    "scrolled": true
   },
   "outputs": [
    {
     "name": "stdout",
     "output_type": "stream",
     "text": [
      "Fitting 5 folds for each of 24 candidates, totalling 120 fits\n"
     ]
    },
    {
     "name": "stderr",
     "output_type": "stream",
     "text": [
      "[Parallel(n_jobs=1)]: Using backend SequentialBackend with 1 concurrent workers.\n",
      "[Parallel(n_jobs=1)]: Done 120 out of 120 | elapsed: 38.4min finished\n"
     ]
    },
    {
     "name": "stdout",
     "output_type": "stream",
     "text": [
      "Wall time: 38min 27s\n"
     ]
    }
   ],
   "source": [
    "%%time\n",
    "\n",
    "\n",
    "#Fitting the logistic Reg GS\n",
    "fitted_knn_gs = knn_gs.fit(X_rem, y_rem)"
   ]
  },
  {
   "cell_type": "markdown",
   "metadata": {},
   "source": [
    "---"
   ]
  },
  {
   "cell_type": "code",
   "execution_count": 51,
   "metadata": {
    "scrolled": true
   },
   "outputs": [
    {
     "name": "stdout",
     "output_type": "stream",
     "text": [
      "Best Parameters:  {'dim_reducer': PCA(n_components=0.9), 'dim_reducer__n_components': 0.9, 'model': KNeighborsClassifier(n_jobs=-1, n_neighbors=9, weights='distance'), 'model__n_neighbors': 9, 'model__weights': 'distance', 'scaler': StandardScaler()}\n",
      "\n",
      "Best Score:  0.8195858306033234\n"
     ]
    }
   ],
   "source": [
    "#Check for best parameters and best score \n",
    "\n",
    "print(\"Best Parameters: \", fitted_knn_gs.best_params_)\n",
    "print(\"\\nBest Score: \", fitted_knn_gs.best_score_)"
   ]
  },
  {
   "cell_type": "code",
   "execution_count": 52,
   "metadata": {},
   "outputs": [],
   "source": [
    "#Use best model to predict test set values\n",
    "\n",
    "y_pred_knn = fitted_knn_gs.predict(X_test)"
   ]
  },
  {
   "cell_type": "code",
   "execution_count": 53,
   "metadata": {},
   "outputs": [
    {
     "name": "stdout",
     "output_type": "stream",
     "text": [
      "Training Score:  1.0\n",
      "Test Score:  0.5272899857617466\n"
     ]
    }
   ],
   "source": [
    "#Compare Training and Test set scores to ensure we are not over or under-fitting\n",
    "\n",
    "print('Training Score: ', fitted_knn_gs.score(X_rem,y_rem))\n",
    "print('Test Score: ', fitted_knn_gs.score(X_test,y_test))"
   ]
  },
  {
   "cell_type": "code",
   "execution_count": 54,
   "metadata": {},
   "outputs": [
    {
     "name": "stdout",
     "output_type": "stream",
     "text": [
      "Classification Report \n",
      "               precision    recall  f1-score   support\n",
      "\n",
      "   Expensive       0.54      0.40      0.46      1487\n",
      "        Fair       0.51      0.58      0.55      2709\n",
      "        Good       0.54      0.55      0.54      2125\n",
      "\n",
      "    accuracy                           0.53      6321\n",
      "   macro avg       0.53      0.51      0.52      6321\n",
      "weighted avg       0.53      0.53      0.52      6321\n",
      "\n"
     ]
    },
    {
     "data": {
      "image/png": "[encoded data removed]",
      "text/plain": [
       "<Figure size 720x360 with 2 Axes>"
      ]
     },
     "metadata": {
      "needs_background": "light"
     },
     "output_type": "display_data"
    }
   ],
   "source": [
    "# Setting up our confusion matrix \n",
    "knn_confusion_matrix = confusion_matrix(y_test,y_pred_knn)\n",
    "\n",
    "# Putting the confusion matrix in a DataFrame\n",
    "knn_confusion_matrix = pd.DataFrame(data = knn_confusion_matrix,\\\n",
    "                                   columns = ['Predicted Expensive', 'Predicted Fair', 'Predicted Good'],\\\n",
    "                                  index = ['True Expensive','True Fair', 'True Good'])\n",
    "\n",
    "# Setting up our classification_report\n",
    "knn_classification_report = classification_report(y_test,y_pred_knn)\n",
    "knn_scores_dict = classification_report(y_test,y_pred_knn, output_dict = True)\n",
    "\n",
    "# Printing classification report\n",
    "print(f'Classification Report \\n {knn_classification_report}')\n",
    "\n",
    "# Visualizing the heatmap\n",
    "plt.figure(figsize = (10,5))\n",
    "sns.heatmap(knn_confusion_matrix, annot = True, cmap='Greys', fmt = 'g')\n",
    "plt.title('Confusion Matrix')\n",
    "plt.show()"
   ]
  },
  {
   "cell_type": "markdown",
   "metadata": {},
   "source": [
    "   "
   ]
  },
  {
   "cell_type": "markdown",
   "metadata": {},
   "source": [
    "---\n",
    "\n",
    "##### Supprt Vector Classification (SVC)\n",
    "\n",
    "---"
   ]
  },
  {
   "cell_type": "code",
   "execution_count": 55,
   "metadata": {},
   "outputs": [],
   "source": [
    "# Intiate a parameter grid for SVC \n",
    "\n",
    "svm_param_grid = [\n",
    "    \n",
    "    {'scaler': [StandardScaler()],\n",
    "    'dim_reducer': [PCA()],\n",
    "    'dim_reducer__n_components': [None],\n",
    "    'model': [SVC(random_state = 8)],\n",
    "    'model__C': [0.1,1,10],\n",
    "    'model__kernel': ['rbf', 'sigmoid'],\n",
    "    'model__gamma': ['auto', 'scale']}\n",
    "]"
   ]
  },
  {
   "cell_type": "markdown",
   "metadata": {},
   "source": [
    "##### Note:\n",
    "No PCA applied by setting `n_components` = `None` as it significantly reduces the prerformance of the model."
   ]
  },
  {
   "cell_type": "code",
   "execution_count": 56,
   "metadata": {},
   "outputs": [],
   "source": [
    "# Instantiate the logistic regression grid search\n",
    "svm_gs = GridSearchCV(model_pipeline, param_grid=svm_param_grid, cv=5, verbose=1, scoring = 'accuracy')"
   ]
  },
  {
   "cell_type": "code",
   "execution_count": 57,
   "metadata": {
    "scrolled": true
   },
   "outputs": [
    {
     "name": "stdout",
     "output_type": "stream",
     "text": [
      "Fitting 5 folds for each of 12 candidates, totalling 60 fits\n"
     ]
    },
    {
     "name": "stderr",
     "output_type": "stream",
     "text": [
      "[Parallel(n_jobs=1)]: Using backend SequentialBackend with 1 concurrent workers.\n",
      "[Parallel(n_jobs=1)]: Done  60 out of  60 | elapsed: 51.4min finished\n"
     ]
    },
    {
     "name": "stdout",
     "output_type": "stream",
     "text": [
      "Wall time: 54min 18s\n"
     ]
    }
   ],
   "source": [
    "%%time\n",
    "\n",
    "\n",
    "#Fitting the logistic Reg GS\n",
    "fitted_svm_gs = svm_gs.fit(X_rem, y_rem)"
   ]
  },
  {
   "cell_type": "markdown",
   "metadata": {},
   "source": [
    "---\n"
   ]
  },
  {
   "cell_type": "code",
   "execution_count": 58,
   "metadata": {},
   "outputs": [
    {
     "name": "stdout",
     "output_type": "stream",
     "text": [
      "Best Parameters:  {'dim_reducer': PCA(), 'dim_reducer__n_components': None, 'model': SVC(C=10, gamma='auto', random_state=8), 'model__C': 10, 'model__gamma': 'auto', 'model__kernel': 'rbf', 'scaler': StandardScaler()}\n",
      "\n",
      "Best Score:  0.9582648247007877\n"
     ]
    }
   ],
   "source": [
    "#Check for best parameters and best score \n",
    "\n",
    "print(\"Best Parameters: \", fitted_svm_gs.best_params_)\n",
    "print(\"\\nBest Score: \", fitted_svm_gs.best_score_)"
   ]
  },
  {
   "cell_type": "code",
   "execution_count": 59,
   "metadata": {},
   "outputs": [],
   "source": [
    "#Use best model to predict test set values\n",
    "\n",
    "y_pred_svm = fitted_svm_gs.predict(X_test)"
   ]
  },
  {
   "cell_type": "code",
   "execution_count": 60,
   "metadata": {},
   "outputs": [
    {
     "name": "stdout",
     "output_type": "stream",
     "text": [
      "Training Score:  0.9988927846466138\n",
      "Test Score:  0.7060591678531878\n"
     ]
    }
   ],
   "source": [
    "#Compare Training and Test set scores to ensure we are not over or under-fitting\n",
    "\n",
    "print('Training Score: ', fitted_svm_gs.score(X_rem,y_rem))\n",
    "print('Test Score: ', fitted_svm_gs.score(X_test,y_test))"
   ]
  },
  {
   "cell_type": "code",
   "execution_count": 61,
   "metadata": {},
   "outputs": [
    {
     "name": "stdout",
     "output_type": "stream",
     "text": [
      "Classification Report \n",
      "               precision    recall  f1-score   support\n",
      "\n",
      "   Expensive       0.78      0.65      0.71      1487\n",
      "        Fair       0.65      0.74      0.69      2709\n",
      "        Good       0.75      0.71      0.73      2125\n",
      "\n",
      "    accuracy                           0.71      6321\n",
      "   macro avg       0.73      0.70      0.71      6321\n",
      "weighted avg       0.71      0.71      0.71      6321\n",
      "\n"
     ]
    },
    {
     "data": {
      "image/png": "[encoded data removed]",
      "text/plain": [
       "<Figure size 720x360 with 2 Axes>"
      ]
     },
     "metadata": {
      "needs_background": "light"
     },
     "output_type": "display_data"
    }
   ],
   "source": [
    "# Setting up our confusion matrix \n",
    "svm_confusion_matrix = confusion_matrix(y_test,y_pred_svm)\n",
    "\n",
    "# Putting the confusion matrix in a DataFrame\n",
    "svm_confusion_matrix = pd.DataFrame(data = svm_confusion_matrix,\\\n",
    "                                   columns = ['Predicted Expensive', 'Predicted Fair', 'Predicted Good'],\\\n",
    "                                  index = ['True Expensive','True Fair', 'True Good'])\n",
    "\n",
    "# Setting up our classification_report\n",
    "svm_classification_report = classification_report(y_test,y_pred_svm)\n",
    "svm_scores_dict = classification_report(y_test,y_pred_svm, output_dict = True)\n",
    "\n",
    "# Printing classification report\n",
    "print(f'Classification Report \\n {svm_classification_report}')\n",
    "\n",
    "# Visualizing the heatmap\n",
    "plt.figure(figsize = (10,5))\n",
    "sns.heatmap(svm_confusion_matrix, annot = True, cmap='Purples', fmt = 'g')\n",
    "plt.title('Confusion Matrix')\n",
    "plt.show()"
   ]
  },
  {
   "cell_type": "markdown",
   "metadata": {},
   "source": [
    "---\n",
    "##### AdaBoost Classifier\n",
    "---"
   ]
  },
  {
   "cell_type": "code",
   "execution_count": 62,
   "metadata": {},
   "outputs": [],
   "source": [
    "# Intiate a parameter grid for AdaBoost Classifier\n",
    "\n",
    "ada_param_grid = [\n",
    "    \n",
    "    {'scaler': [None],\n",
    "    'dim_reducer': [PCA()],\n",
    "    'dim_reducer__n_components': [None],\n",
    "    'model': [AdaBoostClassifier(random_state = 8)],\n",
    "    'model__n_estimators': [200,400,600],\n",
    "    'model__learning_rate': [0.5,1,1.5]}\n",
    "]"
   ]
  },
  {
   "cell_type": "markdown",
   "metadata": {},
   "source": [
    "##### Note:\n",
    "- No PCA dimension reduction applied by setting `n_components` = `None` asit significantly reduces the prerformance of the model.\n",
    "\n",
    "- Scaler is set to None as AdaBoost algorithms are immune to scaling. Therefore to save on computational power we will not scale the training data."
   ]
  },
  {
   "cell_type": "code",
   "execution_count": 63,
   "metadata": {},
   "outputs": [],
   "source": [
    "# Instantiate the logistic regression grid search\n",
    "\n",
    "ada_gs = GridSearchCV(model_pipeline, param_grid=ada_param_grid, cv=5, verbose=1, scoring = 'accuracy')"
   ]
  },
  {
   "cell_type": "code",
   "execution_count": 64,
   "metadata": {
    "scrolled": true
   },
   "outputs": [
    {
     "name": "stdout",
     "output_type": "stream",
     "text": [
      "Fitting 5 folds for each of 9 candidates, totalling 45 fits\n"
     ]
    },
    {
     "name": "stderr",
     "output_type": "stream",
     "text": [
      "[Parallel(n_jobs=1)]: Using backend SequentialBackend with 1 concurrent workers.\n",
      "[Parallel(n_jobs=1)]: Done  45 out of  45 | elapsed: 221.1min finished\n"
     ]
    },
    {
     "name": "stdout",
     "output_type": "stream",
     "text": [
      "Wall time: 3h 48min 41s\n"
     ]
    }
   ],
   "source": [
    "%%time\n",
    "\n",
    "\n",
    "#Fitting the logistic Reg GS\n",
    "fitted_ada_gs = ada_gs.fit(X_rem, y_rem)"
   ]
  },
  {
   "cell_type": "markdown",
   "metadata": {},
   "source": [
    "---"
   ]
  },
  {
   "cell_type": "code",
   "execution_count": 65,
   "metadata": {},
   "outputs": [
    {
     "name": "stdout",
     "output_type": "stream",
     "text": [
      "Best Parameters:  {'dim_reducer': PCA(), 'dim_reducer__n_components': None, 'model': AdaBoostClassifier(learning_rate=0.5, n_estimators=600, random_state=8), 'model__learning_rate': 0.5, 'model__n_estimators': 600, 'scaler': None}\n",
      "Best Score:  0.9680759035427087\n"
     ]
    }
   ],
   "source": [
    "#Check for best parameters and best score \n",
    "\n",
    "print(\"Best Parameters: \", fitted_ada_gs.best_params_)\n",
    "print(\"Best Score: \", fitted_ada_gs.best_score_)"
   ]
  },
  {
   "cell_type": "code",
   "execution_count": 66,
   "metadata": {},
   "outputs": [],
   "source": [
    "#Use best model to predict test set values\n",
    "\n",
    "y_pred_ada = fitted_ada_gs.predict(X_test)"
   ]
  },
  {
   "cell_type": "code",
   "execution_count": 67,
   "metadata": {},
   "outputs": [
    {
     "name": "stdout",
     "output_type": "stream",
     "text": [
      "Training Score:  0.976194869902196\n",
      "Test Score:  0.8485999050783104\n"
     ]
    }
   ],
   "source": [
    "#Compare Training and Test set scores to ensure we are not over or under-fitting\n",
    "\n",
    "print('Training Score: ', fitted_ada_gs.score(X_rem,y_rem))\n",
    "print('Test Score: ', fitted_ada_gs.score(X_test,y_test))"
   ]
  },
  {
   "cell_type": "code",
   "execution_count": 68,
   "metadata": {},
   "outputs": [
    {
     "name": "stdout",
     "output_type": "stream",
     "text": [
      "Classification Report \n",
      "               precision    recall  f1-score   support\n",
      "\n",
      "   Expensive       0.96      0.82      0.88      1487\n",
      "        Fair       0.77      0.92      0.84      2709\n",
      "        Good       0.91      0.78      0.84      2125\n",
      "\n",
      "    accuracy                           0.85      6321\n",
      "   macro avg       0.88      0.84      0.85      6321\n",
      "weighted avg       0.86      0.85      0.85      6321\n",
      "\n"
     ]
    },
    {
     "data": {
      "image/png": "[encoded data removed]",
      "text/plain": [
       "<Figure size 720x360 with 2 Axes>"
      ]
     },
     "metadata": {
      "needs_background": "light"
     },
     "output_type": "display_data"
    }
   ],
   "source": [
    "# Setting up our confusion matrix \n",
    "ada_confusion_matrix = confusion_matrix(y_test,y_pred_ada)\n",
    "\n",
    "# Putting the confusion matrix in a DataFrame\n",
    "ada_confusion_matrix = pd.DataFrame(data = ada_confusion_matrix,\\\n",
    "                                   columns = ['Predicted Expensive', 'Predicted Fair', 'Predicted Good'],\\\n",
    "                                  index = ['True Expensive','True Fair', 'True Good'])\n",
    "\n",
    "# Setting up our classification_report\n",
    "ada_classification_report = classification_report(y_test,y_pred_ada)\n",
    "ada_scores_dict = classification_report(y_test,y_pred_ada, output_dict = True)\n",
    "\n",
    "# Printing classification report\n",
    "print(f'Classification Report \\n {ada_classification_report}')\n",
    "\n",
    "# Visualizing the heatmap\n",
    "plt.figure(figsize = (10,5))\n",
    "sns.heatmap(ada_confusion_matrix, annot = True, cmap='Greens', fmt = 'g')\n",
    "plt.title('Confusion Matrix')\n",
    "plt.show()"
   ]
  },
  {
   "cell_type": "markdown",
   "metadata": {},
   "source": [
    "----\n",
    "\n",
    "---"
   ]
  },
  {
   "cell_type": "markdown",
   "metadata": {},
   "source": [
    "### Summary"
   ]
  },
  {
   "cell_type": "code",
   "execution_count": 69,
   "metadata": {},
   "outputs": [],
   "source": [
    "#intialize a dataframe to store all results\n",
    "model_names = ['Logistic Regression', 'Decision Trees', 'Random Forest', 'KNNs', 'SVC', 'AdaBoost']\n",
    "results = pd.DataFrame(columns = ['Accuracy', 'Recall', 'Precision', 'F1_score'], index = model_names)"
   ]
  },
  {
   "cell_type": "code",
   "execution_count": 70,
   "metadata": {},
   "outputs": [],
   "source": [
    "#Write a loop to summarize all results by using confusion matrix dictionaries\n",
    "reports = [logreg_scores_dict, dt_scores_dict, rf_scores_dict, knn_scores_dict, svm_scores_dict, ada_scores_dict]\n",
    "\n",
    "for row in range(0,results.shape[0]):\n",
    "    results.Accuracy[row] = round(reports[row]['accuracy'],3)\n",
    "    results.Recall[row] = round(reports[row]['macro avg']['recall'],3)\n",
    "    results.Precision[row] = round(reports[row]['macro avg']['precision'],3)\n",
    "    results.F1_score[row] = round(reports[row]['macro avg']['f1-score'],3)"
   ]
  },
  {
   "cell_type": "code",
   "execution_count": 71,
   "metadata": {},
   "outputs": [
    {
     "data": {
      "image/png": "[encoded data removed]",
      "text/plain": [
       "<Figure size 720x360 with 2 Axes>"
      ]
     },
     "metadata": {
      "needs_background": "light"
     },
     "output_type": "display_data"
    }
   ],
   "source": [
    "#display the results\n",
    "results = results.astype('float')\n",
    "plt.figure(figsize = (10,5))\n",
    "sns.heatmap(results, annot = True, cmap='RdYlGn', fmt = 'g')\n",
    "plt.title('Scores Summary')\n",
    "plt.show()"
   ]
  },
  {
   "cell_type": "markdown",
   "metadata": {},
   "source": [
    "\n",
    "\n",
    "---\n",
    "\n",
    "The text only results show `LogisticRegression` performed the best in all key metrics with `KNNs` performing the worst with merely a 47% accuracy. All other models also had a 90+% in all metrics except `Support Vector Classifier` which lagged behind around 85% for all metrics. We will continue to evaluate and see if the text data will give any support to our model and provide any further improvements in our predictions. "
   ]
  },
  {
   "cell_type": "markdown",
   "metadata": {},
   "source": [
    "#### Saving top 3 models with best results"
   ]
  },
  {
   "cell_type": "code",
   "execution_count": null,
   "metadata": {},
   "outputs": [],
   "source": [
    "# importing joblib to save models \n",
    "from joblib import dump, load"
   ]
  },
  {
   "cell_type": "code",
   "execution_count": 72,
   "metadata": {},
   "outputs": [
    {
     "ename": "NameError",
     "evalue": "name 'dump' is not defined",
     "output_type": "error",
     "traceback": [
      "\u001b[1;31m---------------------------------------------------------------------------\u001b[0m",
      "\u001b[1;31mNameError\u001b[0m                                 Traceback (most recent call last)",
      "\u001b[1;32m<ipython-input-72-fac0d68d2828>\u001b[0m in \u001b[0;36m<module>\u001b[1;34m\u001b[0m\n\u001b[1;32m----> 1\u001b[1;33m \u001b[0mdump\u001b[0m\u001b[1;33m(\u001b[0m\u001b[0mfitted_logreg_gs\u001b[0m\u001b[1;33m,\u001b[0m \u001b[1;34m'all_feat_models/all_feat_logreg.joblib'\u001b[0m\u001b[1;33m)\u001b[0m\u001b[1;33m\u001b[0m\u001b[1;33m\u001b[0m\u001b[0m\n\u001b[0m\u001b[0;32m      2\u001b[0m \u001b[0mdump\u001b[0m\u001b[1;33m(\u001b[0m\u001b[0mfitted_rf_gs\u001b[0m\u001b[1;33m,\u001b[0m \u001b[1;34m'all_feat_models/all_feat_rf.joblib'\u001b[0m\u001b[1;33m)\u001b[0m\u001b[1;33m\u001b[0m\u001b[1;33m\u001b[0m\u001b[0m\n\u001b[0;32m      3\u001b[0m \u001b[0mdump\u001b[0m\u001b[1;33m(\u001b[0m\u001b[0mfitted_ada_gs\u001b[0m\u001b[1;33m,\u001b[0m \u001b[1;34m'all_feat_models/all_feat_adaboost.joblib'\u001b[0m\u001b[1;33m)\u001b[0m\u001b[1;33m\u001b[0m\u001b[1;33m\u001b[0m\u001b[0m\n",
      "\u001b[1;31mNameError\u001b[0m: name 'dump' is not defined"
     ]
    }
   ],
   "source": [
    "dump(fitted_logreg_gs, 'all_feat_models/all_feat_logreg.joblib') \n",
    "dump(fitted_rf_gs, 'all_feat_models/all_feat_rf.joblib') \n",
    "dump(fitted_ada_gs, 'all_feat_models/all_feat_adaboost.joblib') "
   ]
  },
  {
   "cell_type": "markdown",
   "metadata": {},
   "source": [
    "### Fin."
   ]
  }
 ],
 "metadata": {
  "kernelspec": {
   "display_name": "Python 3",
   "language": "python",
   "name": "python3"
  },
  "language_info": {
   "codemirror_mode": {
    "name": "ipython",
    "version": 3
   },
   "file_extension": ".py",
   "mimetype": "text/x-python",
   "name": "python",
   "nbconvert_exporter": "python",
   "pygments_lexer": "ipython3",
   "version": "3.7.6"
  }
 },
 "nbformat": 4,
 "nbformat_minor": 4
}
