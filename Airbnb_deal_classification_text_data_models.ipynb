{
 "cells": [
  {
   "cell_type": "markdown",
   "metadata": {},
   "source": [
    "#### Notebook Objective:\n",
    "This notebook is aimed at evaluating if the **description, summary or title text data** is able to classify the `deal_type`. The idea is to determine if simply looking at the text can help us make better predictions than randomly guessing."
   ]
  },
  {
   "cell_type": "markdown",
   "metadata": {},
   "source": [
    "---"
   ]
  },
  {
   "cell_type": "markdown",
   "metadata": {},
   "source": [
    "#### Import Libraries"
   ]
  },
  {
   "cell_type": "code",
   "execution_count": 1,
   "metadata": {},
   "outputs": [],
   "source": [
    "# Basic Data science libraries\n",
    "import numpy as np\n",
    "import pandas as pd\n",
    "import matplotlib.pyplot as plt\n",
    "%matplotlib inline\n",
    "import seaborn as sns"
   ]
  },
  {
   "cell_type": "code",
   "execution_count": 2,
   "metadata": {},
   "outputs": [],
   "source": [
    "#Importing NLP libraries\n",
    "\n",
    "# Importing wordcloud and its necessary stopwords package\n",
    "from wordcloud import WordCloud, STOPWORDS \n",
    "\n",
    "# Natural Language Processing Tool Kit Imports\n",
    "# Importing Natural Language ToolKit and its essential packages\n",
    "import nltk\n",
    "\n",
    "# For seeing and removing stopwords\n",
    "from nltk.corpus import stopwords \n",
    "\n",
    "# For lemmatizing our words \n",
    "from nltk.stem import WordNetLemmatizer\n",
    "\n",
    "# For stemming our words \n",
    "from nltk.stem import PorterStemmer\n",
    "\n",
    "# for cleaning punctuations\n",
    "import string \n",
    "\n",
    "# Regex libraries\n",
    "import re\n",
    "\n",
    "# For tokenizations\n",
    "from sklearn.feature_extraction.text import CountVectorizer\n",
    "from sklearn.feature_extraction.text import TfidfVectorizer"
   ]
  },
  {
   "cell_type": "code",
   "execution_count": 3,
   "metadata": {},
   "outputs": [],
   "source": [
    "#Modelling Libraries\n",
    "\n",
    "#Train-test split\n",
    "from sklearn.model_selection import train_test_split\n",
    "\n",
    "# Standard scaler for importing libraries\n",
    "from sklearn.preprocessing import StandardScaler\n",
    "\n",
    "# Importing classification models \n",
    "from sklearn.linear_model import LogisticRegression \n",
    "from sklearn.neighbors import KNeighborsClassifier\n",
    "from sklearn.decomposition import TruncatedSVD\n",
    "from sklearn.tree import DecisionTreeClassifier\n",
    "from sklearn.ensemble import RandomForestClassifier\n",
    "from sklearn.ensemble import AdaBoostClassifier\n",
    "from sklearn.svm import LinearSVC\n",
    "\n",
    "# Evaluation Metrics libraries\n",
    "from sklearn.metrics import confusion_matrix\n",
    "from sklearn.metrics import classification_report\n",
    "from sklearn.metrics import accuracy_score, precision_score, recall_score, f1_score\n",
    "\n",
    "# For building up a pipeline\n",
    "from sklearn.pipeline import Pipeline\n",
    "\n",
    "# GridSearch cross-validation library\n",
    "from sklearn.model_selection import GridSearchCV\n",
    "\n",
    "# importing joblib to save models \n",
    "from joblib import dump, load\n",
    "\n",
    "#Ignore Warnings\n",
    "import warnings\n",
    "warnings.filterwarnings('ignore')"
   ]
  },
  {
   "cell_type": "markdown",
   "metadata": {},
   "source": [
    "---\n",
    "\n",
    "#### Import and Inspect data"
   ]
  },
  {
   "cell_type": "code",
   "execution_count": 4,
   "metadata": {},
   "outputs": [],
   "source": [
    "master = pd.read_csv('clean_data_w_deal.csv')"
   ]
  },
  {
   "cell_type": "code",
   "execution_count": 5,
   "metadata": {},
   "outputs": [
    {
     "data": {
      "text/plain": [
       "(31604, 118)"
      ]
     },
     "execution_count": 5,
     "metadata": {},
     "output_type": "execute_result"
    }
   ],
   "source": [
    "master.shape"
   ]
  },
  {
   "cell_type": "code",
   "execution_count": 6,
   "metadata": {},
   "outputs": [
    {
     "data": {
      "text/html": [
       "<div>\n",
       "<style scoped>\n",
       "    .dataframe tbody tr th:only-of-type {\n",
       "        vertical-align: middle;\n",
       "    }\n",
       "\n",
       "    .dataframe tbody tr th {\n",
       "        vertical-align: top;\n",
       "    }\n",
       "\n",
       "    .dataframe thead th {\n",
       "        text-align: right;\n",
       "    }\n",
       "</style>\n",
       "<table border=\"1\" class=\"dataframe\">\n",
       "  <thead>\n",
       "    <tr style=\"text-align: right;\">\n",
       "      <th></th>\n",
       "      <th>title</th>\n",
       "      <th>summary</th>\n",
       "      <th>description</th>\n",
       "      <th>transit</th>\n",
       "      <th>house_rules</th>\n",
       "      <th>max_guests</th>\n",
       "      <th>bathrooms</th>\n",
       "      <th>bedrooms</th>\n",
       "      <th>beds</th>\n",
       "      <th>price</th>\n",
       "      <th>...</th>\n",
       "      <th>cancellation_policy_moderate</th>\n",
       "      <th>cancellation_policy_strict</th>\n",
       "      <th>room_type_entire_home/apt</th>\n",
       "      <th>room_type_private_room</th>\n",
       "      <th>room_type_shared_room</th>\n",
       "      <th>experiences_offered_business</th>\n",
       "      <th>experiences_offered_family</th>\n",
       "      <th>experiences_offered_none</th>\n",
       "      <th>experiences_offered_romantic</th>\n",
       "      <th>experiences_offered_social</th>\n",
       "    </tr>\n",
       "  </thead>\n",
       "  <tbody>\n",
       "    <tr>\n",
       "      <th>0</th>\n",
       "      <td>Quiet Room in Leafy Village near Central London</td>\n",
       "      <td>My place is good for couples, solo adventurers...</td>\n",
       "      <td>My place is good for couples, solo adventurers...</td>\n",
       "      <td>Free parking on street, on bus route to centra...</td>\n",
       "      <td>not_available</td>\n",
       "      <td>2</td>\n",
       "      <td>2.0</td>\n",
       "      <td>1.0</td>\n",
       "      <td>1.0</td>\n",
       "      <td>39.0</td>\n",
       "      <td>...</td>\n",
       "      <td>0</td>\n",
       "      <td>0</td>\n",
       "      <td>0</td>\n",
       "      <td>1</td>\n",
       "      <td>0</td>\n",
       "      <td>0</td>\n",
       "      <td>0</td>\n",
       "      <td>1</td>\n",
       "      <td>0</td>\n",
       "      <td>0</td>\n",
       "    </tr>\n",
       "    <tr>\n",
       "      <th>1</th>\n",
       "      <td>Spacious room in private house.</td>\n",
       "      <td>Newly-decorated double room in beautiful house...</td>\n",
       "      <td>Newly-decorated double room in beautiful house...</td>\n",
       "      <td>Excellent transport links. Five minutes easy w...</td>\n",
       "      <td>Sorry, but no smokers please.</td>\n",
       "      <td>2</td>\n",
       "      <td>1.0</td>\n",
       "      <td>1.0</td>\n",
       "      <td>1.0</td>\n",
       "      <td>45.0</td>\n",
       "      <td>...</td>\n",
       "      <td>0</td>\n",
       "      <td>0</td>\n",
       "      <td>0</td>\n",
       "      <td>1</td>\n",
       "      <td>0</td>\n",
       "      <td>0</td>\n",
       "      <td>0</td>\n",
       "      <td>1</td>\n",
       "      <td>0</td>\n",
       "      <td>0</td>\n",
       "    </tr>\n",
       "    <tr>\n",
       "      <th>2</th>\n",
       "      <td>Bright room in lovely area plus C/Breakfast</td>\n",
       "      <td>Quiet location in smart area with good restaur...</td>\n",
       "      <td>Quiet location in smart area with good restaur...</td>\n",
       "      <td>not_available</td>\n",
       "      <td>Early Check In Weekends only from 1 o Clock on...</td>\n",
       "      <td>3</td>\n",
       "      <td>1.0</td>\n",
       "      <td>1.0</td>\n",
       "      <td>2.0</td>\n",
       "      <td>60.0</td>\n",
       "      <td>...</td>\n",
       "      <td>0</td>\n",
       "      <td>0</td>\n",
       "      <td>0</td>\n",
       "      <td>1</td>\n",
       "      <td>0</td>\n",
       "      <td>0</td>\n",
       "      <td>0</td>\n",
       "      <td>1</td>\n",
       "      <td>0</td>\n",
       "      <td>0</td>\n",
       "    </tr>\n",
       "    <tr>\n",
       "      <th>3</th>\n",
       "      <td>Bright, airy room by Tower Bridge and river</td>\n",
       "      <td>For solo travellers:  Bright, airy room in ver...</td>\n",
       "      <td>For solo travellers:  Bright, airy room in ver...</td>\n",
       "      <td>Walking In under 5 minutes you can be at Tower...</td>\n",
       "      <td>We are looking for respectful guests to share ...</td>\n",
       "      <td>1</td>\n",
       "      <td>1.0</td>\n",
       "      <td>1.0</td>\n",
       "      <td>1.0</td>\n",
       "      <td>55.0</td>\n",
       "      <td>...</td>\n",
       "      <td>0</td>\n",
       "      <td>0</td>\n",
       "      <td>0</td>\n",
       "      <td>1</td>\n",
       "      <td>0</td>\n",
       "      <td>0</td>\n",
       "      <td>0</td>\n",
       "      <td>1</td>\n",
       "      <td>0</td>\n",
       "      <td>0</td>\n",
       "    </tr>\n",
       "    <tr>\n",
       "      <th>4</th>\n",
       "      <td>Bright apartment at London Bridge</td>\n",
       "      <td>A bright and quiet apartment in Central London...</td>\n",
       "      <td>A bright and quiet apartment in Central London...</td>\n",
       "      <td>not_available</td>\n",
       "      <td>I would like that my guests feel like at their...</td>\n",
       "      <td>2</td>\n",
       "      <td>1.0</td>\n",
       "      <td>1.0</td>\n",
       "      <td>1.0</td>\n",
       "      <td>75.0</td>\n",
       "      <td>...</td>\n",
       "      <td>1</td>\n",
       "      <td>0</td>\n",
       "      <td>1</td>\n",
       "      <td>0</td>\n",
       "      <td>0</td>\n",
       "      <td>0</td>\n",
       "      <td>0</td>\n",
       "      <td>1</td>\n",
       "      <td>0</td>\n",
       "      <td>0</td>\n",
       "    </tr>\n",
       "  </tbody>\n",
       "</table>\n",
       "<p>5 rows × 118 columns</p>\n",
       "</div>"
      ],
      "text/plain": [
       "                                             title  \\\n",
       "0  Quiet Room in Leafy Village near Central London   \n",
       "1                  Spacious room in private house.   \n",
       "2      Bright room in lovely area plus C/Breakfast   \n",
       "3      Bright, airy room by Tower Bridge and river   \n",
       "4                Bright apartment at London Bridge   \n",
       "\n",
       "                                             summary  \\\n",
       "0  My place is good for couples, solo adventurers...   \n",
       "1  Newly-decorated double room in beautiful house...   \n",
       "2  Quiet location in smart area with good restaur...   \n",
       "3  For solo travellers:  Bright, airy room in ver...   \n",
       "4  A bright and quiet apartment in Central London...   \n",
       "\n",
       "                                         description  \\\n",
       "0  My place is good for couples, solo adventurers...   \n",
       "1  Newly-decorated double room in beautiful house...   \n",
       "2  Quiet location in smart area with good restaur...   \n",
       "3  For solo travellers:  Bright, airy room in ver...   \n",
       "4  A bright and quiet apartment in Central London...   \n",
       "\n",
       "                                             transit  \\\n",
       "0  Free parking on street, on bus route to centra...   \n",
       "1  Excellent transport links. Five minutes easy w...   \n",
       "2                                      not_available   \n",
       "3  Walking In under 5 minutes you can be at Tower...   \n",
       "4                                      not_available   \n",
       "\n",
       "                                         house_rules  max_guests  bathrooms  \\\n",
       "0                                      not_available           2        2.0   \n",
       "1                      Sorry, but no smokers please.           2        1.0   \n",
       "2  Early Check In Weekends only from 1 o Clock on...           3        1.0   \n",
       "3  We are looking for respectful guests to share ...           1        1.0   \n",
       "4  I would like that my guests feel like at their...           2        1.0   \n",
       "\n",
       "   bedrooms  beds  price  ...  cancellation_policy_moderate  \\\n",
       "0       1.0   1.0   39.0  ...                             0   \n",
       "1       1.0   1.0   45.0  ...                             0   \n",
       "2       1.0   2.0   60.0  ...                             0   \n",
       "3       1.0   1.0   55.0  ...                             0   \n",
       "4       1.0   1.0   75.0  ...                             1   \n",
       "\n",
       "   cancellation_policy_strict  room_type_entire_home/apt  \\\n",
       "0                           0                          0   \n",
       "1                           0                          0   \n",
       "2                           0                          0   \n",
       "3                           0                          0   \n",
       "4                           0                          1   \n",
       "\n",
       "   room_type_private_room  room_type_shared_room  \\\n",
       "0                       1                      0   \n",
       "1                       1                      0   \n",
       "2                       1                      0   \n",
       "3                       1                      0   \n",
       "4                       0                      0   \n",
       "\n",
       "   experiences_offered_business  experiences_offered_family  \\\n",
       "0                             0                           0   \n",
       "1                             0                           0   \n",
       "2                             0                           0   \n",
       "3                             0                           0   \n",
       "4                             0                           0   \n",
       "\n",
       "   experiences_offered_none  experiences_offered_romantic  \\\n",
       "0                         1                             0   \n",
       "1                         1                             0   \n",
       "2                         1                             0   \n",
       "3                         1                             0   \n",
       "4                         1                             0   \n",
       "\n",
       "   experiences_offered_social  \n",
       "0                           0  \n",
       "1                           0  \n",
       "2                           0  \n",
       "3                           0  \n",
       "4                           0  \n",
       "\n",
       "[5 rows x 118 columns]"
      ]
     },
     "execution_count": 6,
     "metadata": {},
     "output_type": "execute_result"
    }
   ],
   "source": [
    "master.head()"
   ]
  },
  {
   "cell_type": "code",
   "execution_count": 7,
   "metadata": {},
   "outputs": [],
   "source": [
    "text_df = master[['title', 'summary', 'description', 'deal_type']]"
   ]
  },
  {
   "cell_type": "code",
   "execution_count": 8,
   "metadata": {},
   "outputs": [
    {
     "data": {
      "text/html": [
       "<div>\n",
       "<style scoped>\n",
       "    .dataframe tbody tr th:only-of-type {\n",
       "        vertical-align: middle;\n",
       "    }\n",
       "\n",
       "    .dataframe tbody tr th {\n",
       "        vertical-align: top;\n",
       "    }\n",
       "\n",
       "    .dataframe thead th {\n",
       "        text-align: right;\n",
       "    }\n",
       "</style>\n",
       "<table border=\"1\" class=\"dataframe\">\n",
       "  <thead>\n",
       "    <tr style=\"text-align: right;\">\n",
       "      <th></th>\n",
       "      <th>title</th>\n",
       "      <th>summary</th>\n",
       "      <th>description</th>\n",
       "      <th>deal_type</th>\n",
       "    </tr>\n",
       "  </thead>\n",
       "  <tbody>\n",
       "    <tr>\n",
       "      <th>0</th>\n",
       "      <td>Quiet Room in Leafy Village near Central London</td>\n",
       "      <td>My place is good for couples, solo adventurers...</td>\n",
       "      <td>My place is good for couples, solo adventurers...</td>\n",
       "      <td>Fair</td>\n",
       "    </tr>\n",
       "    <tr>\n",
       "      <th>1</th>\n",
       "      <td>Spacious room in private house.</td>\n",
       "      <td>Newly-decorated double room in beautiful house...</td>\n",
       "      <td>Newly-decorated double room in beautiful house...</td>\n",
       "      <td>Fair</td>\n",
       "    </tr>\n",
       "    <tr>\n",
       "      <th>2</th>\n",
       "      <td>Bright room in lovely area plus C/Breakfast</td>\n",
       "      <td>Quiet location in smart area with good restaur...</td>\n",
       "      <td>Quiet location in smart area with good restaur...</td>\n",
       "      <td>Expensive</td>\n",
       "    </tr>\n",
       "    <tr>\n",
       "      <th>3</th>\n",
       "      <td>Bright, airy room by Tower Bridge and river</td>\n",
       "      <td>For solo travellers:  Bright, airy room in ver...</td>\n",
       "      <td>For solo travellers:  Bright, airy room in ver...</td>\n",
       "      <td>Fair</td>\n",
       "    </tr>\n",
       "    <tr>\n",
       "      <th>4</th>\n",
       "      <td>Bright apartment at London Bridge</td>\n",
       "      <td>A bright and quiet apartment in Central London...</td>\n",
       "      <td>A bright and quiet apartment in Central London...</td>\n",
       "      <td>Good</td>\n",
       "    </tr>\n",
       "  </tbody>\n",
       "</table>\n",
       "</div>"
      ],
      "text/plain": [
       "                                             title  \\\n",
       "0  Quiet Room in Leafy Village near Central London   \n",
       "1                  Spacious room in private house.   \n",
       "2      Bright room in lovely area plus C/Breakfast   \n",
       "3      Bright, airy room by Tower Bridge and river   \n",
       "4                Bright apartment at London Bridge   \n",
       "\n",
       "                                             summary  \\\n",
       "0  My place is good for couples, solo adventurers...   \n",
       "1  Newly-decorated double room in beautiful house...   \n",
       "2  Quiet location in smart area with good restaur...   \n",
       "3  For solo travellers:  Bright, airy room in ver...   \n",
       "4  A bright and quiet apartment in Central London...   \n",
       "\n",
       "                                         description  deal_type  \n",
       "0  My place is good for couples, solo adventurers...       Fair  \n",
       "1  Newly-decorated double room in beautiful house...       Fair  \n",
       "2  Quiet location in smart area with good restaur...  Expensive  \n",
       "3  For solo travellers:  Bright, airy room in ver...       Fair  \n",
       "4  A bright and quiet apartment in Central London...       Good  "
      ]
     },
     "execution_count": 8,
     "metadata": {},
     "output_type": "execute_result"
    }
   ],
   "source": [
    "text_df.head()"
   ]
  },
  {
   "cell_type": "markdown",
   "metadata": {},
   "source": [
    "---\n",
    "#### Standardize all the text"
   ]
  },
  {
   "cell_type": "code",
   "execution_count": 9,
   "metadata": {},
   "outputs": [],
   "source": [
    "#making a loop to remove any capitalization or punctuations and the digits that may represent any numeric values\n",
    "\n",
    "for i in text_df.columns:\n",
    "    #lower case all text\n",
    "    text_df[i] = text_df[i].str.lower()\n",
    "    \n",
    "    #remove punctuations\n",
    "    text_df[i] = text_df[i].str.translate(str.maketrans('', '', string.punctuation))\n",
    "    \n",
    "    #removing digits\n",
    "    text_df[i] = text_df[i].str.translate(str.maketrans('', '', string.digits))\n",
    "    \n",
    "    "
   ]
  },
  {
   "cell_type": "code",
   "execution_count": 10,
   "metadata": {},
   "outputs": [
    {
     "data": {
      "text/html": [
       "<div>\n",
       "<style scoped>\n",
       "    .dataframe tbody tr th:only-of-type {\n",
       "        vertical-align: middle;\n",
       "    }\n",
       "\n",
       "    .dataframe tbody tr th {\n",
       "        vertical-align: top;\n",
       "    }\n",
       "\n",
       "    .dataframe thead th {\n",
       "        text-align: right;\n",
       "    }\n",
       "</style>\n",
       "<table border=\"1\" class=\"dataframe\">\n",
       "  <thead>\n",
       "    <tr style=\"text-align: right;\">\n",
       "      <th></th>\n",
       "      <th>title</th>\n",
       "      <th>summary</th>\n",
       "      <th>description</th>\n",
       "      <th>deal_type</th>\n",
       "    </tr>\n",
       "  </thead>\n",
       "  <tbody>\n",
       "    <tr>\n",
       "      <th>0</th>\n",
       "      <td>quiet room in leafy village near central london</td>\n",
       "      <td>my place is good for couples solo adventurers ...</td>\n",
       "      <td>my place is good for couples solo adventurers ...</td>\n",
       "      <td>fair</td>\n",
       "    </tr>\n",
       "    <tr>\n",
       "      <th>1</th>\n",
       "      <td>spacious room in private house</td>\n",
       "      <td>newlydecorated double room in beautiful house ...</td>\n",
       "      <td>newlydecorated double room in beautiful house ...</td>\n",
       "      <td>fair</td>\n",
       "    </tr>\n",
       "    <tr>\n",
       "      <th>2</th>\n",
       "      <td>bright room in lovely area plus cbreakfast</td>\n",
       "      <td>quiet location in smart area with good restaur...</td>\n",
       "      <td>quiet location in smart area with good restaur...</td>\n",
       "      <td>expensive</td>\n",
       "    </tr>\n",
       "    <tr>\n",
       "      <th>3</th>\n",
       "      <td>bright airy room by tower bridge and river</td>\n",
       "      <td>for solo travellers  bright airy room in very ...</td>\n",
       "      <td>for solo travellers  bright airy room in very ...</td>\n",
       "      <td>fair</td>\n",
       "    </tr>\n",
       "    <tr>\n",
       "      <th>4</th>\n",
       "      <td>bright apartment at london bridge</td>\n",
       "      <td>a bright and quiet apartment in central london...</td>\n",
       "      <td>a bright and quiet apartment in central london...</td>\n",
       "      <td>good</td>\n",
       "    </tr>\n",
       "    <tr>\n",
       "      <th>...</th>\n",
       "      <td>...</td>\n",
       "      <td>...</td>\n",
       "      <td>...</td>\n",
       "      <td>...</td>\n",
       "    </tr>\n",
       "    <tr>\n",
       "      <th>31599</th>\n",
       "      <td>stunning flat londonfitzrovia</td>\n",
       "      <td>bright stunning flat situated right in the tre...</td>\n",
       "      <td>bright stunning flat situated right in the tre...</td>\n",
       "      <td>expensive</td>\n",
       "    </tr>\n",
       "    <tr>\n",
       "      <th>31600</th>\n",
       "      <td>piccadilly circus  double room</td>\n",
       "      <td>fantastic double room in the heart of londons ...</td>\n",
       "      <td>fantastic double room in the heart of londons ...</td>\n",
       "      <td>expensive</td>\n",
       "    </tr>\n",
       "    <tr>\n",
       "      <th>31601</th>\n",
       "      <td>charming studio in paddington p</td>\n",
       "      <td>great location in paddington comfortable tripl...</td>\n",
       "      <td>great location in paddington comfortable tripl...</td>\n",
       "      <td>good</td>\n",
       "    </tr>\n",
       "    <tr>\n",
       "      <th>31602</th>\n",
       "      <td>marylebone high street very large double room</td>\n",
       "      <td>very large gorgeous double room in lovely hous...</td>\n",
       "      <td>very large gorgeous double room in lovely hous...</td>\n",
       "      <td>good</td>\n",
       "    </tr>\n",
       "    <tr>\n",
       "      <th>31603</th>\n",
       "      <td>five star flat in londons west end</td>\n",
       "      <td>luxurious quiet  safe apartment in central lon...</td>\n",
       "      <td>luxurious quiet  safe apartment in central lon...</td>\n",
       "      <td>expensive</td>\n",
       "    </tr>\n",
       "  </tbody>\n",
       "</table>\n",
       "<p>31604 rows × 4 columns</p>\n",
       "</div>"
      ],
      "text/plain": [
       "                                                 title  \\\n",
       "0      quiet room in leafy village near central london   \n",
       "1                       spacious room in private house   \n",
       "2           bright room in lovely area plus cbreakfast   \n",
       "3           bright airy room by tower bridge and river   \n",
       "4                    bright apartment at london bridge   \n",
       "...                                                ...   \n",
       "31599                    stunning flat londonfitzrovia   \n",
       "31600                  piccadilly circus  double room    \n",
       "31601                  charming studio in paddington p   \n",
       "31602    marylebone high street very large double room   \n",
       "31603               five star flat in londons west end   \n",
       "\n",
       "                                                 summary  \\\n",
       "0      my place is good for couples solo adventurers ...   \n",
       "1      newlydecorated double room in beautiful house ...   \n",
       "2      quiet location in smart area with good restaur...   \n",
       "3      for solo travellers  bright airy room in very ...   \n",
       "4      a bright and quiet apartment in central london...   \n",
       "...                                                  ...   \n",
       "31599  bright stunning flat situated right in the tre...   \n",
       "31600  fantastic double room in the heart of londons ...   \n",
       "31601  great location in paddington comfortable tripl...   \n",
       "31602  very large gorgeous double room in lovely hous...   \n",
       "31603  luxurious quiet  safe apartment in central lon...   \n",
       "\n",
       "                                             description  deal_type  \n",
       "0      my place is good for couples solo adventurers ...       fair  \n",
       "1      newlydecorated double room in beautiful house ...       fair  \n",
       "2      quiet location in smart area with good restaur...  expensive  \n",
       "3      for solo travellers  bright airy room in very ...       fair  \n",
       "4      a bright and quiet apartment in central london...       good  \n",
       "...                                                  ...        ...  \n",
       "31599  bright stunning flat situated right in the tre...  expensive  \n",
       "31600  fantastic double room in the heart of londons ...  expensive  \n",
       "31601  great location in paddington comfortable tripl...       good  \n",
       "31602  very large gorgeous double room in lovely hous...       good  \n",
       "31603  luxurious quiet  safe apartment in central lon...  expensive  \n",
       "\n",
       "[31604 rows x 4 columns]"
      ]
     },
     "execution_count": 10,
     "metadata": {},
     "output_type": "execute_result"
    }
   ],
   "source": [
    "text_df"
   ]
  },
  {
   "cell_type": "code",
   "execution_count": 11,
   "metadata": {},
   "outputs": [],
   "source": [
    "#\n",
    "text_df.reset_index(inplace= True, drop = True)"
   ]
  },
  {
   "cell_type": "code",
   "execution_count": 12,
   "metadata": {},
   "outputs": [
    {
     "data": {
      "text/plain": [
       "title          0\n",
       "summary        0\n",
       "description    0\n",
       "deal_type      0\n",
       "dtype: int64"
      ]
     },
     "execution_count": 12,
     "metadata": {},
     "output_type": "execute_result"
    }
   ],
   "source": [
    "#Checking for any nulls\n",
    "text_df.isna().sum()"
   ]
  },
  {
   "cell_type": "code",
   "execution_count": 13,
   "metadata": {},
   "outputs": [
    {
     "data": {
      "text/plain": [
       "(31604, 4)"
      ]
     },
     "execution_count": 13,
     "metadata": {},
     "output_type": "execute_result"
    }
   ],
   "source": [
    "#checking shape of the dataset\n",
    "text_df.shape"
   ]
  },
  {
   "cell_type": "code",
   "execution_count": 14,
   "metadata": {},
   "outputs": [
    {
     "data": {
      "text/plain": [
       "fair         13547\n",
       "good         10624\n",
       "expensive     7433\n",
       "Name: deal_type, dtype: int64"
      ]
     },
     "execution_count": 14,
     "metadata": {},
     "output_type": "execute_result"
    }
   ],
   "source": [
    "#Checking for target class imbalances\n",
    "text_df.deal_type.value_counts()"
   ]
  },
  {
   "cell_type": "markdown",
   "metadata": {},
   "source": [
    "---\n",
    "##### Combining all Text Columns"
   ]
  },
  {
   "cell_type": "code",
   "execution_count": 15,
   "metadata": {},
   "outputs": [
    {
     "data": {
      "text/plain": [
       "Index(['title', 'summary', 'description', 'deal_type'], dtype='object')"
      ]
     },
     "execution_count": 15,
     "metadata": {},
     "output_type": "execute_result"
    }
   ],
   "source": [
    "#Checking all column names to combine\n",
    "text_df.columns"
   ]
  },
  {
   "cell_type": "code",
   "execution_count": 16,
   "metadata": {},
   "outputs": [],
   "source": [
    "#Adding columns ti make a new column\n",
    "text_df['all_text'] = text_df['title'] + ' ' + text_df['summary'] + ' ' + text_df['description']"
   ]
  },
  {
   "cell_type": "code",
   "execution_count": 17,
   "metadata": {},
   "outputs": [],
   "source": [
    "#making a new dataframe with only one text column for simplicity\n",
    "nlp_df = text_df[['all_text', 'deal_type']]"
   ]
  },
  {
   "cell_type": "code",
   "execution_count": 103,
   "metadata": {},
   "outputs": [
    {
     "data": {
      "text/html": [
       "<div>\n",
       "<style scoped>\n",
       "    .dataframe tbody tr th:only-of-type {\n",
       "        vertical-align: middle;\n",
       "    }\n",
       "\n",
       "    .dataframe tbody tr th {\n",
       "        vertical-align: top;\n",
       "    }\n",
       "\n",
       "    .dataframe thead th {\n",
       "        text-align: right;\n",
       "    }\n",
       "</style>\n",
       "<table border=\"1\" class=\"dataframe\">\n",
       "  <thead>\n",
       "    <tr style=\"text-align: right;\">\n",
       "      <th></th>\n",
       "      <th>all_text</th>\n",
       "      <th>deal_type</th>\n",
       "    </tr>\n",
       "  </thead>\n",
       "  <tbody>\n",
       "    <tr>\n",
       "      <th>0</th>\n",
       "      <td>quiet room in leafy village near central londo...</td>\n",
       "      <td>fair</td>\n",
       "    </tr>\n",
       "    <tr>\n",
       "      <th>1</th>\n",
       "      <td>spacious room in private house newlydecorated ...</td>\n",
       "      <td>fair</td>\n",
       "    </tr>\n",
       "    <tr>\n",
       "      <th>2</th>\n",
       "      <td>bright room in lovely area plus cbreakfast qui...</td>\n",
       "      <td>expensive</td>\n",
       "    </tr>\n",
       "    <tr>\n",
       "      <th>3</th>\n",
       "      <td>bright airy room by tower bridge and river for...</td>\n",
       "      <td>fair</td>\n",
       "    </tr>\n",
       "    <tr>\n",
       "      <th>4</th>\n",
       "      <td>bright apartment at london bridge a bright and...</td>\n",
       "      <td>good</td>\n",
       "    </tr>\n",
       "  </tbody>\n",
       "</table>\n",
       "</div>"
      ],
      "text/plain": [
       "                                            all_text  deal_type\n",
       "0  quiet room in leafy village near central londo...       fair\n",
       "1  spacious room in private house newlydecorated ...       fair\n",
       "2  bright room in lovely area plus cbreakfast qui...  expensive\n",
       "3  bright airy room by tower bridge and river for...       fair\n",
       "4  bright apartment at london bridge a bright and...       good"
      ]
     },
     "execution_count": 103,
     "metadata": {},
     "output_type": "execute_result"
    }
   ],
   "source": [
    "#checking new df\n",
    "nlp_df.head()"
   ]
  },
  {
   "cell_type": "markdown",
   "metadata": {},
   "source": [
    "## Train-Test Split"
   ]
  },
  {
   "cell_type": "code",
   "execution_count": 19,
   "metadata": {},
   "outputs": [],
   "source": [
    "#Intitate the Train Test Split\n",
    "X = nlp_df['all_text']\n",
    "y = nlp_df['deal_type']\n",
    "\n",
    "# We will stratify in order to ensure our data is evenly split for all deal_types \n",
    "X_rem, X_test, y_rem, y_test = train_test_split(X, y, test_size = 0.2, stratify = y, random_state = 88)"
   ]
  },
  {
   "cell_type": "code",
   "execution_count": 20,
   "metadata": {
    "scrolled": true
   },
   "outputs": [
    {
     "data": {
      "text/plain": [
       "<matplotlib.axes._subplots.AxesSubplot at 0x15060c16fc8>"
      ]
     },
     "execution_count": 20,
     "metadata": {},
     "output_type": "execute_result"
    },
    {
     "data": {
      "image/png": "[encoded data removed]",
      "text/plain": [
       "<Figure size 432x288 with 1 Axes>"
      ]
     },
     "metadata": {
      "needs_background": "light"
     },
     "output_type": "display_data"
    }
   ],
   "source": [
    "#Checking to ensure the data are balanced (visuals)\n",
    "y_rem.value_counts().plot(kind='bar', alpha = 0.5)"
   ]
  },
  {
   "cell_type": "code",
   "execution_count": 21,
   "metadata": {
    "scrolled": true
   },
   "outputs": [
    {
     "data": {
      "text/plain": [
       "fair         10838\n",
       "good          8499\n",
       "expensive     5946\n",
       "Name: deal_type, dtype: int64"
      ]
     },
     "execution_count": 21,
     "metadata": {},
     "output_type": "execute_result"
    }
   ],
   "source": [
    "y_rem.value_counts()"
   ]
  },
  {
   "cell_type": "code",
   "execution_count": null,
   "metadata": {},
   "outputs": [],
   "source": [
    "#addressing Imbalance dataset using SMOTE method\n",
    "from imblearn.over_sampling import SMOTE\n",
    "sm = SMOTE(random_state = 8, sampling_strategy = 'all', k_neighbors=7)\n",
    "X_rem, y_rem = sm.fit_sample(X_rem, y_rem)"
   ]
  },
  {
   "cell_type": "markdown",
   "metadata": {},
   "source": [
    "We have a clear case of class imbalances, so we will vectorize and then upsample using `SMOTE` method."
   ]
  },
  {
   "cell_type": "code",
   "execution_count": 22,
   "metadata": {},
   "outputs": [
    {
     "name": "stderr",
     "output_type": "stream",
     "text": [
      "[nltk_data] Downloading package stopwords to\n",
      "[nltk_data]     C:\\Users\\safiu\\AppData\\Roaming\\nltk_data...\n",
      "[nltk_data]   Package stopwords is already up-to-date!\n"
     ]
    }
   ],
   "source": [
    "nltk.download('stopwords')\n",
    "from nltk.corpus import stopwords \n",
    "ENGLISH_STOP_WORDS = stopwords.words('english')\n",
    "\n",
    "def my_tokenizer(sentence):\n",
    "    \n",
    "    for punctuation_mark in string.punctuation:\n",
    "        # Remove punctuation and set to lower case\n",
    "        sentence = sentence.replace(punctuation_mark,'').lower()\n",
    "\n",
    "    # split sentence into words\n",
    "    listofwords = sentence.split(' ')\n",
    "    listofstemmed_words = []\n",
    "    \n",
    "        \n",
    "    # Remove stopwords and any tokens that are just empty strings\n",
    "    for word in listofwords:\n",
    "        if (not word in ENGLISH_STOP_WORDS) and (word!=''):\n",
    "            # Stem words\n",
    "            stemmed_word = stemmer.stem(word)\n",
    "            listofstemmed_words.append(stemmed_word)\n",
    "\n",
    "    return listofstemmed_words"
   ]
  },
  {
   "cell_type": "code",
   "execution_count": 23,
   "metadata": {},
   "outputs": [],
   "source": [
    "stemmer = nltk.stem.PorterStemmer()\n",
    "vec = CountVectorizer(min_df = 10, tokenizer = my_tokenizer)"
   ]
  },
  {
   "cell_type": "code",
   "execution_count": 101,
   "metadata": {},
   "outputs": [],
   "source": [
    "#addressing Imbalance dataset using SMOTE method\n",
    "from imblearn.over_sampling import SMOTE\n",
    "sm = SMOTE(random_state = 8, sampling_strategy = 'all', k_neighbors=7)\n",
    "X_rem, y_rem = sm.fit_sample(X_rem, y_rem)"
   ]
  },
  {
   "cell_type": "code",
   "execution_count": null,
   "metadata": {},
   "outputs": [],
   "source": [
    "X_rem"
   ]
  },
  {
   "cell_type": "code",
   "execution_count": 102,
   "metadata": {
    "scrolled": false
   },
   "outputs": [
    {
     "ename": "AttributeError",
     "evalue": "lower not found",
     "output_type": "error",
     "traceback": [
      "\u001b[1;31m---------------------------------------------------------------------------\u001b[0m",
      "\u001b[1;31mAttributeError\u001b[0m                            Traceback (most recent call last)",
      "\u001b[1;32m<timed exec>\u001b[0m in \u001b[0;36m<module>\u001b[1;34m\u001b[0m\n",
      "\u001b[1;32m~\\Anaconda3\\lib\\site-packages\\sklearn\\feature_extraction\\text.py\u001b[0m in \u001b[0;36mfit\u001b[1;34m(self, raw_documents, y)\u001b[0m\n\u001b[0;32m   1163\u001b[0m         \"\"\"\n\u001b[0;32m   1164\u001b[0m         \u001b[0mself\u001b[0m\u001b[1;33m.\u001b[0m\u001b[0m_warn_for_unused_params\u001b[0m\u001b[1;33m(\u001b[0m\u001b[1;33m)\u001b[0m\u001b[1;33m\u001b[0m\u001b[1;33m\u001b[0m\u001b[0m\n\u001b[1;32m-> 1165\u001b[1;33m         \u001b[0mself\u001b[0m\u001b[1;33m.\u001b[0m\u001b[0mfit_transform\u001b[0m\u001b[1;33m(\u001b[0m\u001b[0mraw_documents\u001b[0m\u001b[1;33m)\u001b[0m\u001b[1;33m\u001b[0m\u001b[1;33m\u001b[0m\u001b[0m\n\u001b[0m\u001b[0;32m   1166\u001b[0m         \u001b[1;32mreturn\u001b[0m \u001b[0mself\u001b[0m\u001b[1;33m\u001b[0m\u001b[1;33m\u001b[0m\u001b[0m\n\u001b[0;32m   1167\u001b[0m \u001b[1;33m\u001b[0m\u001b[0m\n",
      "\u001b[1;32m~\\Anaconda3\\lib\\site-packages\\sklearn\\feature_extraction\\text.py\u001b[0m in \u001b[0;36mfit_transform\u001b[1;34m(self, raw_documents, y)\u001b[0m\n\u001b[0;32m   1197\u001b[0m \u001b[1;33m\u001b[0m\u001b[0m\n\u001b[0;32m   1198\u001b[0m         vocabulary, X = self._count_vocab(raw_documents,\n\u001b[1;32m-> 1199\u001b[1;33m                                           self.fixed_vocabulary_)\n\u001b[0m\u001b[0;32m   1200\u001b[0m \u001b[1;33m\u001b[0m\u001b[0m\n\u001b[0;32m   1201\u001b[0m         \u001b[1;32mif\u001b[0m \u001b[0mself\u001b[0m\u001b[1;33m.\u001b[0m\u001b[0mbinary\u001b[0m\u001b[1;33m:\u001b[0m\u001b[1;33m\u001b[0m\u001b[1;33m\u001b[0m\u001b[0m\n",
      "\u001b[1;32m~\\Anaconda3\\lib\\site-packages\\sklearn\\feature_extraction\\text.py\u001b[0m in \u001b[0;36m_count_vocab\u001b[1;34m(self, raw_documents, fixed_vocab)\u001b[0m\n\u001b[0;32m   1108\u001b[0m         \u001b[1;32mfor\u001b[0m \u001b[0mdoc\u001b[0m \u001b[1;32min\u001b[0m \u001b[0mraw_documents\u001b[0m\u001b[1;33m:\u001b[0m\u001b[1;33m\u001b[0m\u001b[1;33m\u001b[0m\u001b[0m\n\u001b[0;32m   1109\u001b[0m             \u001b[0mfeature_counter\u001b[0m \u001b[1;33m=\u001b[0m \u001b[1;33m{\u001b[0m\u001b[1;33m}\u001b[0m\u001b[1;33m\u001b[0m\u001b[1;33m\u001b[0m\u001b[0m\n\u001b[1;32m-> 1110\u001b[1;33m             \u001b[1;32mfor\u001b[0m \u001b[0mfeature\u001b[0m \u001b[1;32min\u001b[0m \u001b[0manalyze\u001b[0m\u001b[1;33m(\u001b[0m\u001b[0mdoc\u001b[0m\u001b[1;33m)\u001b[0m\u001b[1;33m:\u001b[0m\u001b[1;33m\u001b[0m\u001b[1;33m\u001b[0m\u001b[0m\n\u001b[0m\u001b[0;32m   1111\u001b[0m                 \u001b[1;32mtry\u001b[0m\u001b[1;33m:\u001b[0m\u001b[1;33m\u001b[0m\u001b[1;33m\u001b[0m\u001b[0m\n\u001b[0;32m   1112\u001b[0m                     \u001b[0mfeature_idx\u001b[0m \u001b[1;33m=\u001b[0m \u001b[0mvocabulary\u001b[0m\u001b[1;33m[\u001b[0m\u001b[0mfeature\u001b[0m\u001b[1;33m]\u001b[0m\u001b[1;33m\u001b[0m\u001b[1;33m\u001b[0m\u001b[0m\n",
      "\u001b[1;32m~\\Anaconda3\\lib\\site-packages\\sklearn\\feature_extraction\\text.py\u001b[0m in \u001b[0;36m_analyze\u001b[1;34m(doc, analyzer, tokenizer, ngrams, preprocessor, decoder, stop_words)\u001b[0m\n\u001b[0;32m    102\u001b[0m     \u001b[1;32melse\u001b[0m\u001b[1;33m:\u001b[0m\u001b[1;33m\u001b[0m\u001b[1;33m\u001b[0m\u001b[0m\n\u001b[0;32m    103\u001b[0m         \u001b[1;32mif\u001b[0m \u001b[0mpreprocessor\u001b[0m \u001b[1;32mis\u001b[0m \u001b[1;32mnot\u001b[0m \u001b[1;32mNone\u001b[0m\u001b[1;33m:\u001b[0m\u001b[1;33m\u001b[0m\u001b[1;33m\u001b[0m\u001b[0m\n\u001b[1;32m--> 104\u001b[1;33m             \u001b[0mdoc\u001b[0m \u001b[1;33m=\u001b[0m \u001b[0mpreprocessor\u001b[0m\u001b[1;33m(\u001b[0m\u001b[0mdoc\u001b[0m\u001b[1;33m)\u001b[0m\u001b[1;33m\u001b[0m\u001b[1;33m\u001b[0m\u001b[0m\n\u001b[0m\u001b[0;32m    105\u001b[0m         \u001b[1;32mif\u001b[0m \u001b[0mtokenizer\u001b[0m \u001b[1;32mis\u001b[0m \u001b[1;32mnot\u001b[0m \u001b[1;32mNone\u001b[0m\u001b[1;33m:\u001b[0m\u001b[1;33m\u001b[0m\u001b[1;33m\u001b[0m\u001b[0m\n\u001b[0;32m    106\u001b[0m             \u001b[0mdoc\u001b[0m \u001b[1;33m=\u001b[0m \u001b[0mtokenizer\u001b[0m\u001b[1;33m(\u001b[0m\u001b[0mdoc\u001b[0m\u001b[1;33m)\u001b[0m\u001b[1;33m\u001b[0m\u001b[1;33m\u001b[0m\u001b[0m\n",
      "\u001b[1;32m~\\Anaconda3\\lib\\site-packages\\sklearn\\feature_extraction\\text.py\u001b[0m in \u001b[0;36m_preprocess\u001b[1;34m(doc, accent_function, lower)\u001b[0m\n\u001b[0;32m     67\u001b[0m     \"\"\"\n\u001b[0;32m     68\u001b[0m     \u001b[1;32mif\u001b[0m \u001b[0mlower\u001b[0m\u001b[1;33m:\u001b[0m\u001b[1;33m\u001b[0m\u001b[1;33m\u001b[0m\u001b[0m\n\u001b[1;32m---> 69\u001b[1;33m         \u001b[0mdoc\u001b[0m \u001b[1;33m=\u001b[0m \u001b[0mdoc\u001b[0m\u001b[1;33m.\u001b[0m\u001b[0mlower\u001b[0m\u001b[1;33m(\u001b[0m\u001b[1;33m)\u001b[0m\u001b[1;33m\u001b[0m\u001b[1;33m\u001b[0m\u001b[0m\n\u001b[0m\u001b[0;32m     70\u001b[0m     \u001b[1;32mif\u001b[0m \u001b[0maccent_function\u001b[0m \u001b[1;32mis\u001b[0m \u001b[1;32mnot\u001b[0m \u001b[1;32mNone\u001b[0m\u001b[1;33m:\u001b[0m\u001b[1;33m\u001b[0m\u001b[1;33m\u001b[0m\u001b[0m\n\u001b[0;32m     71\u001b[0m         \u001b[0mdoc\u001b[0m \u001b[1;33m=\u001b[0m \u001b[0maccent_function\u001b[0m\u001b[1;33m(\u001b[0m\u001b[0mdoc\u001b[0m\u001b[1;33m)\u001b[0m\u001b[1;33m\u001b[0m\u001b[1;33m\u001b[0m\u001b[0m\n",
      "\u001b[1;32m~\\Anaconda3\\lib\\site-packages\\scipy\\sparse\\base.py\u001b[0m in \u001b[0;36m__getattr__\u001b[1;34m(self, attr)\u001b[0m\n\u001b[0;32m    689\u001b[0m             \u001b[1;32mreturn\u001b[0m \u001b[0mself\u001b[0m\u001b[1;33m.\u001b[0m\u001b[0mgetnnz\u001b[0m\u001b[1;33m(\u001b[0m\u001b[1;33m)\u001b[0m\u001b[1;33m\u001b[0m\u001b[1;33m\u001b[0m\u001b[0m\n\u001b[0;32m    690\u001b[0m         \u001b[1;32melse\u001b[0m\u001b[1;33m:\u001b[0m\u001b[1;33m\u001b[0m\u001b[1;33m\u001b[0m\u001b[0m\n\u001b[1;32m--> 691\u001b[1;33m             \u001b[1;32mraise\u001b[0m \u001b[0mAttributeError\u001b[0m\u001b[1;33m(\u001b[0m\u001b[0mattr\u001b[0m \u001b[1;33m+\u001b[0m \u001b[1;34m\" not found\"\u001b[0m\u001b[1;33m)\u001b[0m\u001b[1;33m\u001b[0m\u001b[1;33m\u001b[0m\u001b[0m\n\u001b[0m\u001b[0;32m    692\u001b[0m \u001b[1;33m\u001b[0m\u001b[0m\n\u001b[0;32m    693\u001b[0m     \u001b[1;32mdef\u001b[0m \u001b[0mtranspose\u001b[0m\u001b[1;33m(\u001b[0m\u001b[0mself\u001b[0m\u001b[1;33m,\u001b[0m \u001b[0maxes\u001b[0m\u001b[1;33m=\u001b[0m\u001b[1;32mNone\u001b[0m\u001b[1;33m,\u001b[0m \u001b[0mcopy\u001b[0m\u001b[1;33m=\u001b[0m\u001b[1;32mFalse\u001b[0m\u001b[1;33m)\u001b[0m\u001b[1;33m:\u001b[0m\u001b[1;33m\u001b[0m\u001b[1;33m\u001b[0m\u001b[0m\n",
      "\u001b[1;31mAttributeError\u001b[0m: lower not found"
     ]
    }
   ],
   "source": [
    "%%time\n",
    "vec.fit(X_rem)\n",
    "X_rem = vec.transform(X_rem)\n",
    "X_test = vec.transform(X_test)"
   ]
  },
  {
   "cell_type": "code",
   "execution_count": null,
   "metadata": {},
   "outputs": [],
   "source": [
    "X_test"
   ]
  },
  {
   "cell_type": "markdown",
   "metadata": {},
   "source": [
    "#### lets see what words are dominating the predictions"
   ]
  },
  {
   "cell_type": "markdown",
   "metadata": {},
   "source": [
    "word_counts = np.array(np.sum(X_rem, axis=0)).reshape((-1,))\n",
    "words = np.array(vec.get_feature_names())\n",
    "words_df = pd.DataFrame({\"word\":words, \n",
    "                         \"count\":word_counts})\n",
    "words_df.sort_values(by=\"count\", ascending=False).head(50)"
   ]
  },
  {
   "cell_type": "code",
   "execution_count": 24,
   "metadata": {},
   "outputs": [],
   "source": [
    "drop_words = ['street', 'area', 'bathroom', 'hous', 'locat', 'london', 'room', 'walk', 'flat', 'minut', 'bedroom', 'one',\n",
    "              'station', 'bed', 'min', 'kitchen', 'apart', 'live', 'floor', 'guest', 'pleas', 'also', 'away', 'line',\n",
    "             'home', 'bu', 'two', 'three', 'five', 'stay', 'travel', 'road', 'citi', ]"
   ]
  },
  {
   "cell_type": "code",
   "execution_count": 25,
   "metadata": {},
   "outputs": [],
   "source": [
    "stopwords = nltk.corpus.stopwords.words('english')\n",
    "stopwords = list(stopwords)\n",
    "stopwords.extend(drop_words)\n",
    "\n",
    "def my_tokenizer2(sentence):\n",
    "    \n",
    "    for punctuation_mark in string.punctuation:\n",
    "        # Remove punctuation and set to lower case\n",
    "        sentence = sentence.replace(punctuation_mark,'').lower()\n",
    "\n",
    "    # split sentence into words\n",
    "    listofwords = sentence.split(' ')\n",
    "    listofstemmed_words = []\n",
    "    \n",
    "        \n",
    "    # Remove stopwords and any tokens that are just empty strings\n",
    "    for word in listofwords:\n",
    "        if (not word in stopwords) and (word!=''):\n",
    "            # Stem words\n",
    "            stemmed_word = stemmer.stem(word)\n",
    "            listofstemmed_words.append(stemmed_word)\n",
    "\n",
    "    return listofstemmed_words"
   ]
  },
  {
   "cell_type": "markdown",
   "metadata": {},
   "source": [
    "##### Reset the split"
   ]
  },
  {
   "cell_type": "markdown",
   "metadata": {},
   "source": [
    "# We will stratify in order to ensure our data is evenly split for all deal_types \n",
    "X_rem2, X_test2, y_rem2, y_test2 = train_test_split(X, y, test_size = 0.2, stratify = y, random_state = 88)"
   ]
  },
  {
   "cell_type": "markdown",
   "metadata": {},
   "source": [
    "vec2 = CountVectorizer(min_df = 5, tokenizer = my_tokenizer2, ngram_range = (1,2))"
   ]
  },
  {
   "cell_type": "markdown",
   "metadata": {},
   "source": [
    "%%time\n",
    "\n",
    "vec2.fit(X_rem2)\n",
    "X_rem2 = vec2.transform(X_rem2)\n",
    "X_test2 = vec2.transform(X_test2)"
   ]
  },
  {
   "cell_type": "markdown",
   "metadata": {},
   "source": [
    "X_rem2"
   ]
  },
  {
   "cell_type": "markdown",
   "metadata": {},
   "source": [
    "X_test2"
   ]
  },
  {
   "cell_type": "markdown",
   "metadata": {},
   "source": [
    "#addressing Imbalance dataset using SMOTE method\n",
    "from imblearn.over_sampling import SMOTE\n",
    "sm = SMOTE(random_state = 8, sampling_strategy = 'not majority', k_neighbors=7)\n",
    "X_rem2, y_rem2 = sm.fit_sample(X_rem2, y_rem2)"
   ]
  },
  {
   "cell_type": "markdown",
   "metadata": {},
   "source": [
    "# fitting a logistic regression model again\n",
    "logreg = LogisticRegression(n_jobs = -1, random_state = 8)\n",
    "logreg.fit(X_rem2, y_rem2)\n",
    "# Training score\n",
    "logreg.score(X_rem2,y_rem2)"
   ]
  },
  {
   "cell_type": "markdown",
   "metadata": {},
   "source": [
    "#test score\n",
    "logreg.score(X_test2,y_test2)"
   ]
  },
  {
   "cell_type": "markdown",
   "metadata": {},
   "source": [
    "#### 3rd split to repeat the process with tfidf count vectorizer"
   ]
  },
  {
   "cell_type": "code",
   "execution_count": 41,
   "metadata": {},
   "outputs": [],
   "source": [
    "# We will stratify in order to ensure our data is evenly split for all deal_types \n",
    "X_rem, X_test, y_rem, y_test = train_test_split(X, y, test_size = 0.3, stratify = y, random_state = 88)"
   ]
  },
  {
   "cell_type": "code",
   "execution_count": 42,
   "metadata": {},
   "outputs": [
    {
     "name": "stdout",
     "output_type": "stream",
     "text": [
      "Wall time: 8min 29s\n"
     ]
    }
   ],
   "source": [
    "%%time\n",
    "vec3 = TfidfVectorizer(min_df = 10, max_df = 0.8, tokenizer = my_tokenizer2, ngram_range = (1,2))\n",
    "vec3.fit(X_rem)\n",
    "X_rem = vec3.transform(X_rem)\n",
    "X_test = vec3.transform(X_test)"
   ]
  },
  {
   "cell_type": "code",
   "execution_count": 43,
   "metadata": {},
   "outputs": [
    {
     "data": {
      "text/plain": [
       "<22122x28117 sparse matrix of type '<class 'numpy.float64'>'\n",
       "\twith 2127227 stored elements in Compressed Sparse Row format>"
      ]
     },
     "execution_count": 43,
     "metadata": {},
     "output_type": "execute_result"
    }
   ],
   "source": [
    "X_rem"
   ]
  },
  {
   "cell_type": "code",
   "execution_count": 44,
   "metadata": {},
   "outputs": [
    {
     "data": {
      "text/plain": [
       "<9482x28117 sparse matrix of type '<class 'numpy.float64'>'\n",
       "\twith 902999 stored elements in Compressed Sparse Row format>"
      ]
     },
     "execution_count": 44,
     "metadata": {},
     "output_type": "execute_result"
    }
   ],
   "source": [
    "X_test"
   ]
  },
  {
   "cell_type": "code",
   "execution_count": 45,
   "metadata": {},
   "outputs": [],
   "source": [
    "#addressing Imbalance dataset using SMOTE method\n",
    "from imblearn.over_sampling import SMOTE\n",
    "sm = SMOTE(random_state = 8, sampling_strategy = 'all', k_neighbors=7)\n",
    "X_rem, y_rem = sm.fit_sample(X_rem, y_rem)"
   ]
  },
  {
   "cell_type": "code",
   "execution_count": 46,
   "metadata": {},
   "outputs": [
    {
     "data": {
      "text/plain": [
       "fair         9483\n",
       "good         9483\n",
       "expensive    9483\n",
       "Name: deal_type, dtype: int64"
      ]
     },
     "execution_count": 46,
     "metadata": {},
     "output_type": "execute_result"
    }
   ],
   "source": [
    "y_rem.value_counts()"
   ]
  },
  {
   "cell_type": "code",
   "execution_count": 47,
   "metadata": {},
   "outputs": [
    {
     "name": "stdout",
     "output_type": "stream",
     "text": [
      "Training Score:  0.8082885162923126\n",
      "Test Score:  0.5047458342121915\n",
      "Wall time: 25.2 s\n"
     ]
    }
   ],
   "source": [
    "%%time\n",
    "# fitting a logistic regression model again\n",
    "\n",
    "logreg = LogisticRegression(n_jobs = -1, random_state = 8)\n",
    "logreg.fit(X_rem, y_rem)\n",
    "# Training score\n",
    "print('Training Score: ', logreg.score(X_rem,y_rem))\n",
    "print('Test Score: ', logreg.score(X_test,y_test))"
   ]
  },
  {
   "cell_type": "code",
   "execution_count": null,
   "metadata": {},
   "outputs": [],
   "source": []
  },
  {
   "cell_type": "markdown",
   "metadata": {},
   "source": [
    "### lets deploy pipeline models"
   ]
  },
  {
   "cell_type": "code",
   "execution_count": 48,
   "metadata": {},
   "outputs": [],
   "source": [
    "#instantiate pipeline and grid\n",
    "model_pipeline = Pipeline([('dim_reducer', TruncatedSVD()), ('model', LogisticRegression())])\n",
    "\n",
    "logreg_param_grid = [\n",
    "    {'dim_reducer': [TruncatedSVD()],\n",
    "    'dim_reducer__n_components': [400,500,600],\n",
    "    'model': [LogisticRegression(random_state = 8, n_jobs = -1)],\n",
    "    'model__C': [ 0.1, 1, 10],\n",
    "    'model__solver': ['lbfgs','sag','saga', 'liblinear']}\n",
    "]"
   ]
  },
  {
   "cell_type": "code",
   "execution_count": 49,
   "metadata": {},
   "outputs": [],
   "source": [
    "# Instantiate the logistic regression grid search\n",
    "logreg_gs = GridSearchCV(model_pipeline, param_grid=logreg_param_grid, cv=5 , verbose=1, scoring = 'accuracy')"
   ]
  },
  {
   "cell_type": "code",
   "execution_count": 50,
   "metadata": {
    "scrolled": true
   },
   "outputs": [
    {
     "name": "stdout",
     "output_type": "stream",
     "text": [
      "Fitting 5 folds for each of 36 candidates, totalling 180 fits\n"
     ]
    },
    {
     "name": "stderr",
     "output_type": "stream",
     "text": [
      "[Parallel(n_jobs=1)]: Using backend SequentialBackend with 1 concurrent workers.\n",
      "[Parallel(n_jobs=1)]: Done 180 out of 180 | elapsed: 236.5min finished\n"
     ]
    },
    {
     "name": "stdout",
     "output_type": "stream",
     "text": [
      "Wall time: 3h 57min 36s\n"
     ]
    }
   ],
   "source": [
    "%%time\n",
    "\n",
    "#Fitting the logistic Reg GS\n",
    "fitted_logreg_gs = logreg_gs.fit(X_rem, y_rem)"
   ]
  },
  {
   "cell_type": "code",
   "execution_count": 51,
   "metadata": {},
   "outputs": [
    {
     "name": "stdout",
     "output_type": "stream",
     "text": [
      "Best Estimator:  {'dim_reducer': TruncatedSVD(n_components=600), 'dim_reducer__n_components': 600, 'model': LogisticRegression(C=10, n_jobs=-1, random_state=8, solver='sag'), 'model__C': 10, 'model__solver': 'sag'}\n",
      "Best Score:  0.5381572924161294\n"
     ]
    }
   ],
   "source": [
    "print(\"Best Estimator: \", fitted_logreg_gs.best_params_)\n",
    "print(\"Best Score: \", fitted_logreg_gs.best_score_)"
   ]
  },
  {
   "cell_type": "code",
   "execution_count": 52,
   "metadata": {},
   "outputs": [],
   "source": [
    "y_pred_logreg = fitted_logreg_gs.predict(X_test)"
   ]
  },
  {
   "cell_type": "code",
   "execution_count": 97,
   "metadata": {},
   "outputs": [
    {
     "name": "stdout",
     "output_type": "stream",
     "text": [
      "Classification Report \n",
      "               precision    recall  f1-score   support\n",
      "\n",
      "   expensive       0.43      0.56      0.49      2230\n",
      "        fair       0.51      0.38      0.44      4064\n",
      "        good       0.51      0.58      0.54      3188\n",
      "\n",
      "    accuracy                           0.49      9482\n",
      "   macro avg       0.48      0.50      0.49      9482\n",
      "weighted avg       0.49      0.49      0.48      9482\n",
      "\n"
     ]
    },
    {
     "data": {
      "image/png": "[encoded data removed]",
      "text/plain": [
       "<Figure size 720x360 with 2 Axes>"
      ]
     },
     "metadata": {
      "needs_background": "light"
     },
     "output_type": "display_data"
    }
   ],
   "source": [
    "# Setting up our confusion matrix \n",
    "logreg_confusion_matrix = confusion_matrix(y_test,y_pred_logreg)\n",
    "\n",
    "# Making a DataFrame of Confustion matrix for readability\n",
    "logreg_confusion_matrix = pd.DataFrame(data = logreg_confusion_matrix,\\\n",
    "                                   columns = ['Predicted Expensive', 'Predicted Fair', 'Predicted Good'],\\\n",
    "                                  index = ['True Expensive','True Fair', 'True Good'])\n",
    "\n",
    "# Setting up our classification_report\n",
    "logreg_classification_report = classification_report(y_test,y_pred_logreg)\n",
    "logreg_scores_dict = classification_report(y_test,y_pred_logreg, output_dict = True)\n",
    "\n",
    "# Print Classification report\n",
    "print(f'Classification Report \\n {logreg_classification_report}')\n",
    "\n",
    "# Visualizing the confusion matrix heatmap\n",
    "plt.figure(figsize = (10,5))\n",
    "sns.heatmap(logreg_confusion_matrix, annot = True, cmap='Blues', fmt = 'g')\n",
    "plt.title('Confusion Matrix')\n",
    "plt.show()"
   ]
  },
  {
   "cell_type": "code",
   "execution_count": 54,
   "metadata": {},
   "outputs": [
    {
     "name": "stdout",
     "output_type": "stream",
     "text": [
      "Training Score:  0.5735526732046821\n",
      "Test Score:  0.4865007382408775\n"
     ]
    }
   ],
   "source": [
    "print('Training Score: ', fitted_logreg_gs.score(X_rem,y_rem))\n",
    "print('Test Score: ', fitted_logreg_gs.score(X_test,y_test))"
   ]
  },
  {
   "cell_type": "code",
   "execution_count": null,
   "metadata": {},
   "outputs": [],
   "source": [
    "#dump(fitted_logreg_gs, 'nlp_logreg.joblib') "
   ]
  },
  {
   "cell_type": "code",
   "execution_count": null,
   "metadata": {},
   "outputs": [],
   "source": []
  },
  {
   "cell_type": "code",
   "execution_count": 33,
   "metadata": {},
   "outputs": [
    {
     "ename": "NameError",
     "evalue": "name 'weat' is not defined",
     "output_type": "error",
     "traceback": [
      "\u001b[1;31m---------------------------------------------------------------------------\u001b[0m",
      "\u001b[1;31mNameError\u001b[0m                                 Traceback (most recent call last)",
      "\u001b[1;32m<ipython-input-33-df7a36131dec>\u001b[0m in \u001b[0;36m<module>\u001b[1;34m\u001b[0m\n\u001b[1;32m----> 1\u001b[1;33m \u001b[0mweat\u001b[0m\u001b[1;33m\u001b[0m\u001b[1;33m\u001b[0m\u001b[0m\n\u001b[0m",
      "\u001b[1;31mNameError\u001b[0m: name 'weat' is not defined"
     ]
    }
   ],
   "source": [
    "weat"
   ]
  },
  {
   "cell_type": "markdown",
   "metadata": {},
   "source": [
    "#### Random Forest"
   ]
  },
  {
   "cell_type": "code",
   "execution_count": 58,
   "metadata": {},
   "outputs": [],
   "source": [
    "rf_param_grid = [\n",
    "    \n",
    "    {'dim_reducer': [TruncatedSVD()],\n",
    "    'dim_reducer__n_components': [400,500],\n",
    "    'model': [RandomForestClassifier(random_state = 8, n_jobs = -1)],\n",
    "    'model__max_depth': [5,10,15,20],\n",
    "    'model__n_estimators': [400,500]}\n",
    "]"
   ]
  },
  {
   "cell_type": "code",
   "execution_count": null,
   "metadata": {},
   "outputs": [],
   "source": []
  },
  {
   "cell_type": "code",
   "execution_count": 59,
   "metadata": {},
   "outputs": [],
   "source": [
    "# Instantiate the logistic regression grid search\n",
    "rf_gs = GridSearchCV(model_pipeline, param_grid=rf_param_grid, cv=5, verbose=5, scoring = 'accuracy')"
   ]
  },
  {
   "cell_type": "code",
   "execution_count": 60,
   "metadata": {
    "scrolled": true
   },
   "outputs": [
    {
     "name": "stdout",
     "output_type": "stream",
     "text": [
      "Fitting 5 folds for each of 16 candidates, totalling 80 fits\n",
      "[CV] dim_reducer=TruncatedSVD(), dim_reducer__n_components=400, model=RandomForestClassifier(n_jobs=-1, random_state=8), model__max_depth=5, model__n_estimators=400 \n"
     ]
    },
    {
     "name": "stderr",
     "output_type": "stream",
     "text": [
      "[Parallel(n_jobs=1)]: Using backend SequentialBackend with 1 concurrent workers.\n"
     ]
    },
    {
     "name": "stdout",
     "output_type": "stream",
     "text": [
      "[CV]  dim_reducer=TruncatedSVD(), dim_reducer__n_components=400, model=RandomForestClassifier(n_jobs=-1, random_state=8), model__max_depth=5, model__n_estimators=400, score=0.483, total=  39.6s\n",
      "[CV] dim_reducer=TruncatedSVD(), dim_reducer__n_components=400, model=RandomForestClassifier(n_jobs=-1, random_state=8), model__max_depth=5, model__n_estimators=400 \n"
     ]
    },
    {
     "name": "stderr",
     "output_type": "stream",
     "text": [
      "[Parallel(n_jobs=1)]: Done   1 out of   1 | elapsed:   39.5s remaining:    0.0s\n"
     ]
    },
    {
     "name": "stdout",
     "output_type": "stream",
     "text": [
      "[CV]  dim_reducer=TruncatedSVD(), dim_reducer__n_components=400, model=RandomForestClassifier(n_jobs=-1, random_state=8), model__max_depth=5, model__n_estimators=400, score=0.482, total=  37.1s\n",
      "[CV] dim_reducer=TruncatedSVD(), dim_reducer__n_components=400, model=RandomForestClassifier(n_jobs=-1, random_state=8), model__max_depth=5, model__n_estimators=400 \n"
     ]
    },
    {
     "name": "stderr",
     "output_type": "stream",
     "text": [
      "[Parallel(n_jobs=1)]: Done   2 out of   2 | elapsed:  1.3min remaining:    0.0s\n"
     ]
    },
    {
     "name": "stdout",
     "output_type": "stream",
     "text": [
      "[CV]  dim_reducer=TruncatedSVD(), dim_reducer__n_components=400, model=RandomForestClassifier(n_jobs=-1, random_state=8), model__max_depth=5, model__n_estimators=400, score=0.480, total=  37.1s\n",
      "[CV] dim_reducer=TruncatedSVD(), dim_reducer__n_components=400, model=RandomForestClassifier(n_jobs=-1, random_state=8), model__max_depth=5, model__n_estimators=400 \n"
     ]
    },
    {
     "name": "stderr",
     "output_type": "stream",
     "text": [
      "[Parallel(n_jobs=1)]: Done   3 out of   3 | elapsed:  1.9min remaining:    0.0s\n"
     ]
    },
    {
     "name": "stdout",
     "output_type": "stream",
     "text": [
      "[CV]  dim_reducer=TruncatedSVD(), dim_reducer__n_components=400, model=RandomForestClassifier(n_jobs=-1, random_state=8), model__max_depth=5, model__n_estimators=400, score=0.493, total=  36.8s\n",
      "[CV] dim_reducer=TruncatedSVD(), dim_reducer__n_components=400, model=RandomForestClassifier(n_jobs=-1, random_state=8), model__max_depth=5, model__n_estimators=400 \n"
     ]
    },
    {
     "name": "stderr",
     "output_type": "stream",
     "text": [
      "[Parallel(n_jobs=1)]: Done   4 out of   4 | elapsed:  2.5min remaining:    0.0s\n"
     ]
    },
    {
     "name": "stdout",
     "output_type": "stream",
     "text": [
      "[CV]  dim_reducer=TruncatedSVD(), dim_reducer__n_components=400, model=RandomForestClassifier(n_jobs=-1, random_state=8), model__max_depth=5, model__n_estimators=400, score=0.528, total=  51.9s\n",
      "[CV] dim_reducer=TruncatedSVD(), dim_reducer__n_components=400, model=RandomForestClassifier(n_jobs=-1, random_state=8), model__max_depth=5, model__n_estimators=500 \n",
      "[CV]  dim_reducer=TruncatedSVD(), dim_reducer__n_components=400, model=RandomForestClassifier(n_jobs=-1, random_state=8), model__max_depth=5, model__n_estimators=500, score=0.486, total=  59.5s\n",
      "[CV] dim_reducer=TruncatedSVD(), dim_reducer__n_components=400, model=RandomForestClassifier(n_jobs=-1, random_state=8), model__max_depth=5, model__n_estimators=500 \n",
      "[CV]  dim_reducer=TruncatedSVD(), dim_reducer__n_components=400, model=RandomForestClassifier(n_jobs=-1, random_state=8), model__max_depth=5, model__n_estimators=500, score=0.478, total=  46.6s\n",
      "[CV] dim_reducer=TruncatedSVD(), dim_reducer__n_components=400, model=RandomForestClassifier(n_jobs=-1, random_state=8), model__max_depth=5, model__n_estimators=500 \n",
      "[CV]  dim_reducer=TruncatedSVD(), dim_reducer__n_components=400, model=RandomForestClassifier(n_jobs=-1, random_state=8), model__max_depth=5, model__n_estimators=500, score=0.481, total=  41.4s\n",
      "[CV] dim_reducer=TruncatedSVD(), dim_reducer__n_components=400, model=RandomForestClassifier(n_jobs=-1, random_state=8), model__max_depth=5, model__n_estimators=500 \n",
      "[CV]  dim_reducer=TruncatedSVD(), dim_reducer__n_components=400, model=RandomForestClassifier(n_jobs=-1, random_state=8), model__max_depth=5, model__n_estimators=500, score=0.497, total=  58.7s\n",
      "[CV] dim_reducer=TruncatedSVD(), dim_reducer__n_components=400, model=RandomForestClassifier(n_jobs=-1, random_state=8), model__max_depth=5, model__n_estimators=500 \n",
      "[CV]  dim_reducer=TruncatedSVD(), dim_reducer__n_components=400, model=RandomForestClassifier(n_jobs=-1, random_state=8), model__max_depth=5, model__n_estimators=500, score=0.532, total=  56.4s\n",
      "[CV] dim_reducer=TruncatedSVD(), dim_reducer__n_components=400, model=RandomForestClassifier(n_jobs=-1, random_state=8), model__max_depth=10, model__n_estimators=400 \n",
      "[CV]  dim_reducer=TruncatedSVD(), dim_reducer__n_components=400, model=RandomForestClassifier(n_jobs=-1, random_state=8), model__max_depth=10, model__n_estimators=400, score=0.541, total=  52.3s\n",
      "[CV] dim_reducer=TruncatedSVD(), dim_reducer__n_components=400, model=RandomForestClassifier(n_jobs=-1, random_state=8), model__max_depth=10, model__n_estimators=400 \n",
      "[CV]  dim_reducer=TruncatedSVD(), dim_reducer__n_components=400, model=RandomForestClassifier(n_jobs=-1, random_state=8), model__max_depth=10, model__n_estimators=400, score=0.544, total= 1.3min\n",
      "[CV] dim_reducer=TruncatedSVD(), dim_reducer__n_components=400, model=RandomForestClassifier(n_jobs=-1, random_state=8), model__max_depth=10, model__n_estimators=400 \n",
      "[CV]  dim_reducer=TruncatedSVD(), dim_reducer__n_components=400, model=RandomForestClassifier(n_jobs=-1, random_state=8), model__max_depth=10, model__n_estimators=400, score=0.540, total=  51.2s\n",
      "[CV] dim_reducer=TruncatedSVD(), dim_reducer__n_components=400, model=RandomForestClassifier(n_jobs=-1, random_state=8), model__max_depth=10, model__n_estimators=400 \n",
      "[CV]  dim_reducer=TruncatedSVD(), dim_reducer__n_components=400, model=RandomForestClassifier(n_jobs=-1, random_state=8), model__max_depth=10, model__n_estimators=400, score=0.584, total= 1.2min\n",
      "[CV] dim_reducer=TruncatedSVD(), dim_reducer__n_components=400, model=RandomForestClassifier(n_jobs=-1, random_state=8), model__max_depth=10, model__n_estimators=400 \n",
      "[CV]  dim_reducer=TruncatedSVD(), dim_reducer__n_components=400, model=RandomForestClassifier(n_jobs=-1, random_state=8), model__max_depth=10, model__n_estimators=400, score=0.628, total=  52.0s\n",
      "[CV] dim_reducer=TruncatedSVD(), dim_reducer__n_components=400, model=RandomForestClassifier(n_jobs=-1, random_state=8), model__max_depth=10, model__n_estimators=500 \n",
      "[CV]  dim_reducer=TruncatedSVD(), dim_reducer__n_components=400, model=RandomForestClassifier(n_jobs=-1, random_state=8), model__max_depth=10, model__n_estimators=500, score=0.540, total= 1.5min\n",
      "[CV] dim_reducer=TruncatedSVD(), dim_reducer__n_components=400, model=RandomForestClassifier(n_jobs=-1, random_state=8), model__max_depth=10, model__n_estimators=500 \n",
      "[CV]  dim_reducer=TruncatedSVD(), dim_reducer__n_components=400, model=RandomForestClassifier(n_jobs=-1, random_state=8), model__max_depth=10, model__n_estimators=500, score=0.534, total= 1.5min\n",
      "[CV] dim_reducer=TruncatedSVD(), dim_reducer__n_components=400, model=RandomForestClassifier(n_jobs=-1, random_state=8), model__max_depth=10, model__n_estimators=500 \n",
      "[CV]  dim_reducer=TruncatedSVD(), dim_reducer__n_components=400, model=RandomForestClassifier(n_jobs=-1, random_state=8), model__max_depth=10, model__n_estimators=500, score=0.538, total=  59.8s\n",
      "[CV] dim_reducer=TruncatedSVD(), dim_reducer__n_components=400, model=RandomForestClassifier(n_jobs=-1, random_state=8), model__max_depth=10, model__n_estimators=500 \n",
      "[CV]  dim_reducer=TruncatedSVD(), dim_reducer__n_components=400, model=RandomForestClassifier(n_jobs=-1, random_state=8), model__max_depth=10, model__n_estimators=500, score=0.587, total= 1.1min\n",
      "[CV] dim_reducer=TruncatedSVD(), dim_reducer__n_components=400, model=RandomForestClassifier(n_jobs=-1, random_state=8), model__max_depth=10, model__n_estimators=500 \n",
      "[CV]  dim_reducer=TruncatedSVD(), dim_reducer__n_components=400, model=RandomForestClassifier(n_jobs=-1, random_state=8), model__max_depth=10, model__n_estimators=500, score=0.629, total=  58.8s\n",
      "[CV] dim_reducer=TruncatedSVD(), dim_reducer__n_components=400, model=RandomForestClassifier(n_jobs=-1, random_state=8), model__max_depth=15, model__n_estimators=400 \n",
      "[CV]  dim_reducer=TruncatedSVD(), dim_reducer__n_components=400, model=RandomForestClassifier(n_jobs=-1, random_state=8), model__max_depth=15, model__n_estimators=400, score=0.591, total= 1.6min\n",
      "[CV] dim_reducer=TruncatedSVD(), dim_reducer__n_components=400, model=RandomForestClassifier(n_jobs=-1, random_state=8), model__max_depth=15, model__n_estimators=400 \n",
      "[CV]  dim_reducer=TruncatedSVD(), dim_reducer__n_components=400, model=RandomForestClassifier(n_jobs=-1, random_state=8), model__max_depth=15, model__n_estimators=400, score=0.593, total= 1.6min\n",
      "[CV] dim_reducer=TruncatedSVD(), dim_reducer__n_components=400, model=RandomForestClassifier(n_jobs=-1, random_state=8), model__max_depth=15, model__n_estimators=400 \n",
      "[CV]  dim_reducer=TruncatedSVD(), dim_reducer__n_components=400, model=RandomForestClassifier(n_jobs=-1, random_state=8), model__max_depth=15, model__n_estimators=400, score=0.585, total= 1.0min\n",
      "[CV] dim_reducer=TruncatedSVD(), dim_reducer__n_components=400, model=RandomForestClassifier(n_jobs=-1, random_state=8), model__max_depth=15, model__n_estimators=400 \n",
      "[CV]  dim_reducer=TruncatedSVD(), dim_reducer__n_components=400, model=RandomForestClassifier(n_jobs=-1, random_state=8), model__max_depth=15, model__n_estimators=400, score=0.652, total= 1.5min\n",
      "[CV] dim_reducer=TruncatedSVD(), dim_reducer__n_components=400, model=RandomForestClassifier(n_jobs=-1, random_state=8), model__max_depth=15, model__n_estimators=400 \n",
      "[CV]  dim_reducer=TruncatedSVD(), dim_reducer__n_components=400, model=RandomForestClassifier(n_jobs=-1, random_state=8), model__max_depth=15, model__n_estimators=400, score=0.714, total= 1.0min\n",
      "[CV] dim_reducer=TruncatedSVD(), dim_reducer__n_components=400, model=RandomForestClassifier(n_jobs=-1, random_state=8), model__max_depth=15, model__n_estimators=500 \n",
      "[CV]  dim_reducer=TruncatedSVD(), dim_reducer__n_components=400, model=RandomForestClassifier(n_jobs=-1, random_state=8), model__max_depth=15, model__n_estimators=500, score=0.592, total= 1.7min\n",
      "[CV] dim_reducer=TruncatedSVD(), dim_reducer__n_components=400, model=RandomForestClassifier(n_jobs=-1, random_state=8), model__max_depth=15, model__n_estimators=500 \n",
      "[CV]  dim_reducer=TruncatedSVD(), dim_reducer__n_components=400, model=RandomForestClassifier(n_jobs=-1, random_state=8), model__max_depth=15, model__n_estimators=500, score=0.591, total= 1.2min\n",
      "[CV] dim_reducer=TruncatedSVD(), dim_reducer__n_components=400, model=RandomForestClassifier(n_jobs=-1, random_state=8), model__max_depth=15, model__n_estimators=500 \n"
     ]
    },
    {
     "name": "stdout",
     "output_type": "stream",
     "text": [
      "[CV]  dim_reducer=TruncatedSVD(), dim_reducer__n_components=400, model=RandomForestClassifier(n_jobs=-1, random_state=8), model__max_depth=15, model__n_estimators=500, score=0.591, total= 1.8min\n",
      "[CV] dim_reducer=TruncatedSVD(), dim_reducer__n_components=400, model=RandomForestClassifier(n_jobs=-1, random_state=8), model__max_depth=15, model__n_estimators=500 \n",
      "[CV]  dim_reducer=TruncatedSVD(), dim_reducer__n_components=400, model=RandomForestClassifier(n_jobs=-1, random_state=8), model__max_depth=15, model__n_estimators=500, score=0.656, total= 1.8min\n",
      "[CV] dim_reducer=TruncatedSVD(), dim_reducer__n_components=400, model=RandomForestClassifier(n_jobs=-1, random_state=8), model__max_depth=15, model__n_estimators=500 \n",
      "[CV]  dim_reducer=TruncatedSVD(), dim_reducer__n_components=400, model=RandomForestClassifier(n_jobs=-1, random_state=8), model__max_depth=15, model__n_estimators=500, score=0.713, total= 1.6min\n",
      "[CV] dim_reducer=TruncatedSVD(), dim_reducer__n_components=400, model=RandomForestClassifier(n_jobs=-1, random_state=8), model__max_depth=20, model__n_estimators=400 \n",
      "[CV]  dim_reducer=TruncatedSVD(), dim_reducer__n_components=400, model=RandomForestClassifier(n_jobs=-1, random_state=8), model__max_depth=20, model__n_estimators=400, score=0.610, total= 1.2min\n",
      "[CV] dim_reducer=TruncatedSVD(), dim_reducer__n_components=400, model=RandomForestClassifier(n_jobs=-1, random_state=8), model__max_depth=20, model__n_estimators=400 \n",
      "[CV]  dim_reducer=TruncatedSVD(), dim_reducer__n_components=400, model=RandomForestClassifier(n_jobs=-1, random_state=8), model__max_depth=20, model__n_estimators=400, score=0.601, total= 1.2min\n",
      "[CV] dim_reducer=TruncatedSVD(), dim_reducer__n_components=400, model=RandomForestClassifier(n_jobs=-1, random_state=8), model__max_depth=20, model__n_estimators=400 \n",
      "[CV]  dim_reducer=TruncatedSVD(), dim_reducer__n_components=400, model=RandomForestClassifier(n_jobs=-1, random_state=8), model__max_depth=20, model__n_estimators=400, score=0.606, total= 1.7min\n",
      "[CV] dim_reducer=TruncatedSVD(), dim_reducer__n_components=400, model=RandomForestClassifier(n_jobs=-1, random_state=8), model__max_depth=20, model__n_estimators=400 \n",
      "[CV]  dim_reducer=TruncatedSVD(), dim_reducer__n_components=400, model=RandomForestClassifier(n_jobs=-1, random_state=8), model__max_depth=20, model__n_estimators=400, score=0.676, total= 1.6min\n",
      "[CV] dim_reducer=TruncatedSVD(), dim_reducer__n_components=400, model=RandomForestClassifier(n_jobs=-1, random_state=8), model__max_depth=20, model__n_estimators=400 \n",
      "[CV]  dim_reducer=TruncatedSVD(), dim_reducer__n_components=400, model=RandomForestClassifier(n_jobs=-1, random_state=8), model__max_depth=20, model__n_estimators=400, score=0.746, total= 1.1min\n",
      "[CV] dim_reducer=TruncatedSVD(), dim_reducer__n_components=400, model=RandomForestClassifier(n_jobs=-1, random_state=8), model__max_depth=20, model__n_estimators=500 \n",
      "[CV]  dim_reducer=TruncatedSVD(), dim_reducer__n_components=400, model=RandomForestClassifier(n_jobs=-1, random_state=8), model__max_depth=20, model__n_estimators=500, score=0.605, total= 2.0min\n",
      "[CV] dim_reducer=TruncatedSVD(), dim_reducer__n_components=400, model=RandomForestClassifier(n_jobs=-1, random_state=8), model__max_depth=20, model__n_estimators=500 \n",
      "[CV]  dim_reducer=TruncatedSVD(), dim_reducer__n_components=400, model=RandomForestClassifier(n_jobs=-1, random_state=8), model__max_depth=20, model__n_estimators=500, score=0.607, total= 2.1min\n",
      "[CV] dim_reducer=TruncatedSVD(), dim_reducer__n_components=400, model=RandomForestClassifier(n_jobs=-1, random_state=8), model__max_depth=20, model__n_estimators=500 \n",
      "[CV]  dim_reducer=TruncatedSVD(), dim_reducer__n_components=400, model=RandomForestClassifier(n_jobs=-1, random_state=8), model__max_depth=20, model__n_estimators=500, score=0.606, total= 1.5min\n",
      "[CV] dim_reducer=TruncatedSVD(), dim_reducer__n_components=400, model=RandomForestClassifier(n_jobs=-1, random_state=8), model__max_depth=20, model__n_estimators=500 \n",
      "[CV]  dim_reducer=TruncatedSVD(), dim_reducer__n_components=400, model=RandomForestClassifier(n_jobs=-1, random_state=8), model__max_depth=20, model__n_estimators=500, score=0.678, total= 2.1min\n",
      "[CV] dim_reducer=TruncatedSVD(), dim_reducer__n_components=400, model=RandomForestClassifier(n_jobs=-1, random_state=8), model__max_depth=20, model__n_estimators=500 \n",
      "[CV]  dim_reducer=TruncatedSVD(), dim_reducer__n_components=400, model=RandomForestClassifier(n_jobs=-1, random_state=8), model__max_depth=20, model__n_estimators=500, score=0.750, total= 2.3min\n",
      "[CV] dim_reducer=TruncatedSVD(), dim_reducer__n_components=500, model=RandomForestClassifier(n_jobs=-1, random_state=8), model__max_depth=5, model__n_estimators=400 \n",
      "[CV]  dim_reducer=TruncatedSVD(), dim_reducer__n_components=500, model=RandomForestClassifier(n_jobs=-1, random_state=8), model__max_depth=5, model__n_estimators=400, score=0.489, total=  46.0s\n",
      "[CV] dim_reducer=TruncatedSVD(), dim_reducer__n_components=500, model=RandomForestClassifier(n_jobs=-1, random_state=8), model__max_depth=5, model__n_estimators=400 \n",
      "[CV]  dim_reducer=TruncatedSVD(), dim_reducer__n_components=500, model=RandomForestClassifier(n_jobs=-1, random_state=8), model__max_depth=5, model__n_estimators=400, score=0.483, total=  44.9s\n",
      "[CV] dim_reducer=TruncatedSVD(), dim_reducer__n_components=500, model=RandomForestClassifier(n_jobs=-1, random_state=8), model__max_depth=5, model__n_estimators=400 \n",
      "[CV]  dim_reducer=TruncatedSVD(), dim_reducer__n_components=500, model=RandomForestClassifier(n_jobs=-1, random_state=8), model__max_depth=5, model__n_estimators=400, score=0.483, total=  45.2s\n",
      "[CV] dim_reducer=TruncatedSVD(), dim_reducer__n_components=500, model=RandomForestClassifier(n_jobs=-1, random_state=8), model__max_depth=5, model__n_estimators=400 \n",
      "[CV]  dim_reducer=TruncatedSVD(), dim_reducer__n_components=500, model=RandomForestClassifier(n_jobs=-1, random_state=8), model__max_depth=5, model__n_estimators=400, score=0.499, total=  44.7s\n",
      "[CV] dim_reducer=TruncatedSVD(), dim_reducer__n_components=500, model=RandomForestClassifier(n_jobs=-1, random_state=8), model__max_depth=5, model__n_estimators=400 \n",
      "[CV]  dim_reducer=TruncatedSVD(), dim_reducer__n_components=500, model=RandomForestClassifier(n_jobs=-1, random_state=8), model__max_depth=5, model__n_estimators=400, score=0.533, total= 1.1min\n",
      "[CV] dim_reducer=TruncatedSVD(), dim_reducer__n_components=500, model=RandomForestClassifier(n_jobs=-1, random_state=8), model__max_depth=5, model__n_estimators=500 \n",
      "[CV]  dim_reducer=TruncatedSVD(), dim_reducer__n_components=500, model=RandomForestClassifier(n_jobs=-1, random_state=8), model__max_depth=5, model__n_estimators=500, score=0.488, total= 1.3min\n",
      "[CV] dim_reducer=TruncatedSVD(), dim_reducer__n_components=500, model=RandomForestClassifier(n_jobs=-1, random_state=8), model__max_depth=5, model__n_estimators=500 \n",
      "[CV]  dim_reducer=TruncatedSVD(), dim_reducer__n_components=500, model=RandomForestClassifier(n_jobs=-1, random_state=8), model__max_depth=5, model__n_estimators=500, score=0.484, total=  59.2s\n",
      "[CV] dim_reducer=TruncatedSVD(), dim_reducer__n_components=500, model=RandomForestClassifier(n_jobs=-1, random_state=8), model__max_depth=5, model__n_estimators=500 \n",
      "[CV]  dim_reducer=TruncatedSVD(), dim_reducer__n_components=500, model=RandomForestClassifier(n_jobs=-1, random_state=8), model__max_depth=5, model__n_estimators=500, score=0.490, total=  54.2s\n",
      "[CV] dim_reducer=TruncatedSVD(), dim_reducer__n_components=500, model=RandomForestClassifier(n_jobs=-1, random_state=8), model__max_depth=5, model__n_estimators=500 \n",
      "[CV]  dim_reducer=TruncatedSVD(), dim_reducer__n_components=500, model=RandomForestClassifier(n_jobs=-1, random_state=8), model__max_depth=5, model__n_estimators=500, score=0.503, total=  57.1s\n",
      "[CV] dim_reducer=TruncatedSVD(), dim_reducer__n_components=500, model=RandomForestClassifier(n_jobs=-1, random_state=8), model__max_depth=5, model__n_estimators=500 \n",
      "[CV]  dim_reducer=TruncatedSVD(), dim_reducer__n_components=500, model=RandomForestClassifier(n_jobs=-1, random_state=8), model__max_depth=5, model__n_estimators=500, score=0.536, total=  55.3s\n",
      "[CV] dim_reducer=TruncatedSVD(), dim_reducer__n_components=500, model=RandomForestClassifier(n_jobs=-1, random_state=8), model__max_depth=10, model__n_estimators=400 \n"
     ]
    },
    {
     "name": "stdout",
     "output_type": "stream",
     "text": [
      "[CV]  dim_reducer=TruncatedSVD(), dim_reducer__n_components=500, model=RandomForestClassifier(n_jobs=-1, random_state=8), model__max_depth=10, model__n_estimators=400, score=0.536, total= 1.6min\n",
      "[CV] dim_reducer=TruncatedSVD(), dim_reducer__n_components=500, model=RandomForestClassifier(n_jobs=-1, random_state=8), model__max_depth=10, model__n_estimators=400 \n",
      "[CV]  dim_reducer=TruncatedSVD(), dim_reducer__n_components=500, model=RandomForestClassifier(n_jobs=-1, random_state=8), model__max_depth=10, model__n_estimators=400, score=0.541, total= 1.3min\n",
      "[CV] dim_reducer=TruncatedSVD(), dim_reducer__n_components=500, model=RandomForestClassifier(n_jobs=-1, random_state=8), model__max_depth=10, model__n_estimators=400 \n",
      "[CV]  dim_reducer=TruncatedSVD(), dim_reducer__n_components=500, model=RandomForestClassifier(n_jobs=-1, random_state=8), model__max_depth=10, model__n_estimators=400, score=0.544, total= 1.3min\n",
      "[CV] dim_reducer=TruncatedSVD(), dim_reducer__n_components=500, model=RandomForestClassifier(n_jobs=-1, random_state=8), model__max_depth=10, model__n_estimators=400 \n",
      "[CV]  dim_reducer=TruncatedSVD(), dim_reducer__n_components=500, model=RandomForestClassifier(n_jobs=-1, random_state=8), model__max_depth=10, model__n_estimators=400, score=0.586, total= 1.6min\n",
      "[CV] dim_reducer=TruncatedSVD(), dim_reducer__n_components=500, model=RandomForestClassifier(n_jobs=-1, random_state=8), model__max_depth=10, model__n_estimators=400 \n",
      "[CV]  dim_reducer=TruncatedSVD(), dim_reducer__n_components=500, model=RandomForestClassifier(n_jobs=-1, random_state=8), model__max_depth=10, model__n_estimators=400, score=0.633, total= 1.8min\n",
      "[CV] dim_reducer=TruncatedSVD(), dim_reducer__n_components=500, model=RandomForestClassifier(n_jobs=-1, random_state=8), model__max_depth=10, model__n_estimators=500 \n",
      "[CV]  dim_reducer=TruncatedSVD(), dim_reducer__n_components=500, model=RandomForestClassifier(n_jobs=-1, random_state=8), model__max_depth=10, model__n_estimators=500, score=0.547, total= 2.0min\n",
      "[CV] dim_reducer=TruncatedSVD(), dim_reducer__n_components=500, model=RandomForestClassifier(n_jobs=-1, random_state=8), model__max_depth=10, model__n_estimators=500 \n",
      "[CV]  dim_reducer=TruncatedSVD(), dim_reducer__n_components=500, model=RandomForestClassifier(n_jobs=-1, random_state=8), model__max_depth=10, model__n_estimators=500, score=0.543, total= 1.4min\n",
      "[CV] dim_reducer=TruncatedSVD(), dim_reducer__n_components=500, model=RandomForestClassifier(n_jobs=-1, random_state=8), model__max_depth=10, model__n_estimators=500 \n",
      "[CV]  dim_reducer=TruncatedSVD(), dim_reducer__n_components=500, model=RandomForestClassifier(n_jobs=-1, random_state=8), model__max_depth=10, model__n_estimators=500, score=0.543, total= 1.9min\n",
      "[CV] dim_reducer=TruncatedSVD(), dim_reducer__n_components=500, model=RandomForestClassifier(n_jobs=-1, random_state=8), model__max_depth=10, model__n_estimators=500 \n",
      "[CV]  dim_reducer=TruncatedSVD(), dim_reducer__n_components=500, model=RandomForestClassifier(n_jobs=-1, random_state=8), model__max_depth=10, model__n_estimators=500, score=0.588, total= 2.0min\n",
      "[CV] dim_reducer=TruncatedSVD(), dim_reducer__n_components=500, model=RandomForestClassifier(n_jobs=-1, random_state=8), model__max_depth=10, model__n_estimators=500 \n",
      "[CV]  dim_reducer=TruncatedSVD(), dim_reducer__n_components=500, model=RandomForestClassifier(n_jobs=-1, random_state=8), model__max_depth=10, model__n_estimators=500, score=0.631, total= 1.3min\n",
      "[CV] dim_reducer=TruncatedSVD(), dim_reducer__n_components=500, model=RandomForestClassifier(n_jobs=-1, random_state=8), model__max_depth=15, model__n_estimators=400 \n",
      "[CV]  dim_reducer=TruncatedSVD(), dim_reducer__n_components=500, model=RandomForestClassifier(n_jobs=-1, random_state=8), model__max_depth=15, model__n_estimators=400, score=0.581, total= 2.0min\n",
      "[CV] dim_reducer=TruncatedSVD(), dim_reducer__n_components=500, model=RandomForestClassifier(n_jobs=-1, random_state=8), model__max_depth=15, model__n_estimators=400 \n",
      "[CV]  dim_reducer=TruncatedSVD(), dim_reducer__n_components=500, model=RandomForestClassifier(n_jobs=-1, random_state=8), model__max_depth=15, model__n_estimators=400, score=0.585, total= 1.6min\n",
      "[CV] dim_reducer=TruncatedSVD(), dim_reducer__n_components=500, model=RandomForestClassifier(n_jobs=-1, random_state=8), model__max_depth=15, model__n_estimators=400 \n",
      "[CV]  dim_reducer=TruncatedSVD(), dim_reducer__n_components=500, model=RandomForestClassifier(n_jobs=-1, random_state=8), model__max_depth=15, model__n_estimators=400, score=0.592, total= 1.5min\n",
      "[CV] dim_reducer=TruncatedSVD(), dim_reducer__n_components=500, model=RandomForestClassifier(n_jobs=-1, random_state=8), model__max_depth=15, model__n_estimators=400 \n",
      "[CV]  dim_reducer=TruncatedSVD(), dim_reducer__n_components=500, model=RandomForestClassifier(n_jobs=-1, random_state=8), model__max_depth=15, model__n_estimators=400, score=0.656, total= 2.0min\n",
      "[CV] dim_reducer=TruncatedSVD(), dim_reducer__n_components=500, model=RandomForestClassifier(n_jobs=-1, random_state=8), model__max_depth=15, model__n_estimators=400 \n",
      "[CV]  dim_reducer=TruncatedSVD(), dim_reducer__n_components=500, model=RandomForestClassifier(n_jobs=-1, random_state=8), model__max_depth=15, model__n_estimators=400, score=0.718, total= 1.5min\n",
      "[CV] dim_reducer=TruncatedSVD(), dim_reducer__n_components=500, model=RandomForestClassifier(n_jobs=-1, random_state=8), model__max_depth=15, model__n_estimators=500 \n",
      "[CV]  dim_reducer=TruncatedSVD(), dim_reducer__n_components=500, model=RandomForestClassifier(n_jobs=-1, random_state=8), model__max_depth=15, model__n_estimators=500, score=0.586, total= 2.4min\n",
      "[CV] dim_reducer=TruncatedSVD(), dim_reducer__n_components=500, model=RandomForestClassifier(n_jobs=-1, random_state=8), model__max_depth=15, model__n_estimators=500 \n",
      "[CV]  dim_reducer=TruncatedSVD(), dim_reducer__n_components=500, model=RandomForestClassifier(n_jobs=-1, random_state=8), model__max_depth=15, model__n_estimators=500, score=0.586, total= 1.8min\n",
      "[CV] dim_reducer=TruncatedSVD(), dim_reducer__n_components=500, model=RandomForestClassifier(n_jobs=-1, random_state=8), model__max_depth=15, model__n_estimators=500 \n",
      "[CV]  dim_reducer=TruncatedSVD(), dim_reducer__n_components=500, model=RandomForestClassifier(n_jobs=-1, random_state=8), model__max_depth=15, model__n_estimators=500, score=0.592, total= 1.8min\n",
      "[CV] dim_reducer=TruncatedSVD(), dim_reducer__n_components=500, model=RandomForestClassifier(n_jobs=-1, random_state=8), model__max_depth=15, model__n_estimators=500 \n",
      "[CV]  dim_reducer=TruncatedSVD(), dim_reducer__n_components=500, model=RandomForestClassifier(n_jobs=-1, random_state=8), model__max_depth=15, model__n_estimators=500, score=0.657, total= 2.5min\n",
      "[CV] dim_reducer=TruncatedSVD(), dim_reducer__n_components=500, model=RandomForestClassifier(n_jobs=-1, random_state=8), model__max_depth=15, model__n_estimators=500 \n",
      "[CV]  dim_reducer=TruncatedSVD(), dim_reducer__n_components=500, model=RandomForestClassifier(n_jobs=-1, random_state=8), model__max_depth=15, model__n_estimators=500, score=0.715, total= 2.6min\n",
      "[CV] dim_reducer=TruncatedSVD(), dim_reducer__n_components=500, model=RandomForestClassifier(n_jobs=-1, random_state=8), model__max_depth=20, model__n_estimators=400 \n",
      "[CV]  dim_reducer=TruncatedSVD(), dim_reducer__n_components=500, model=RandomForestClassifier(n_jobs=-1, random_state=8), model__max_depth=20, model__n_estimators=400, score=0.611, total= 1.7min\n",
      "[CV] dim_reducer=TruncatedSVD(), dim_reducer__n_components=500, model=RandomForestClassifier(n_jobs=-1, random_state=8), model__max_depth=20, model__n_estimators=400 \n",
      "[CV]  dim_reducer=TruncatedSVD(), dim_reducer__n_components=500, model=RandomForestClassifier(n_jobs=-1, random_state=8), model__max_depth=20, model__n_estimators=400, score=0.605, total= 2.2min\n",
      "[CV] dim_reducer=TruncatedSVD(), dim_reducer__n_components=500, model=RandomForestClassifier(n_jobs=-1, random_state=8), model__max_depth=20, model__n_estimators=400 \n",
      "[CV]  dim_reducer=TruncatedSVD(), dim_reducer__n_components=500, model=RandomForestClassifier(n_jobs=-1, random_state=8), model__max_depth=20, model__n_estimators=400, score=0.602, total= 1.5min\n",
      "[CV] dim_reducer=TruncatedSVD(), dim_reducer__n_components=500, model=RandomForestClassifier(n_jobs=-1, random_state=8), model__max_depth=20, model__n_estimators=400 \n"
     ]
    },
    {
     "name": "stdout",
     "output_type": "stream",
     "text": [
      "[CV]  dim_reducer=TruncatedSVD(), dim_reducer__n_components=500, model=RandomForestClassifier(n_jobs=-1, random_state=8), model__max_depth=20, model__n_estimators=400, score=0.681, total= 2.4min\n",
      "[CV] dim_reducer=TruncatedSVD(), dim_reducer__n_components=500, model=RandomForestClassifier(n_jobs=-1, random_state=8), model__max_depth=20, model__n_estimators=400 \n",
      "[CV]  dim_reducer=TruncatedSVD(), dim_reducer__n_components=500, model=RandomForestClassifier(n_jobs=-1, random_state=8), model__max_depth=20, model__n_estimators=400, score=0.757, total= 1.5min\n",
      "[CV] dim_reducer=TruncatedSVD(), dim_reducer__n_components=500, model=RandomForestClassifier(n_jobs=-1, random_state=8), model__max_depth=20, model__n_estimators=500 \n",
      "[CV]  dim_reducer=TruncatedSVD(), dim_reducer__n_components=500, model=RandomForestClassifier(n_jobs=-1, random_state=8), model__max_depth=20, model__n_estimators=500, score=0.608, total= 1.7min\n",
      "[CV] dim_reducer=TruncatedSVD(), dim_reducer__n_components=500, model=RandomForestClassifier(n_jobs=-1, random_state=8), model__max_depth=20, model__n_estimators=500 \n",
      "[CV]  dim_reducer=TruncatedSVD(), dim_reducer__n_components=500, model=RandomForestClassifier(n_jobs=-1, random_state=8), model__max_depth=20, model__n_estimators=500, score=0.609, total= 2.3min\n",
      "[CV] dim_reducer=TruncatedSVD(), dim_reducer__n_components=500, model=RandomForestClassifier(n_jobs=-1, random_state=8), model__max_depth=20, model__n_estimators=500 \n",
      "[CV]  dim_reducer=TruncatedSVD(), dim_reducer__n_components=500, model=RandomForestClassifier(n_jobs=-1, random_state=8), model__max_depth=20, model__n_estimators=500, score=0.609, total= 2.6min\n",
      "[CV] dim_reducer=TruncatedSVD(), dim_reducer__n_components=500, model=RandomForestClassifier(n_jobs=-1, random_state=8), model__max_depth=20, model__n_estimators=500 \n",
      "[CV]  dim_reducer=TruncatedSVD(), dim_reducer__n_components=500, model=RandomForestClassifier(n_jobs=-1, random_state=8), model__max_depth=20, model__n_estimators=500, score=0.680, total= 2.7min\n",
      "[CV] dim_reducer=TruncatedSVD(), dim_reducer__n_components=500, model=RandomForestClassifier(n_jobs=-1, random_state=8), model__max_depth=20, model__n_estimators=500 \n",
      "[CV]  dim_reducer=TruncatedSVD(), dim_reducer__n_components=500, model=RandomForestClassifier(n_jobs=-1, random_state=8), model__max_depth=20, model__n_estimators=500, score=0.752, total= 1.8min\n"
     ]
    },
    {
     "name": "stderr",
     "output_type": "stream",
     "text": [
      "[Parallel(n_jobs=1)]: Done  80 out of  80 | elapsed: 116.3min finished\n"
     ]
    },
    {
     "name": "stdout",
     "output_type": "stream",
     "text": [
      "Wall time: 1h 59min 45s\n"
     ]
    }
   ],
   "source": [
    "%%time\n",
    "\n",
    "\n",
    "#Fitting the logistic Reg GS\n",
    "fitted_rf_gs = rf_gs.fit(X_rem, y_rem)"
   ]
  },
  {
   "cell_type": "code",
   "execution_count": 61,
   "metadata": {},
   "outputs": [
    {
     "name": "stdout",
     "output_type": "stream",
     "text": [
      "Best Estimator:  Pipeline(steps=[('dim_reducer', TruncatedSVD(n_components=500)),\n",
      "                ('model',\n",
      "                 RandomForestClassifier(max_depth=20, n_estimators=500,\n",
      "                                        n_jobs=-1, random_state=8))])\n",
      "Best Score:  0.6516257285588908\n"
     ]
    }
   ],
   "source": [
    "print(\"Best Estimator: \", fitted_rf_gs.best_estimator_)\n",
    "print(\"Best Score: \", fitted_rf_gs.best_score_)"
   ]
  },
  {
   "cell_type": "code",
   "execution_count": 62,
   "metadata": {},
   "outputs": [
    {
     "name": "stdout",
     "output_type": "stream",
     "text": [
      "Training Score:  0.9980315652571268\n",
      "Test Score:  0.5024256485973423\n"
     ]
    }
   ],
   "source": [
    "print('Training Score: ', fitted_rf_gs.score(X_rem,y_rem))\n",
    "print('Test Score: ', fitted_rf_gs.score(X_test,y_test))"
   ]
  },
  {
   "cell_type": "code",
   "execution_count": 63,
   "metadata": {},
   "outputs": [],
   "source": [
    "y_pred_rf = fitted_rf_gs.predict(X_test)"
   ]
  },
  {
   "cell_type": "code",
   "execution_count": 93,
   "metadata": {},
   "outputs": [
    {
     "name": "stdout",
     "output_type": "stream",
     "text": [
      "Classification Report \n",
      "               precision    recall  f1-score   support\n",
      "\n",
      "   expensive       0.49      0.42      0.45      2230\n",
      "        fair       0.50      0.53      0.51      4064\n",
      "        good       0.51      0.53      0.52      3188\n",
      "\n",
      "    accuracy                           0.50      9482\n",
      "   macro avg       0.50      0.49      0.50      9482\n",
      "weighted avg       0.50      0.50      0.50      9482\n",
      "\n"
     ]
    },
    {
     "data": {
      "image/png": "[encoded data removed]",
      "text/plain": [
       "<Figure size 720x360 with 2 Axes>"
      ]
     },
     "metadata": {
      "needs_background": "light"
     },
     "output_type": "display_data"
    }
   ],
   "source": [
    "# Setting up our confusion matrix \n",
    "rf_confusion_matrix = confusion_matrix(y_test,y_pred_rf)\n",
    "\n",
    "# Making a DataFrame of Confustion matrix for readability\n",
    "rf_confusion_matrix = pd.DataFrame(data = rf_confusion_matrix,\\\n",
    "                                   columns = ['Predicted Expensive', 'Predicted Fair', 'Predicted Good'],\\\n",
    "                                  index = ['True Expensive','True Fair', 'True Good'])\n",
    "\n",
    "# Setting up our classification_report\n",
    "rf_classification_report = classification_report(y_test,y_pred_rf)\n",
    "rf_scores_dict = classification_report(y_test,y_pred_rf, output_dict = True)\n",
    "\n",
    "# Printing classification report\n",
    "print(f'Classification Report \\n {rf_classification_report}')\n",
    "\n",
    "# Visualizing the confusion matrix heatmap\n",
    "plt.figure(figsize = (10,5))\n",
    "sns.heatmap(rf_confusion_matrix, annot = True, cmap='Reds', fmt = 'g')\n",
    "plt.title('Confusion Matrix')\n",
    "plt.show()"
   ]
  },
  {
   "cell_type": "markdown",
   "metadata": {},
   "source": [
    "#### KNNs"
   ]
  },
  {
   "cell_type": "code",
   "execution_count": 65,
   "metadata": {},
   "outputs": [],
   "source": [
    "knn_param_grid = [\n",
    "    \n",
    "    {'dim_reducer': [TruncatedSVD()],\n",
    "    'dim_reducer__n_components': [400,500],\n",
    "    'model': [KNeighborsClassifier(n_jobs = -1)],\n",
    "    'model__n_neighbors': [3,7,11,15],\n",
    "    'model__weights': ['uniform', 'distance']}\n",
    "]"
   ]
  },
  {
   "cell_type": "code",
   "execution_count": 66,
   "metadata": {},
   "outputs": [],
   "source": [
    "# Instantiate the logistic regression grid search\n",
    "knn_gs = GridSearchCV(model_pipeline, param_grid = knn_param_grid, cv=5, verbose=1, scoring = 'accuracy')"
   ]
  },
  {
   "cell_type": "code",
   "execution_count": 69,
   "metadata": {},
   "outputs": [
    {
     "name": "stdout",
     "output_type": "stream",
     "text": [
      "Fitting 5 folds for each of 16 candidates, totalling 80 fits\n"
     ]
    },
    {
     "name": "stderr",
     "output_type": "stream",
     "text": [
      "[Parallel(n_jobs=1)]: Using backend SequentialBackend with 1 concurrent workers.\n",
      "[Parallel(n_jobs=1)]: Done  80 out of  80 | elapsed: 151.8min finished\n"
     ]
    },
    {
     "name": "stdout",
     "output_type": "stream",
     "text": [
      "Wall time: 2h 33min 22s\n"
     ]
    }
   ],
   "source": [
    "%%time\n",
    "\n",
    "\n",
    "#Fitting the logistic Reg GS\n",
    "fitted_knn_gs = knn_gs.fit(X_rem, y_rem)"
   ]
  },
  {
   "cell_type": "code",
   "execution_count": 70,
   "metadata": {},
   "outputs": [
    {
     "name": "stdout",
     "output_type": "stream",
     "text": [
      "Best Estimator:  Pipeline(steps=[('dim_reducer', TruncatedSVD(n_components=400)),\n",
      "                ('model',\n",
      "                 KNeighborsClassifier(n_jobs=-1, n_neighbors=3,\n",
      "                                      weights='distance'))])\n",
      "Best Score:  0.6158775128273013\n"
     ]
    }
   ],
   "source": [
    "print(\"Best Estimator: \", fitted_knn_gs.best_estimator_)\n",
    "print(\"Best Score: \", fitted_knn_gs.best_score_)"
   ]
  },
  {
   "cell_type": "code",
   "execution_count": 71,
   "metadata": {},
   "outputs": [
    {
     "name": "stdout",
     "output_type": "stream",
     "text": [
      "Training Score:  0.9979261133959014\n",
      "Test Score:  0.41626239190044295\n"
     ]
    }
   ],
   "source": [
    "print('Training Score: ', fitted_knn_gs.score(X_rem,y_rem))\n",
    "print('Test Score: ', fitted_knn_gs.score(X_test,y_test))"
   ]
  },
  {
   "cell_type": "code",
   "execution_count": 72,
   "metadata": {},
   "outputs": [],
   "source": [
    "y_pred_knn = fitted_knn_gs.predict(X_test)"
   ]
  },
  {
   "cell_type": "code",
   "execution_count": 94,
   "metadata": {},
   "outputs": [
    {
     "name": "stdout",
     "output_type": "stream",
     "text": [
      "Classification Report \n",
      "               precision    recall  f1-score   support\n",
      "\n",
      "   expensive       0.43      0.34      0.38      2230\n",
      "        fair       0.56      0.16      0.25      4064\n",
      "        good       0.39      0.80      0.52      3188\n",
      "\n",
      "    accuracy                           0.42      9482\n",
      "   macro avg       0.46      0.43      0.38      9482\n",
      "weighted avg       0.47      0.42      0.37      9482\n",
      "\n"
     ]
    },
    {
     "data": {
      "image/png": "[encoded data removed]",
      "text/plain": [
       "<Figure size 720x360 with 2 Axes>"
      ]
     },
     "metadata": {
      "needs_background": "light"
     },
     "output_type": "display_data"
    }
   ],
   "source": [
    "# Setting up our confusion matrix \n",
    "knn_confusion_matrix = confusion_matrix(y_test,y_pred_knn)\n",
    "\n",
    "# Putting the confusion matrix in a DataFrame\n",
    "knn_confusion_matrix = pd.DataFrame(data = knn_confusion_matrix,\\\n",
    "                                   columns = ['Predicted Expensive', 'Predicted Fair', 'Predicted Good'],\\\n",
    "                                  index = ['True Expensive','True Fair', 'True Good'])\n",
    "\n",
    "# Setting up our classification_report\n",
    "knn_classification_report = classification_report(y_test,y_pred_knn)\n",
    "knn_scores_dict = classification_report(y_test,y_pred_knn, output_dict = True)\n",
    "\n",
    "# Printing classification report\n",
    "print(f'Classification Report \\n {knn_classification_report}')\n",
    "\n",
    "# Visualizing the heatmap\n",
    "plt.figure(figsize = (10,5))\n",
    "sns.heatmap(knn_confusion_matrix, annot = True, cmap='Greys', fmt = 'g')\n",
    "plt.title('Confusion Matrix')\n",
    "plt.show()"
   ]
  },
  {
   "cell_type": "markdown",
   "metadata": {},
   "source": [
    "### SVM"
   ]
  },
  {
   "cell_type": "code",
   "execution_count": 74,
   "metadata": {},
   "outputs": [],
   "source": [
    "from sklearn.svm import SVC"
   ]
  },
  {
   "cell_type": "code",
   "execution_count": 75,
   "metadata": {},
   "outputs": [],
   "source": [
    "svm_param_grid = [\n",
    "    \n",
    "    {'dim_reducer': [TruncatedSVD()],\n",
    "    'dim_reducer__n_components': [400,500],\n",
    "    'model': [SVC(random_state = 8)],\n",
    "    'model__C': [0.1,1,10],\n",
    "    'model__kernel': ['rbf', 'sigmoid']}\n",
    "]"
   ]
  },
  {
   "cell_type": "code",
   "execution_count": 76,
   "metadata": {},
   "outputs": [],
   "source": [
    "# Instantiate the logistic regression grid search\n",
    "svm_gs = GridSearchCV(model_pipeline, param_grid=svm_param_grid, cv=4, verbose=1, scoring = 'accuracy')"
   ]
  },
  {
   "cell_type": "code",
   "execution_count": 77,
   "metadata": {},
   "outputs": [
    {
     "name": "stdout",
     "output_type": "stream",
     "text": [
      "Fitting 4 folds for each of 12 candidates, totalling 48 fits\n"
     ]
    },
    {
     "name": "stderr",
     "output_type": "stream",
     "text": [
      "[Parallel(n_jobs=1)]: Using backend SequentialBackend with 1 concurrent workers.\n",
      "[Parallel(n_jobs=1)]: Done  48 out of  48 | elapsed: 620.2min finished\n"
     ]
    },
    {
     "name": "stdout",
     "output_type": "stream",
     "text": [
      "Wall time: 11h 45min 12s\n"
     ]
    }
   ],
   "source": [
    "%%time\n",
    "\n",
    "\n",
    "#Fitting the logistic Reg GS\n",
    "fitted_svm_gs = svm_gs.fit(X_rem, y_rem)"
   ]
  },
  {
   "cell_type": "code",
   "execution_count": 78,
   "metadata": {},
   "outputs": [
    {
     "name": "stdout",
     "output_type": "stream",
     "text": [
      "Best Estimator:  Pipeline(steps=[('dim_reducer', TruncatedSVD(n_components=500)),\n",
      "                ('model', SVC(C=10, random_state=8))])\n",
      "Best Score:  0.6942614666708417\n"
     ]
    }
   ],
   "source": [
    "print(\"Best Estimator: \", fitted_svm_gs.best_estimator_)\n",
    "print(\"Best Score: \", fitted_svm_gs.best_score_)"
   ]
  },
  {
   "cell_type": "code",
   "execution_count": 79,
   "metadata": {},
   "outputs": [
    {
     "name": "stdout",
     "output_type": "stream",
     "text": [
      "Training Score:  0.9931456290203522\n",
      "Test Score:  0.5205652815861632\n"
     ]
    }
   ],
   "source": [
    "print('Training Score: ', fitted_svm_gs.score(X_rem,y_rem))\n",
    "print('Test Score: ', fitted_svm_gs.score(X_test,y_test))"
   ]
  },
  {
   "cell_type": "code",
   "execution_count": 80,
   "metadata": {},
   "outputs": [],
   "source": [
    "y_pred_svm = fitted_svm_gs.predict(X_test)"
   ]
  },
  {
   "cell_type": "code",
   "execution_count": 96,
   "metadata": {},
   "outputs": [
    {
     "name": "stdout",
     "output_type": "stream",
     "text": [
      "Classification Report \n",
      "               precision    recall  f1-score   support\n",
      "\n",
      "   expensive       0.52      0.44      0.48      2230\n",
      "        fair       0.51      0.56      0.53      4064\n",
      "        good       0.53      0.53      0.53      3188\n",
      "\n",
      "    accuracy                           0.52      9482\n",
      "   macro avg       0.52      0.51      0.51      9482\n",
      "weighted avg       0.52      0.52      0.52      9482\n",
      "\n"
     ]
    },
    {
     "data": {
      "image/png": "[encoded data removed]",
      "text/plain": [
       "<Figure size 720x360 with 2 Axes>"
      ]
     },
     "metadata": {
      "needs_background": "light"
     },
     "output_type": "display_data"
    }
   ],
   "source": [
    "# Setting up our confusion matrix \n",
    "svm_confusion_matrix = confusion_matrix(y_test,y_pred_svm)\n",
    "\n",
    "# Putting the confusion matrix in a DataFrame\n",
    "svm_confusion_matrix = pd.DataFrame(data = svm_confusion_matrix,\\\n",
    "                                   columns = ['Predicted Expensive', 'Predicted Fair', 'Predicted Good'],\\\n",
    "                                  index = ['True Expensive','True Fair', 'True Good'])\n",
    "\n",
    "# Setting up our classification_report\n",
    "svm_classification_report = classification_report(y_test,y_pred_svm)\n",
    "svm_scores_dict = classification_report(y_test,y_pred_svm, output_dict = True)\n",
    "\n",
    "# Printing classification report\n",
    "print(f'Classification Report \\n {svm_classification_report}')\n",
    "\n",
    "# Visualizing the heatmap\n",
    "plt.figure(figsize = (10,5))\n",
    "sns.heatmap(svm_confusion_matrix, annot = True, cmap='Purples', fmt = 'g')\n",
    "plt.title('Confusion Matrix')\n",
    "plt.show()"
   ]
  },
  {
   "cell_type": "code",
   "execution_count": null,
   "metadata": {},
   "outputs": [],
   "source": [
    "#dump(fitted_svm_gs, 'nlp_svm.joblib') "
   ]
  },
  {
   "cell_type": "code",
   "execution_count": null,
   "metadata": {},
   "outputs": [],
   "source": []
  },
  {
   "cell_type": "markdown",
   "metadata": {},
   "source": [
    "##### AdaBoost"
   ]
  },
  {
   "cell_type": "code",
   "execution_count": 83,
   "metadata": {},
   "outputs": [],
   "source": [
    "# Intiate a parameter grid for AdaBoost Classifier\n",
    "\n",
    "ada_param_grid = [\n",
    "    \n",
    "    {'dim_reducer': [TruncatedSVD()],\n",
    "    'dim_reducer__n_components': [400,500],\n",
    "    'model': [AdaBoostClassifier(random_state = 8)],\n",
    "    'model__n_estimators': [200,400,600],\n",
    "    'model__learning_rate': [0.5,1]}\n",
    "]"
   ]
  },
  {
   "cell_type": "code",
   "execution_count": 84,
   "metadata": {},
   "outputs": [],
   "source": [
    "# Instantiate the logistic regression grid search\n",
    "\n",
    "ada_gs = GridSearchCV(model_pipeline, param_grid=ada_param_grid, cv=4, verbose=1, scoring = 'accuracy')"
   ]
  },
  {
   "cell_type": "code",
   "execution_count": 85,
   "metadata": {},
   "outputs": [
    {
     "name": "stdout",
     "output_type": "stream",
     "text": [
      "Fitting 4 folds for each of 12 candidates, totalling 48 fits\n"
     ]
    },
    {
     "name": "stderr",
     "output_type": "stream",
     "text": [
      "[Parallel(n_jobs=1)]: Using backend SequentialBackend with 1 concurrent workers.\n",
      "[Parallel(n_jobs=1)]: Done  48 out of  48 | elapsed: 692.1min finished\n"
     ]
    },
    {
     "name": "stdout",
     "output_type": "stream",
     "text": [
      "Wall time: 12h 5min 27s\n"
     ]
    }
   ],
   "source": [
    "%%time\n",
    "\n",
    "\n",
    "#Fitting the logistic Reg GS\n",
    "fitted_ada_gs = ada_gs.fit(X_rem, y_rem)"
   ]
  },
  {
   "cell_type": "code",
   "execution_count": 86,
   "metadata": {},
   "outputs": [
    {
     "name": "stdout",
     "output_type": "stream",
     "text": [
      "Best Parameters:  {'dim_reducer': TruncatedSVD(n_components=500), 'dim_reducer__n_components': 500, 'model': AdaBoostClassifier(learning_rate=0.5, n_estimators=600, random_state=8), 'model__learning_rate': 0.5, 'model__n_estimators': 600}\n",
      "Best Score:  0.5068022325446351\n"
     ]
    }
   ],
   "source": [
    "#Check for best parameters and best score \n",
    "\n",
    "print(\"Best Parameters: \", fitted_ada_gs.best_params_)\n",
    "print(\"Best Score: \", fitted_ada_gs.best_score_)"
   ]
  },
  {
   "cell_type": "code",
   "execution_count": 87,
   "metadata": {},
   "outputs": [],
   "source": [
    "#Use best model to predict test set values\n",
    "\n",
    "y_pred_ada = fitted_ada_gs.predict(X_test)"
   ]
  },
  {
   "cell_type": "code",
   "execution_count": 88,
   "metadata": {},
   "outputs": [
    {
     "name": "stdout",
     "output_type": "stream",
     "text": [
      "Training Score:  0.5826215332700622\n",
      "Test Score:  0.47068129086690574\n"
     ]
    }
   ],
   "source": [
    "#Compare Training and Test set scores to ensure we are not over or under-fitting\n",
    "\n",
    "print('Training Score: ', fitted_ada_gs.score(X_rem,y_rem))\n",
    "print('Test Score: ', fitted_ada_gs.score(X_test,y_test))"
   ]
  },
  {
   "cell_type": "code",
   "execution_count": 90,
   "metadata": {},
   "outputs": [
    {
     "name": "stdout",
     "output_type": "stream",
     "text": [
      "Classification Report \n",
      "               precision    recall  f1-score   support\n",
      "\n",
      "   expensive       0.42      0.49      0.45      2230\n",
      "        fair       0.49      0.41      0.45      4064\n",
      "        good       0.49      0.53      0.51      3188\n",
      "\n",
      "    accuracy                           0.47      9482\n",
      "   macro avg       0.47      0.48      0.47      9482\n",
      "weighted avg       0.47      0.47      0.47      9482\n",
      "\n"
     ]
    },
    {
     "data": {
      "image/png": "[encoded data removed]",
      "text/plain": [
       "<Figure size 720x360 with 2 Axes>"
      ]
     },
     "metadata": {
      "needs_background": "light"
     },
     "output_type": "display_data"
    }
   ],
   "source": [
    "# Setting up our confusion matrix \n",
    "ada_confusion_matrix = confusion_matrix(y_test,y_pred_ada)\n",
    "\n",
    "# Putting the confusion matrix in a DataFrame\n",
    "ada_confusion_matrix = pd.DataFrame(data = ada_confusion_matrix,\\\n",
    "                                   columns = ['Predicted Expensive', 'Predicted Fair', 'Predicted Good'],\\\n",
    "                                  index = ['True Expensive','True Fair', 'True Good'])\n",
    "\n",
    "# Setting up our classification_report\n",
    "ada_classification_report = classification_report(y_test,y_pred_ada)\n",
    "ada_scores_dict = classification_report(y_test,y_pred_ada, output_dict = True)\n",
    "\n",
    "# Printing classification report\n",
    "print(f'Classification Report \\n {ada_classification_report}')\n",
    "\n",
    "# Visualizing the heatmap\n",
    "plt.figure(figsize = (10,5))\n",
    "sns.heatmap(ada_confusion_matrix, annot = True, cmap='Greens', fmt = 'g')\n",
    "plt.title('Confusion Matrix')\n",
    "plt.show()"
   ]
  },
  {
   "cell_type": "code",
   "execution_count": null,
   "metadata": {},
   "outputs": [],
   "source": []
  },
  {
   "cell_type": "code",
   "execution_count": null,
   "metadata": {},
   "outputs": [],
   "source": []
  },
  {
   "cell_type": "code",
   "execution_count": 98,
   "metadata": {},
   "outputs": [],
   "source": [
    "#intialize a dataframe to store all results\n",
    "model_names = ['Logistic Regression', 'Random Forest', 'KNNs', 'SVC', 'AdaBoost']\n",
    "results = pd.DataFrame(columns = ['Accuracy', 'Recall', 'Precision', 'F1_score'], index = model_names)"
   ]
  },
  {
   "cell_type": "code",
   "execution_count": 99,
   "metadata": {},
   "outputs": [],
   "source": [
    "#Write a loop to summarize all results by using confusion matrix dictionaries\n",
    "reports = [logreg_scores_dict, rf_scores_dict, knn_scores_dict, svm_scores_dict, ada_scores_dict]\n",
    "\n",
    "for row in range(0,results.shape[0]):\n",
    "    results.Accuracy[row] = round(reports[row]['accuracy'],3)\n",
    "    results.Recall[row] = round(reports[row]['macro avg']['recall'],3)\n",
    "    results.Precision[row] = round(reports[row]['macro avg']['precision'],3)\n",
    "    results.F1_score[row] = round(reports[row]['macro avg']['f1-score'],3)"
   ]
  },
  {
   "cell_type": "code",
   "execution_count": 100,
   "metadata": {},
   "outputs": [
    {
     "data": {
      "image/png": "[encoded data removed]",
      "text/plain": [
       "<Figure size 720x360 with 2 Axes>"
      ]
     },
     "metadata": {
      "needs_background": "light"
     },
     "output_type": "display_data"
    }
   ],
   "source": [
    "#display the results\n",
    "results = results.astype('float')\n",
    "plt.figure(figsize = (10,5))\n",
    "sns.heatmap(results, annot = True, cmap='RdYlGn', fmt = 'g')\n",
    "plt.title('Scores Summary')\n",
    "plt.show()"
   ]
  },
  {
   "cell_type": "code",
   "execution_count": null,
   "metadata": {},
   "outputs": [],
   "source": []
  },
  {
   "cell_type": "code",
   "execution_count": null,
   "metadata": {},
   "outputs": [],
   "source": []
  },
  {
   "cell_type": "code",
   "execution_count": null,
   "metadata": {},
   "outputs": [],
   "source": []
  },
  {
   "cell_type": "code",
   "execution_count": null,
   "metadata": {},
   "outputs": [],
   "source": []
  },
  {
   "cell_type": "code",
   "execution_count": null,
   "metadata": {},
   "outputs": [],
   "source": []
  },
  {
   "cell_type": "code",
   "execution_count": null,
   "metadata": {},
   "outputs": [],
   "source": []
  },
  {
   "cell_type": "code",
   "execution_count": null,
   "metadata": {},
   "outputs": [],
   "source": []
  },
  {
   "cell_type": "code",
   "execution_count": null,
   "metadata": {},
   "outputs": [],
   "source": []
  },
  {
   "cell_type": "markdown",
   "metadata": {},
   "source": [
    "#### Modelling End!"
   ]
  },
  {
   "cell_type": "code",
   "execution_count": null,
   "metadata": {},
   "outputs": [],
   "source": [
    "X1 = vec3.transform(X)"
   ]
  },
  {
   "cell_type": "code",
   "execution_count": null,
   "metadata": {
    "scrolled": false
   },
   "outputs": [],
   "source": [
    "prob_pred = pd.DataFrame(fitted_logreg_gs.predict_proba(X1))"
   ]
  },
  {
   "cell_type": "code",
   "execution_count": null,
   "metadata": {},
   "outputs": [],
   "source": [
    "prob_pred.columns = ['nlp_pred_1', 'nlp_pred_2', 'nlp_pred_3']"
   ]
  },
  {
   "cell_type": "code",
   "execution_count": null,
   "metadata": {
    "scrolled": true
   },
   "outputs": [],
   "source": [
    "prob_pred"
   ]
  },
  {
   "cell_type": "code",
   "execution_count": null,
   "metadata": {},
   "outputs": [],
   "source": [
    "prob_pred.to_csv('nlp_predictions.csv', index = False)"
   ]
  },
  {
   "cell_type": "code",
   "execution_count": null,
   "metadata": {},
   "outputs": [],
   "source": []
  },
  {
   "cell_type": "code",
   "execution_count": null,
   "metadata": {},
   "outputs": [],
   "source": []
  },
  {
   "cell_type": "code",
   "execution_count": null,
   "metadata": {},
   "outputs": [],
   "source": [
    "pred = pd.DataFrame(fitted_logreg_gs.predict(X1), columns = ['nlp_prediction'])"
   ]
  },
  {
   "cell_type": "code",
   "execution_count": null,
   "metadata": {},
   "outputs": [],
   "source": [
    "pred"
   ]
  },
  {
   "cell_type": "code",
   "execution_count": null,
   "metadata": {},
   "outputs": [],
   "source": [
    "pred.to_csv('nlp_output_abs.csv', index = False)"
   ]
  },
  {
   "cell_type": "code",
   "execution_count": null,
   "metadata": {},
   "outputs": [],
   "source": []
  }
 ],
 "metadata": {
  "kernelspec": {
   "display_name": "Python 3",
   "language": "python",
   "name": "python3"
  },
  "language_info": {
   "codemirror_mode": {
    "name": "ipython",
    "version": 3
   },
   "file_extension": ".py",
   "mimetype": "text/x-python",
   "name": "python",
   "nbconvert_exporter": "python",
   "pygments_lexer": "ipython3",
   "version": "3.7.6"
  }
 },
 "nbformat": 4,
 "nbformat_minor": 4
}
