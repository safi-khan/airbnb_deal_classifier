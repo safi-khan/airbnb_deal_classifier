{
 "cells": [
  {
   "cell_type": "markdown",
   "metadata": {},
   "source": [
    "#### Notebook Objective:\n",
    "This notebook is aimed at evaluating if the **description, summary or title text data** is able to classify the `deal_type`. The idea is to determine if simply looking at the text can help us make better predictions than randomly guessing."
   ]
  },
  {
   "cell_type": "markdown",
   "metadata": {},
   "source": [
    "---"
   ]
  },
  {
   "cell_type": "markdown",
   "metadata": {},
   "source": [
    "#### Import Libraries"
   ]
  },
  {
   "cell_type": "code",
   "execution_count": 1,
   "metadata": {},
   "outputs": [],
   "source": [
    "# Basic Data science libraries\n",
    "import numpy as np\n",
    "import pandas as pd\n",
    "import matplotlib.pyplot as plt\n",
    "%matplotlib inline\n",
    "import seaborn as sns"
   ]
  },
  {
   "cell_type": "code",
   "execution_count": 2,
   "metadata": {},
   "outputs": [],
   "source": [
    "#Importing NLP libraries\n",
    "\n",
    "# Importing wordcloud and its necessary stopwords package\n",
    "from wordcloud import WordCloud, STOPWORDS \n",
    "\n",
    "# Natural Language Processing Tool Kit Imports\n",
    "# Importing Natural Language ToolKit and its essential packages\n",
    "import nltk\n",
    "\n",
    "# For seeing and removing stopwords\n",
    "from nltk.corpus import stopwords \n",
    "\n",
    "# For lemmatizing our words \n",
    "from nltk.stem import WordNetLemmatizer\n",
    "\n",
    "# For stemming our words \n",
    "from nltk.stem import PorterStemmer\n",
    "\n",
    "# for cleaning punctuations\n",
    "import string \n",
    "\n",
    "# Regex libraries\n",
    "import re\n",
    "\n",
    "# For tokenizations\n",
    "from sklearn.feature_extraction.text import CountVectorizer\n",
    "from sklearn.feature_extraction.text import TfidfVectorizer"
   ]
  },
  {
   "cell_type": "code",
   "execution_count": 3,
   "metadata": {},
   "outputs": [],
   "source": [
    "#Modelling Libraries\n",
    "\n",
    "#Train-test split\n",
    "from sklearn.model_selection import train_test_split\n",
    "\n",
    "# Standard scaler for importing libraries\n",
    "from sklearn.preprocessing import StandardScaler\n",
    "\n",
    "# Importing classification models \n",
    "from sklearn.linear_model import LogisticRegression \n",
    "from sklearn.neighbors import KNeighborsClassifier\n",
    "from sklearn.decomposition import TruncatedSVD\n",
    "from sklearn.tree import DecisionTreeClassifier\n",
    "from sklearn.ensemble import RandomForestClassifier\n",
    "from sklearn.ensemble import AdaBoostClassifier\n",
    "from sklearn.svm import SVC\n",
    "\n",
    "# Evaluation Metrics libraries\n",
    "from sklearn.metrics import confusion_matrix\n",
    "from sklearn.metrics import classification_report\n",
    "from sklearn.metrics import accuracy_score, precision_score, recall_score, f1_score\n",
    "\n",
    "# For building up a pipeline\n",
    "from sklearn.pipeline import Pipeline\n",
    "\n",
    "# GridSearch cross-validation library\n",
    "from sklearn.model_selection import GridSearchCV\n",
    "\n",
    "# importing joblib to save models \n",
    "from joblib import dump, load\n",
    "\n",
    "#Ignore Warnings\n",
    "import warnings\n",
    "warnings.filterwarnings('ignore')"
   ]
  },
  {
   "cell_type": "markdown",
   "metadata": {},
   "source": [
    "---\n",
    "\n",
    "#### Import and Inspect data"
   ]
  },
  {
   "cell_type": "code",
   "execution_count": 4,
   "metadata": {},
   "outputs": [],
   "source": [
    "master = pd.read_csv('clean_data_w_deal.csv')"
   ]
  },
  {
   "cell_type": "code",
   "execution_count": 5,
   "metadata": {},
   "outputs": [
    {
     "data": {
      "text/plain": [
       "(31604, 118)"
      ]
     },
     "execution_count": 5,
     "metadata": {},
     "output_type": "execute_result"
    }
   ],
   "source": [
    "master.shape"
   ]
  },
  {
   "cell_type": "code",
   "execution_count": 6,
   "metadata": {},
   "outputs": [
    {
     "data": {
      "text/html": [
       "<div>\n",
       "<style scoped>\n",
       "    .dataframe tbody tr th:only-of-type {\n",
       "        vertical-align: middle;\n",
       "    }\n",
       "\n",
       "    .dataframe tbody tr th {\n",
       "        vertical-align: top;\n",
       "    }\n",
       "\n",
       "    .dataframe thead th {\n",
       "        text-align: right;\n",
       "    }\n",
       "</style>\n",
       "<table border=\"1\" class=\"dataframe\">\n",
       "  <thead>\n",
       "    <tr style=\"text-align: right;\">\n",
       "      <th></th>\n",
       "      <th>title</th>\n",
       "      <th>summary</th>\n",
       "      <th>description</th>\n",
       "      <th>transit</th>\n",
       "      <th>house_rules</th>\n",
       "      <th>max_guests</th>\n",
       "      <th>bathrooms</th>\n",
       "      <th>bedrooms</th>\n",
       "      <th>beds</th>\n",
       "      <th>price</th>\n",
       "      <th>...</th>\n",
       "      <th>cancellation_policy_moderate</th>\n",
       "      <th>cancellation_policy_strict</th>\n",
       "      <th>room_type_entire_home/apt</th>\n",
       "      <th>room_type_private_room</th>\n",
       "      <th>room_type_shared_room</th>\n",
       "      <th>experiences_offered_business</th>\n",
       "      <th>experiences_offered_family</th>\n",
       "      <th>experiences_offered_none</th>\n",
       "      <th>experiences_offered_romantic</th>\n",
       "      <th>experiences_offered_social</th>\n",
       "    </tr>\n",
       "  </thead>\n",
       "  <tbody>\n",
       "    <tr>\n",
       "      <th>0</th>\n",
       "      <td>Quiet Room in Leafy Village near Central London</td>\n",
       "      <td>My place is good for couples, solo adventurers...</td>\n",
       "      <td>My place is good for couples, solo adventurers...</td>\n",
       "      <td>Free parking on street, on bus route to centra...</td>\n",
       "      <td>not_available</td>\n",
       "      <td>2</td>\n",
       "      <td>2.0</td>\n",
       "      <td>1.0</td>\n",
       "      <td>1.0</td>\n",
       "      <td>39.0</td>\n",
       "      <td>...</td>\n",
       "      <td>0</td>\n",
       "      <td>0</td>\n",
       "      <td>0</td>\n",
       "      <td>1</td>\n",
       "      <td>0</td>\n",
       "      <td>0</td>\n",
       "      <td>0</td>\n",
       "      <td>1</td>\n",
       "      <td>0</td>\n",
       "      <td>0</td>\n",
       "    </tr>\n",
       "    <tr>\n",
       "      <th>1</th>\n",
       "      <td>Spacious room in private house.</td>\n",
       "      <td>Newly-decorated double room in beautiful house...</td>\n",
       "      <td>Newly-decorated double room in beautiful house...</td>\n",
       "      <td>Excellent transport links. Five minutes easy w...</td>\n",
       "      <td>Sorry, but no smokers please.</td>\n",
       "      <td>2</td>\n",
       "      <td>1.0</td>\n",
       "      <td>1.0</td>\n",
       "      <td>1.0</td>\n",
       "      <td>45.0</td>\n",
       "      <td>...</td>\n",
       "      <td>0</td>\n",
       "      <td>0</td>\n",
       "      <td>0</td>\n",
       "      <td>1</td>\n",
       "      <td>0</td>\n",
       "      <td>0</td>\n",
       "      <td>0</td>\n",
       "      <td>1</td>\n",
       "      <td>0</td>\n",
       "      <td>0</td>\n",
       "    </tr>\n",
       "    <tr>\n",
       "      <th>2</th>\n",
       "      <td>Bright room in lovely area plus C/Breakfast</td>\n",
       "      <td>Quiet location in smart area with good restaur...</td>\n",
       "      <td>Quiet location in smart area with good restaur...</td>\n",
       "      <td>not_available</td>\n",
       "      <td>Early Check In Weekends only from 1 o Clock on...</td>\n",
       "      <td>3</td>\n",
       "      <td>1.0</td>\n",
       "      <td>1.0</td>\n",
       "      <td>2.0</td>\n",
       "      <td>60.0</td>\n",
       "      <td>...</td>\n",
       "      <td>0</td>\n",
       "      <td>0</td>\n",
       "      <td>0</td>\n",
       "      <td>1</td>\n",
       "      <td>0</td>\n",
       "      <td>0</td>\n",
       "      <td>0</td>\n",
       "      <td>1</td>\n",
       "      <td>0</td>\n",
       "      <td>0</td>\n",
       "    </tr>\n",
       "    <tr>\n",
       "      <th>3</th>\n",
       "      <td>Bright, airy room by Tower Bridge and river</td>\n",
       "      <td>For solo travellers:  Bright, airy room in ver...</td>\n",
       "      <td>For solo travellers:  Bright, airy room in ver...</td>\n",
       "      <td>Walking In under 5 minutes you can be at Tower...</td>\n",
       "      <td>We are looking for respectful guests to share ...</td>\n",
       "      <td>1</td>\n",
       "      <td>1.0</td>\n",
       "      <td>1.0</td>\n",
       "      <td>1.0</td>\n",
       "      <td>55.0</td>\n",
       "      <td>...</td>\n",
       "      <td>0</td>\n",
       "      <td>0</td>\n",
       "      <td>0</td>\n",
       "      <td>1</td>\n",
       "      <td>0</td>\n",
       "      <td>0</td>\n",
       "      <td>0</td>\n",
       "      <td>1</td>\n",
       "      <td>0</td>\n",
       "      <td>0</td>\n",
       "    </tr>\n",
       "    <tr>\n",
       "      <th>4</th>\n",
       "      <td>Bright apartment at London Bridge</td>\n",
       "      <td>A bright and quiet apartment in Central London...</td>\n",
       "      <td>A bright and quiet apartment in Central London...</td>\n",
       "      <td>not_available</td>\n",
       "      <td>I would like that my guests feel like at their...</td>\n",
       "      <td>2</td>\n",
       "      <td>1.0</td>\n",
       "      <td>1.0</td>\n",
       "      <td>1.0</td>\n",
       "      <td>75.0</td>\n",
       "      <td>...</td>\n",
       "      <td>1</td>\n",
       "      <td>0</td>\n",
       "      <td>1</td>\n",
       "      <td>0</td>\n",
       "      <td>0</td>\n",
       "      <td>0</td>\n",
       "      <td>0</td>\n",
       "      <td>1</td>\n",
       "      <td>0</td>\n",
       "      <td>0</td>\n",
       "    </tr>\n",
       "  </tbody>\n",
       "</table>\n",
       "<p>5 rows × 118 columns</p>\n",
       "</div>"
      ],
      "text/plain": [
       "                                             title  \\\n",
       "0  Quiet Room in Leafy Village near Central London   \n",
       "1                  Spacious room in private house.   \n",
       "2      Bright room in lovely area plus C/Breakfast   \n",
       "3      Bright, airy room by Tower Bridge and river   \n",
       "4                Bright apartment at London Bridge   \n",
       "\n",
       "                                             summary  \\\n",
       "0  My place is good for couples, solo adventurers...   \n",
       "1  Newly-decorated double room in beautiful house...   \n",
       "2  Quiet location in smart area with good restaur...   \n",
       "3  For solo travellers:  Bright, airy room in ver...   \n",
       "4  A bright and quiet apartment in Central London...   \n",
       "\n",
       "                                         description  \\\n",
       "0  My place is good for couples, solo adventurers...   \n",
       "1  Newly-decorated double room in beautiful house...   \n",
       "2  Quiet location in smart area with good restaur...   \n",
       "3  For solo travellers:  Bright, airy room in ver...   \n",
       "4  A bright and quiet apartment in Central London...   \n",
       "\n",
       "                                             transit  \\\n",
       "0  Free parking on street, on bus route to centra...   \n",
       "1  Excellent transport links. Five minutes easy w...   \n",
       "2                                      not_available   \n",
       "3  Walking In under 5 minutes you can be at Tower...   \n",
       "4                                      not_available   \n",
       "\n",
       "                                         house_rules  max_guests  bathrooms  \\\n",
       "0                                      not_available           2        2.0   \n",
       "1                      Sorry, but no smokers please.           2        1.0   \n",
       "2  Early Check In Weekends only from 1 o Clock on...           3        1.0   \n",
       "3  We are looking for respectful guests to share ...           1        1.0   \n",
       "4  I would like that my guests feel like at their...           2        1.0   \n",
       "\n",
       "   bedrooms  beds  price  ...  cancellation_policy_moderate  \\\n",
       "0       1.0   1.0   39.0  ...                             0   \n",
       "1       1.0   1.0   45.0  ...                             0   \n",
       "2       1.0   2.0   60.0  ...                             0   \n",
       "3       1.0   1.0   55.0  ...                             0   \n",
       "4       1.0   1.0   75.0  ...                             1   \n",
       "\n",
       "   cancellation_policy_strict  room_type_entire_home/apt  \\\n",
       "0                           0                          0   \n",
       "1                           0                          0   \n",
       "2                           0                          0   \n",
       "3                           0                          0   \n",
       "4                           0                          1   \n",
       "\n",
       "   room_type_private_room  room_type_shared_room  \\\n",
       "0                       1                      0   \n",
       "1                       1                      0   \n",
       "2                       1                      0   \n",
       "3                       1                      0   \n",
       "4                       0                      0   \n",
       "\n",
       "   experiences_offered_business  experiences_offered_family  \\\n",
       "0                             0                           0   \n",
       "1                             0                           0   \n",
       "2                             0                           0   \n",
       "3                             0                           0   \n",
       "4                             0                           0   \n",
       "\n",
       "   experiences_offered_none  experiences_offered_romantic  \\\n",
       "0                         1                             0   \n",
       "1                         1                             0   \n",
       "2                         1                             0   \n",
       "3                         1                             0   \n",
       "4                         1                             0   \n",
       "\n",
       "   experiences_offered_social  \n",
       "0                           0  \n",
       "1                           0  \n",
       "2                           0  \n",
       "3                           0  \n",
       "4                           0  \n",
       "\n",
       "[5 rows x 118 columns]"
      ]
     },
     "execution_count": 6,
     "metadata": {},
     "output_type": "execute_result"
    }
   ],
   "source": [
    "master.head()"
   ]
  },
  {
   "cell_type": "code",
   "execution_count": 7,
   "metadata": {},
   "outputs": [],
   "source": [
    "text_df = master[['title', 'summary', 'description', 'deal_type']]"
   ]
  },
  {
   "cell_type": "code",
   "execution_count": 8,
   "metadata": {},
   "outputs": [
    {
     "data": {
      "text/html": [
       "<div>\n",
       "<style scoped>\n",
       "    .dataframe tbody tr th:only-of-type {\n",
       "        vertical-align: middle;\n",
       "    }\n",
       "\n",
       "    .dataframe tbody tr th {\n",
       "        vertical-align: top;\n",
       "    }\n",
       "\n",
       "    .dataframe thead th {\n",
       "        text-align: right;\n",
       "    }\n",
       "</style>\n",
       "<table border=\"1\" class=\"dataframe\">\n",
       "  <thead>\n",
       "    <tr style=\"text-align: right;\">\n",
       "      <th></th>\n",
       "      <th>title</th>\n",
       "      <th>summary</th>\n",
       "      <th>description</th>\n",
       "      <th>deal_type</th>\n",
       "    </tr>\n",
       "  </thead>\n",
       "  <tbody>\n",
       "    <tr>\n",
       "      <th>0</th>\n",
       "      <td>Quiet Room in Leafy Village near Central London</td>\n",
       "      <td>My place is good for couples, solo adventurers...</td>\n",
       "      <td>My place is good for couples, solo adventurers...</td>\n",
       "      <td>Fair</td>\n",
       "    </tr>\n",
       "    <tr>\n",
       "      <th>1</th>\n",
       "      <td>Spacious room in private house.</td>\n",
       "      <td>Newly-decorated double room in beautiful house...</td>\n",
       "      <td>Newly-decorated double room in beautiful house...</td>\n",
       "      <td>Fair</td>\n",
       "    </tr>\n",
       "    <tr>\n",
       "      <th>2</th>\n",
       "      <td>Bright room in lovely area plus C/Breakfast</td>\n",
       "      <td>Quiet location in smart area with good restaur...</td>\n",
       "      <td>Quiet location in smart area with good restaur...</td>\n",
       "      <td>Expensive</td>\n",
       "    </tr>\n",
       "    <tr>\n",
       "      <th>3</th>\n",
       "      <td>Bright, airy room by Tower Bridge and river</td>\n",
       "      <td>For solo travellers:  Bright, airy room in ver...</td>\n",
       "      <td>For solo travellers:  Bright, airy room in ver...</td>\n",
       "      <td>Fair</td>\n",
       "    </tr>\n",
       "    <tr>\n",
       "      <th>4</th>\n",
       "      <td>Bright apartment at London Bridge</td>\n",
       "      <td>A bright and quiet apartment in Central London...</td>\n",
       "      <td>A bright and quiet apartment in Central London...</td>\n",
       "      <td>Good</td>\n",
       "    </tr>\n",
       "  </tbody>\n",
       "</table>\n",
       "</div>"
      ],
      "text/plain": [
       "                                             title  \\\n",
       "0  Quiet Room in Leafy Village near Central London   \n",
       "1                  Spacious room in private house.   \n",
       "2      Bright room in lovely area plus C/Breakfast   \n",
       "3      Bright, airy room by Tower Bridge and river   \n",
       "4                Bright apartment at London Bridge   \n",
       "\n",
       "                                             summary  \\\n",
       "0  My place is good for couples, solo adventurers...   \n",
       "1  Newly-decorated double room in beautiful house...   \n",
       "2  Quiet location in smart area with good restaur...   \n",
       "3  For solo travellers:  Bright, airy room in ver...   \n",
       "4  A bright and quiet apartment in Central London...   \n",
       "\n",
       "                                         description  deal_type  \n",
       "0  My place is good for couples, solo adventurers...       Fair  \n",
       "1  Newly-decorated double room in beautiful house...       Fair  \n",
       "2  Quiet location in smart area with good restaur...  Expensive  \n",
       "3  For solo travellers:  Bright, airy room in ver...       Fair  \n",
       "4  A bright and quiet apartment in Central London...       Good  "
      ]
     },
     "execution_count": 8,
     "metadata": {},
     "output_type": "execute_result"
    }
   ],
   "source": [
    "text_df.head()"
   ]
  },
  {
   "cell_type": "markdown",
   "metadata": {},
   "source": [
    "---\n",
    "#### Standardize all the text"
   ]
  },
  {
   "cell_type": "code",
   "execution_count": 9,
   "metadata": {},
   "outputs": [],
   "source": [
    "#making a loop to remove any capitalization or punctuations and the digits that may represent any numeric values\n",
    "\n",
    "for i in text_df.columns:\n",
    "    #lower case all text\n",
    "    text_df[i] = text_df[i].str.lower()\n",
    "    \n",
    "    #remove punctuations\n",
    "    text_df[i] = text_df[i].str.translate(str.maketrans('', '', string.punctuation))\n",
    "    \n",
    "    #removing digits\n",
    "    text_df[i] = text_df[i].str.translate(str.maketrans('', '', string.digits))\n",
    "    \n",
    "    "
   ]
  },
  {
   "cell_type": "code",
   "execution_count": 10,
   "metadata": {},
   "outputs": [
    {
     "data": {
      "text/html": [
       "<div>\n",
       "<style scoped>\n",
       "    .dataframe tbody tr th:only-of-type {\n",
       "        vertical-align: middle;\n",
       "    }\n",
       "\n",
       "    .dataframe tbody tr th {\n",
       "        vertical-align: top;\n",
       "    }\n",
       "\n",
       "    .dataframe thead th {\n",
       "        text-align: right;\n",
       "    }\n",
       "</style>\n",
       "<table border=\"1\" class=\"dataframe\">\n",
       "  <thead>\n",
       "    <tr style=\"text-align: right;\">\n",
       "      <th></th>\n",
       "      <th>title</th>\n",
       "      <th>summary</th>\n",
       "      <th>description</th>\n",
       "      <th>deal_type</th>\n",
       "    </tr>\n",
       "  </thead>\n",
       "  <tbody>\n",
       "    <tr>\n",
       "      <th>0</th>\n",
       "      <td>quiet room in leafy village near central london</td>\n",
       "      <td>my place is good for couples solo adventurers ...</td>\n",
       "      <td>my place is good for couples solo adventurers ...</td>\n",
       "      <td>fair</td>\n",
       "    </tr>\n",
       "    <tr>\n",
       "      <th>1</th>\n",
       "      <td>spacious room in private house</td>\n",
       "      <td>newlydecorated double room in beautiful house ...</td>\n",
       "      <td>newlydecorated double room in beautiful house ...</td>\n",
       "      <td>fair</td>\n",
       "    </tr>\n",
       "    <tr>\n",
       "      <th>2</th>\n",
       "      <td>bright room in lovely area plus cbreakfast</td>\n",
       "      <td>quiet location in smart area with good restaur...</td>\n",
       "      <td>quiet location in smart area with good restaur...</td>\n",
       "      <td>expensive</td>\n",
       "    </tr>\n",
       "    <tr>\n",
       "      <th>3</th>\n",
       "      <td>bright airy room by tower bridge and river</td>\n",
       "      <td>for solo travellers  bright airy room in very ...</td>\n",
       "      <td>for solo travellers  bright airy room in very ...</td>\n",
       "      <td>fair</td>\n",
       "    </tr>\n",
       "    <tr>\n",
       "      <th>4</th>\n",
       "      <td>bright apartment at london bridge</td>\n",
       "      <td>a bright and quiet apartment in central london...</td>\n",
       "      <td>a bright and quiet apartment in central london...</td>\n",
       "      <td>good</td>\n",
       "    </tr>\n",
       "    <tr>\n",
       "      <th>...</th>\n",
       "      <td>...</td>\n",
       "      <td>...</td>\n",
       "      <td>...</td>\n",
       "      <td>...</td>\n",
       "    </tr>\n",
       "    <tr>\n",
       "      <th>31599</th>\n",
       "      <td>stunning flat londonfitzrovia</td>\n",
       "      <td>bright stunning flat situated right in the tre...</td>\n",
       "      <td>bright stunning flat situated right in the tre...</td>\n",
       "      <td>expensive</td>\n",
       "    </tr>\n",
       "    <tr>\n",
       "      <th>31600</th>\n",
       "      <td>piccadilly circus  double room</td>\n",
       "      <td>fantastic double room in the heart of londons ...</td>\n",
       "      <td>fantastic double room in the heart of londons ...</td>\n",
       "      <td>expensive</td>\n",
       "    </tr>\n",
       "    <tr>\n",
       "      <th>31601</th>\n",
       "      <td>charming studio in paddington p</td>\n",
       "      <td>great location in paddington comfortable tripl...</td>\n",
       "      <td>great location in paddington comfortable tripl...</td>\n",
       "      <td>good</td>\n",
       "    </tr>\n",
       "    <tr>\n",
       "      <th>31602</th>\n",
       "      <td>marylebone high street very large double room</td>\n",
       "      <td>very large gorgeous double room in lovely hous...</td>\n",
       "      <td>very large gorgeous double room in lovely hous...</td>\n",
       "      <td>good</td>\n",
       "    </tr>\n",
       "    <tr>\n",
       "      <th>31603</th>\n",
       "      <td>five star flat in londons west end</td>\n",
       "      <td>luxurious quiet  safe apartment in central lon...</td>\n",
       "      <td>luxurious quiet  safe apartment in central lon...</td>\n",
       "      <td>expensive</td>\n",
       "    </tr>\n",
       "  </tbody>\n",
       "</table>\n",
       "<p>31604 rows × 4 columns</p>\n",
       "</div>"
      ],
      "text/plain": [
       "                                                 title  \\\n",
       "0      quiet room in leafy village near central london   \n",
       "1                       spacious room in private house   \n",
       "2           bright room in lovely area plus cbreakfast   \n",
       "3           bright airy room by tower bridge and river   \n",
       "4                    bright apartment at london bridge   \n",
       "...                                                ...   \n",
       "31599                    stunning flat londonfitzrovia   \n",
       "31600                  piccadilly circus  double room    \n",
       "31601                  charming studio in paddington p   \n",
       "31602    marylebone high street very large double room   \n",
       "31603               five star flat in londons west end   \n",
       "\n",
       "                                                 summary  \\\n",
       "0      my place is good for couples solo adventurers ...   \n",
       "1      newlydecorated double room in beautiful house ...   \n",
       "2      quiet location in smart area with good restaur...   \n",
       "3      for solo travellers  bright airy room in very ...   \n",
       "4      a bright and quiet apartment in central london...   \n",
       "...                                                  ...   \n",
       "31599  bright stunning flat situated right in the tre...   \n",
       "31600  fantastic double room in the heart of londons ...   \n",
       "31601  great location in paddington comfortable tripl...   \n",
       "31602  very large gorgeous double room in lovely hous...   \n",
       "31603  luxurious quiet  safe apartment in central lon...   \n",
       "\n",
       "                                             description  deal_type  \n",
       "0      my place is good for couples solo adventurers ...       fair  \n",
       "1      newlydecorated double room in beautiful house ...       fair  \n",
       "2      quiet location in smart area with good restaur...  expensive  \n",
       "3      for solo travellers  bright airy room in very ...       fair  \n",
       "4      a bright and quiet apartment in central london...       good  \n",
       "...                                                  ...        ...  \n",
       "31599  bright stunning flat situated right in the tre...  expensive  \n",
       "31600  fantastic double room in the heart of londons ...  expensive  \n",
       "31601  great location in paddington comfortable tripl...       good  \n",
       "31602  very large gorgeous double room in lovely hous...       good  \n",
       "31603  luxurious quiet  safe apartment in central lon...  expensive  \n",
       "\n",
       "[31604 rows x 4 columns]"
      ]
     },
     "execution_count": 10,
     "metadata": {},
     "output_type": "execute_result"
    }
   ],
   "source": [
    "text_df"
   ]
  },
  {
   "cell_type": "code",
   "execution_count": 11,
   "metadata": {},
   "outputs": [],
   "source": [
    "#\n",
    "text_df.reset_index(inplace= True, drop = True)"
   ]
  },
  {
   "cell_type": "code",
   "execution_count": 12,
   "metadata": {},
   "outputs": [
    {
     "data": {
      "text/plain": [
       "title          0\n",
       "summary        0\n",
       "description    0\n",
       "deal_type      0\n",
       "dtype: int64"
      ]
     },
     "execution_count": 12,
     "metadata": {},
     "output_type": "execute_result"
    }
   ],
   "source": [
    "#Checking for any nulls\n",
    "text_df.isna().sum()"
   ]
  },
  {
   "cell_type": "code",
   "execution_count": 13,
   "metadata": {},
   "outputs": [
    {
     "data": {
      "text/plain": [
       "(31604, 4)"
      ]
     },
     "execution_count": 13,
     "metadata": {},
     "output_type": "execute_result"
    }
   ],
   "source": [
    "#checking shape of the dataset\n",
    "text_df.shape"
   ]
  },
  {
   "cell_type": "code",
   "execution_count": 14,
   "metadata": {},
   "outputs": [
    {
     "data": {
      "text/plain": [
       "fair         13547\n",
       "good         10624\n",
       "expensive     7433\n",
       "Name: deal_type, dtype: int64"
      ]
     },
     "execution_count": 14,
     "metadata": {},
     "output_type": "execute_result"
    }
   ],
   "source": [
    "#Checking for target class imbalances\n",
    "text_df.deal_type.value_counts()"
   ]
  },
  {
   "cell_type": "markdown",
   "metadata": {},
   "source": [
    "---\n",
    "##### Combining all Text Columns"
   ]
  },
  {
   "cell_type": "code",
   "execution_count": 15,
   "metadata": {},
   "outputs": [
    {
     "data": {
      "text/plain": [
       "Index(['title', 'summary', 'description', 'deal_type'], dtype='object')"
      ]
     },
     "execution_count": 15,
     "metadata": {},
     "output_type": "execute_result"
    }
   ],
   "source": [
    "#Checking all column names to combine\n",
    "text_df.columns"
   ]
  },
  {
   "cell_type": "code",
   "execution_count": 16,
   "metadata": {},
   "outputs": [],
   "source": [
    "#Adding columns ti make a new column\n",
    "text_df['all_text'] = text_df['title'] + ' ' + text_df['summary'] + ' ' + text_df['description']"
   ]
  },
  {
   "cell_type": "code",
   "execution_count": 17,
   "metadata": {},
   "outputs": [],
   "source": [
    "#making a new dataframe with only one text column for simplicity\n",
    "nlp_df = text_df[['all_text', 'deal_type']]"
   ]
  },
  {
   "cell_type": "code",
   "execution_count": 18,
   "metadata": {},
   "outputs": [
    {
     "data": {
      "text/html": [
       "<div>\n",
       "<style scoped>\n",
       "    .dataframe tbody tr th:only-of-type {\n",
       "        vertical-align: middle;\n",
       "    }\n",
       "\n",
       "    .dataframe tbody tr th {\n",
       "        vertical-align: top;\n",
       "    }\n",
       "\n",
       "    .dataframe thead th {\n",
       "        text-align: right;\n",
       "    }\n",
       "</style>\n",
       "<table border=\"1\" class=\"dataframe\">\n",
       "  <thead>\n",
       "    <tr style=\"text-align: right;\">\n",
       "      <th></th>\n",
       "      <th>all_text</th>\n",
       "      <th>deal_type</th>\n",
       "    </tr>\n",
       "  </thead>\n",
       "  <tbody>\n",
       "    <tr>\n",
       "      <th>0</th>\n",
       "      <td>quiet room in leafy village near central londo...</td>\n",
       "      <td>fair</td>\n",
       "    </tr>\n",
       "    <tr>\n",
       "      <th>1</th>\n",
       "      <td>spacious room in private house newlydecorated ...</td>\n",
       "      <td>fair</td>\n",
       "    </tr>\n",
       "    <tr>\n",
       "      <th>2</th>\n",
       "      <td>bright room in lovely area plus cbreakfast qui...</td>\n",
       "      <td>expensive</td>\n",
       "    </tr>\n",
       "    <tr>\n",
       "      <th>3</th>\n",
       "      <td>bright airy room by tower bridge and river for...</td>\n",
       "      <td>fair</td>\n",
       "    </tr>\n",
       "    <tr>\n",
       "      <th>4</th>\n",
       "      <td>bright apartment at london bridge a bright and...</td>\n",
       "      <td>good</td>\n",
       "    </tr>\n",
       "  </tbody>\n",
       "</table>\n",
       "</div>"
      ],
      "text/plain": [
       "                                            all_text  deal_type\n",
       "0  quiet room in leafy village near central londo...       fair\n",
       "1  spacious room in private house newlydecorated ...       fair\n",
       "2  bright room in lovely area plus cbreakfast qui...  expensive\n",
       "3  bright airy room by tower bridge and river for...       fair\n",
       "4  bright apartment at london bridge a bright and...       good"
      ]
     },
     "execution_count": 18,
     "metadata": {},
     "output_type": "execute_result"
    }
   ],
   "source": [
    "#checking new df\n",
    "nlp_df.head()"
   ]
  },
  {
   "cell_type": "markdown",
   "metadata": {},
   "source": [
    "## Train-Test Split"
   ]
  },
  {
   "cell_type": "code",
   "execution_count": 19,
   "metadata": {},
   "outputs": [],
   "source": [
    "#Intitate the Train Test Split\n",
    "X = nlp_df['all_text']\n",
    "y = nlp_df['deal_type']\n",
    "\n",
    "# We will stratify in order to ensure our data is evenly split for all deal_types \n",
    "X_rem, X_test, y_rem, y_test = train_test_split(X, y, test_size = 0.3, stratify = y, random_state = 88)"
   ]
  },
  {
   "cell_type": "code",
   "execution_count": 20,
   "metadata": {
    "scrolled": true
   },
   "outputs": [
    {
     "data": {
      "text/plain": [
       "<matplotlib.axes._subplots.AxesSubplot at 0x1dbf9bc3d48>"
      ]
     },
     "execution_count": 20,
     "metadata": {},
     "output_type": "execute_result"
    },
    {
     "data": {
      "image/png": "[encoded data removed]",
      "text/plain": [
       "<Figure size 432x288 with 1 Axes>"
      ]
     },
     "metadata": {
      "needs_background": "light"
     },
     "output_type": "display_data"
    }
   ],
   "source": [
    "#Checking to ensure the data are balanced (visuals)\n",
    "y_rem.value_counts().plot(kind='bar', alpha = 0.5)"
   ]
  },
  {
   "cell_type": "code",
   "execution_count": 21,
   "metadata": {
    "scrolled": true
   },
   "outputs": [
    {
     "data": {
      "text/plain": [
       "fair         9483\n",
       "good         7436\n",
       "expensive    5203\n",
       "Name: deal_type, dtype: int64"
      ]
     },
     "execution_count": 21,
     "metadata": {},
     "output_type": "execute_result"
    }
   ],
   "source": [
    "#Checking target class once again in the training set\n",
    "y_rem.value_counts()"
   ]
  },
  {
   "cell_type": "markdown",
   "metadata": {},
   "source": [
    "We have a clear case of class imbalances, so we will vectorize and then upsample using `SMOTE` method."
   ]
  },
  {
   "cell_type": "code",
   "execution_count": 22,
   "metadata": {},
   "outputs": [
    {
     "name": "stderr",
     "output_type": "stream",
     "text": [
      "[nltk_data] Downloading package stopwords to\n",
      "[nltk_data]     C:\\Users\\safiu\\AppData\\Roaming\\nltk_data...\n",
      "[nltk_data]   Package stopwords is already up-to-date!\n"
     ]
    }
   ],
   "source": [
    "#Defining custom tokenizer\n",
    "\n",
    "nltk.download('stopwords')\n",
    "from nltk.corpus import stopwords \n",
    "ENGLISH_STOP_WORDS = stopwords.words('english')\n",
    "\n",
    "def my_tokenizer(sentence):\n",
    "    \n",
    "    # split sentence into words\n",
    "    listofwords = sentence.split(' ')\n",
    "    listofstemmed_words = []\n",
    "    \n",
    "        \n",
    "    # Remove stopwords and any tokens that are just empty strings\n",
    "    for word in listofwords:\n",
    "        if (not word in ENGLISH_STOP_WORDS) and (word!=''):\n",
    "            # Stem words\n",
    "            stemmed_word = stemmer.stem(word)\n",
    "            listofstemmed_words.append(stemmed_word)\n",
    "\n",
    "    return listofstemmed_words"
   ]
  },
  {
   "cell_type": "code",
   "execution_count": 23,
   "metadata": {},
   "outputs": [],
   "source": [
    "stemmer = nltk.stem.PorterStemmer()\n",
    "vec = CountVectorizer(min_df = 10, max_df = 0.8, tokenizer = my_tokenizer)"
   ]
  },
  {
   "cell_type": "code",
   "execution_count": 24,
   "metadata": {
    "scrolled": false
   },
   "outputs": [
    {
     "name": "stdout",
     "output_type": "stream",
     "text": [
      "Wall time: 3min 18s\n"
     ]
    }
   ],
   "source": [
    "%%time\n",
    "\n",
    "#Make a baseline CountVectorizer\n",
    "\n",
    "vec.fit(X_rem)\n",
    "X_rem = vec.transform(X_rem)\n",
    "X_test = vec.transform(X_test)"
   ]
  },
  {
   "cell_type": "code",
   "execution_count": 25,
   "metadata": {},
   "outputs": [],
   "source": [
    "#addressing Imbalance dataset using SMOTE method\n",
    "from imblearn.over_sampling import SMOTE\n",
    "sm = SMOTE(random_state = 8, sampling_strategy = 'all', k_neighbors=7)\n",
    "X_rem, y_rem = sm.fit_sample(X_rem, y_rem)"
   ]
  },
  {
   "cell_type": "code",
   "execution_count": 26,
   "metadata": {},
   "outputs": [
    {
     "name": "stdout",
     "output_type": "stream",
     "text": [
      "Wall time: 6.78 s\n"
     ]
    },
    {
     "data": {
      "text/plain": [
       "LogisticRegression(n_jobs=-1, random_state=8)"
      ]
     },
     "execution_count": 26,
     "metadata": {},
     "output_type": "execute_result"
    }
   ],
   "source": [
    "%%time\n",
    "\n",
    "# fitting a basic logistic regression model with defaults as a candidate benchmark for our hypertuned models\n",
    "\n",
    "logreg = LogisticRegression(n_jobs = -1, random_state = 8)\n",
    "logreg.fit(X_rem, y_rem)"
   ]
  },
  {
   "cell_type": "code",
   "execution_count": 27,
   "metadata": {},
   "outputs": [
    {
     "name": "stdout",
     "output_type": "stream",
     "text": [
      "Training Score with CountVectorizer:  0.6775\n",
      "Test Score with CountVectorizer:      0.4707\n"
     ]
    }
   ],
   "source": [
    "# Checking accuracy scores\n",
    "print('Training Score with CountVectorizer: ', round(logreg.score(X_rem,y_rem),4))\n",
    "print('Test Score with CountVectorizer:     ', round(logreg.score(X_test,y_test),4))"
   ]
  },
  {
   "cell_type": "markdown",
   "metadata": {},
   "source": [
    "##### lets see what words are dominating the predictions from the previous vectorization and remove any irrelvant words"
   ]
  },
  {
   "cell_type": "code",
   "execution_count": 28,
   "metadata": {},
   "outputs": [
    {
     "data": {
      "text/html": [
       "<div>\n",
       "<style scoped>\n",
       "    .dataframe tbody tr th:only-of-type {\n",
       "        vertical-align: middle;\n",
       "    }\n",
       "\n",
       "    .dataframe tbody tr th {\n",
       "        vertical-align: top;\n",
       "    }\n",
       "\n",
       "    .dataframe thead th {\n",
       "        text-align: right;\n",
       "    }\n",
       "</style>\n",
       "<table border=\"1\" class=\"dataframe\">\n",
       "  <thead>\n",
       "    <tr style=\"text-align: right;\">\n",
       "      <th></th>\n",
       "      <th>word</th>\n",
       "      <th>count</th>\n",
       "    </tr>\n",
       "  </thead>\n",
       "  <tbody>\n",
       "    <tr>\n",
       "      <th>2318</th>\n",
       "      <td>london</td>\n",
       "      <td>59229</td>\n",
       "    </tr>\n",
       "    <tr>\n",
       "      <th>3304</th>\n",
       "      <td>room</td>\n",
       "      <td>53032</td>\n",
       "    </tr>\n",
       "    <tr>\n",
       "      <th>1473</th>\n",
       "      <td>flat</td>\n",
       "      <td>45495</td>\n",
       "    </tr>\n",
       "    <tr>\n",
       "      <th>354</th>\n",
       "      <td>bedroom</td>\n",
       "      <td>41107</td>\n",
       "    </tr>\n",
       "    <tr>\n",
       "      <th>4234</th>\n",
       "      <td>walk</td>\n",
       "      <td>40704</td>\n",
       "    </tr>\n",
       "    <tr>\n",
       "      <th>347</th>\n",
       "      <td>bed</td>\n",
       "      <td>32812</td>\n",
       "    </tr>\n",
       "    <tr>\n",
       "      <th>2513</th>\n",
       "      <td>minut</td>\n",
       "      <td>32633</td>\n",
       "    </tr>\n",
       "    <tr>\n",
       "      <th>161</th>\n",
       "      <td>apart</td>\n",
       "      <td>31891</td>\n",
       "    </tr>\n",
       "    <tr>\n",
       "      <th>1124</th>\n",
       "      <td>doubl</td>\n",
       "      <td>31279</td>\n",
       "    </tr>\n",
       "    <tr>\n",
       "      <th>3720</th>\n",
       "      <td>station</td>\n",
       "      <td>29692</td>\n",
       "    </tr>\n",
       "    <tr>\n",
       "      <th>2304</th>\n",
       "      <td>locat</td>\n",
       "      <td>28781</td>\n",
       "    </tr>\n",
       "    <tr>\n",
       "      <th>2502</th>\n",
       "      <td>min</td>\n",
       "      <td>26395</td>\n",
       "    </tr>\n",
       "    <tr>\n",
       "      <th>2147</th>\n",
       "      <td>kitchen</td>\n",
       "      <td>26334</td>\n",
       "    </tr>\n",
       "    <tr>\n",
       "      <th>648</th>\n",
       "      <td>central</td>\n",
       "      <td>23155</td>\n",
       "    </tr>\n",
       "    <tr>\n",
       "      <th>318</th>\n",
       "      <td>bathroom</td>\n",
       "      <td>22784</td>\n",
       "    </tr>\n",
       "    <tr>\n",
       "      <th>2826</th>\n",
       "      <td>park</td>\n",
       "      <td>22368</td>\n",
       "    </tr>\n",
       "    <tr>\n",
       "      <th>2935</th>\n",
       "      <td>place</td>\n",
       "      <td>21273</td>\n",
       "    </tr>\n",
       "    <tr>\n",
       "      <th>196</th>\n",
       "      <td>area</td>\n",
       "      <td>20324</td>\n",
       "    </tr>\n",
       "    <tr>\n",
       "      <th>1916</th>\n",
       "      <td>hous</td>\n",
       "      <td>20119</td>\n",
       "    </tr>\n",
       "    <tr>\n",
       "      <th>2287</th>\n",
       "      <td>live</td>\n",
       "      <td>19672</td>\n",
       "    </tr>\n",
       "    <tr>\n",
       "      <th>2343</th>\n",
       "      <td>love</td>\n",
       "      <td>18831</td>\n",
       "    </tr>\n",
       "    <tr>\n",
       "      <th>3765</th>\n",
       "      <td>street</td>\n",
       "      <td>18471</td>\n",
       "    </tr>\n",
       "    <tr>\n",
       "      <th>2199</th>\n",
       "      <td>larg</td>\n",
       "      <td>18293</td>\n",
       "    </tr>\n",
       "    <tr>\n",
       "      <th>1603</th>\n",
       "      <td>garden</td>\n",
       "      <td>18099</td>\n",
       "    </tr>\n",
       "    <tr>\n",
       "      <th>772</th>\n",
       "      <td>close</td>\n",
       "      <td>17751</td>\n",
       "    </tr>\n",
       "    <tr>\n",
       "      <th>1486</th>\n",
       "      <td>floor</td>\n",
       "      <td>17535</td>\n",
       "    </tr>\n",
       "    <tr>\n",
       "      <th>4056</th>\n",
       "      <td>tube</td>\n",
       "      <td>17027</td>\n",
       "    </tr>\n",
       "    <tr>\n",
       "      <th>18</th>\n",
       "      <td>access</td>\n",
       "      <td>15438</td>\n",
       "    </tr>\n",
       "    <tr>\n",
       "      <th>2723</th>\n",
       "      <td>one</td>\n",
       "      <td>15317</td>\n",
       "    </tr>\n",
       "    <tr>\n",
       "      <th>1699</th>\n",
       "      <td>great</td>\n",
       "      <td>14830</td>\n",
       "    </tr>\n",
       "    <tr>\n",
       "      <th>3250</th>\n",
       "      <td>restaur</td>\n",
       "      <td>14611</td>\n",
       "    </tr>\n",
       "    <tr>\n",
       "      <th>3638</th>\n",
       "      <td>spaciou</td>\n",
       "      <td>14216</td>\n",
       "    </tr>\n",
       "    <tr>\n",
       "      <th>3481</th>\n",
       "      <td>shop</td>\n",
       "      <td>13777</td>\n",
       "    </tr>\n",
       "    <tr>\n",
       "      <th>263</th>\n",
       "      <td>away</td>\n",
       "      <td>13700</td>\n",
       "    </tr>\n",
       "    <tr>\n",
       "      <th>2529</th>\n",
       "      <td>modern</td>\n",
       "      <td>13507</td>\n",
       "    </tr>\n",
       "    <tr>\n",
       "      <th>1882</th>\n",
       "      <td>home</td>\n",
       "      <td>13103</td>\n",
       "    </tr>\n",
       "    <tr>\n",
       "      <th>3117</th>\n",
       "      <td>quiet</td>\n",
       "      <td>12859</td>\n",
       "    </tr>\n",
       "    <tr>\n",
       "      <th>4083</th>\n",
       "      <td>two</td>\n",
       "      <td>12758</td>\n",
       "    </tr>\n",
       "    <tr>\n",
       "      <th>3044</th>\n",
       "      <td>privat</td>\n",
       "      <td>12500</td>\n",
       "    </tr>\n",
       "    <tr>\n",
       "      <th>1729</th>\n",
       "      <td>guest</td>\n",
       "      <td>12422</td>\n",
       "    </tr>\n",
       "    <tr>\n",
       "      <th>810</th>\n",
       "      <td>comfort</td>\n",
       "      <td>12409</td>\n",
       "    </tr>\n",
       "    <tr>\n",
       "      <th>3637</th>\n",
       "      <td>space</td>\n",
       "      <td>12317</td>\n",
       "    </tr>\n",
       "    <tr>\n",
       "      <th>343</th>\n",
       "      <td>beauti</td>\n",
       "      <td>12080</td>\n",
       "    </tr>\n",
       "    <tr>\n",
       "      <th>120</th>\n",
       "      <td>also</td>\n",
       "      <td>11491</td>\n",
       "    </tr>\n",
       "    <tr>\n",
       "      <th>3725</th>\n",
       "      <td>stay</td>\n",
       "      <td>10813</td>\n",
       "    </tr>\n",
       "    <tr>\n",
       "      <th>746</th>\n",
       "      <td>citi</td>\n",
       "      <td>10415</td>\n",
       "    </tr>\n",
       "    <tr>\n",
       "      <th>1670</th>\n",
       "      <td>good</td>\n",
       "      <td>10328</td>\n",
       "    </tr>\n",
       "    <tr>\n",
       "      <th>3288</th>\n",
       "      <td>road</td>\n",
       "      <td>10016</td>\n",
       "    </tr>\n",
       "    <tr>\n",
       "      <th>505</th>\n",
       "      <td>bright</td>\n",
       "      <td>9695</td>\n",
       "    </tr>\n",
       "    <tr>\n",
       "      <th>4034</th>\n",
       "      <td>travel</td>\n",
       "      <td>9645</td>\n",
       "    </tr>\n",
       "  </tbody>\n",
       "</table>\n",
       "</div>"
      ],
      "text/plain": [
       "          word  count\n",
       "2318    london  59229\n",
       "3304      room  53032\n",
       "1473      flat  45495\n",
       "354    bedroom  41107\n",
       "4234      walk  40704\n",
       "347        bed  32812\n",
       "2513     minut  32633\n",
       "161      apart  31891\n",
       "1124     doubl  31279\n",
       "3720   station  29692\n",
       "2304     locat  28781\n",
       "2502       min  26395\n",
       "2147   kitchen  26334\n",
       "648    central  23155\n",
       "318   bathroom  22784\n",
       "2826      park  22368\n",
       "2935     place  21273\n",
       "196       area  20324\n",
       "1916      hous  20119\n",
       "2287      live  19672\n",
       "2343      love  18831\n",
       "3765    street  18471\n",
       "2199      larg  18293\n",
       "1603    garden  18099\n",
       "772      close  17751\n",
       "1486     floor  17535\n",
       "4056      tube  17027\n",
       "18      access  15438\n",
       "2723       one  15317\n",
       "1699     great  14830\n",
       "3250   restaur  14611\n",
       "3638   spaciou  14216\n",
       "3481      shop  13777\n",
       "263       away  13700\n",
       "2529    modern  13507\n",
       "1882      home  13103\n",
       "3117     quiet  12859\n",
       "4083       two  12758\n",
       "3044    privat  12500\n",
       "1729     guest  12422\n",
       "810    comfort  12409\n",
       "3637     space  12317\n",
       "343     beauti  12080\n",
       "120       also  11491\n",
       "3725      stay  10813\n",
       "746       citi  10415\n",
       "1670      good  10328\n",
       "3288      road  10016\n",
       "505     bright   9695\n",
       "4034    travel   9645"
      ]
     },
     "execution_count": 28,
     "metadata": {},
     "output_type": "execute_result"
    }
   ],
   "source": [
    "#generating a dataframe with top 50 words with highest frequency after CountVectorizer\n",
    "word_counts = np.array(np.sum(X_rem, axis=0)).reshape((-1,))\n",
    "words = np.array(vec.get_feature_names())\n",
    "words_df = pd.DataFrame({\"word\":words, \n",
    "                         \"count\":word_counts})\n",
    "words_df.sort_values(by=\"count\", ascending=False).head(50)"
   ]
  },
  {
   "cell_type": "code",
   "execution_count": 29,
   "metadata": {},
   "outputs": [],
   "source": [
    "#make an array of all the high freq words to remove them later in the tokenizer by adding to stop words list\n",
    "drop_words = ['street', 'area', 'bathroom', 'hous', 'locat', 'london', 'room', 'walk', 'flat', 'minut', 'bedroom', 'one',\n",
    "              'station', 'bed', 'min', 'kitchen', 'apart', 'live', 'floor', 'guest', 'pleas', 'also', 'away', 'line',\n",
    "             'home', 'bu', 'two', 'three', 'five', 'stay', 'travel', 'road', 'citi', ]"
   ]
  },
  {
   "cell_type": "markdown",
   "metadata": {},
   "source": [
    "##### Redefine the tokenizer with high-frequency words removed"
   ]
  },
  {
   "cell_type": "code",
   "execution_count": 30,
   "metadata": {},
   "outputs": [],
   "source": [
    "#adding new words to the stop words list\n",
    "stopwords = nltk.corpus.stopwords.words('english')\n",
    "stopwords = list(stopwords)\n",
    "stopwords.extend(drop_words)\n",
    "\n",
    "def my_tokenizer2(sentence):\n",
    "    \n",
    "    # split sentence into words\n",
    "    listofwords = sentence.split(' ')\n",
    "    listofstemmed_words = []\n",
    "    \n",
    "        \n",
    "    # Remove stopwords and any tokens that are just empty strings\n",
    "    for word in listofwords:\n",
    "        if (not word in stopwords) and (word!=''):\n",
    "            # Stem words\n",
    "            stemmed_word = stemmer.stem(word)\n",
    "            listofstemmed_words.append(stemmed_word)\n",
    "\n",
    "    return listofstemmed_words"
   ]
  },
  {
   "cell_type": "markdown",
   "metadata": {},
   "source": [
    "##### Reset the split"
   ]
  },
  {
   "cell_type": "markdown",
   "metadata": {},
   "source": [
    "- 2nd split to repeat the process with **tfidf vectorizer**  with `max_df` and new custom `tokenizer ` and `ngram_range`"
   ]
  },
  {
   "cell_type": "code",
   "execution_count": 31,
   "metadata": {},
   "outputs": [],
   "source": [
    "# We will stratify in order to ensure our data is evenly split for all deal_types \n",
    "X_rem, X_test, y_rem, y_test = train_test_split(X, y, test_size = 0.3, stratify = y, random_state = 88)"
   ]
  },
  {
   "cell_type": "code",
   "execution_count": 32,
   "metadata": {},
   "outputs": [
    {
     "name": "stdout",
     "output_type": "stream",
     "text": [
      "Wall time: 2min 57s\n"
     ]
    }
   ],
   "source": [
    "%%time\n",
    "\n",
    "#applying TFIDFVecorizer with tuned parameters for max and min document freq of 80% document and 10 words respectively\n",
    "\n",
    "vec2 = TfidfVectorizer(min_df = 10, max_df = 0.8, tokenizer = my_tokenizer2, ngram_range = (1,2))\n",
    "vec2.fit(X_rem)\n",
    "X_rem = vec2.transform(X_rem)\n",
    "X_test = vec2.transform(X_test)"
   ]
  },
  {
   "cell_type": "code",
   "execution_count": 33,
   "metadata": {},
   "outputs": [
    {
     "data": {
      "text/plain": [
       "<22122x28117 sparse matrix of type '<class 'numpy.float64'>'\n",
       "\twith 2127227 stored elements in Compressed Sparse Row format>"
      ]
     },
     "execution_count": 33,
     "metadata": {},
     "output_type": "execute_result"
    }
   ],
   "source": [
    "#checking X_rem size\n",
    "X_rem"
   ]
  },
  {
   "cell_type": "code",
   "execution_count": 34,
   "metadata": {},
   "outputs": [
    {
     "data": {
      "text/plain": [
       "<9482x28117 sparse matrix of type '<class 'numpy.float64'>'\n",
       "\twith 902999 stored elements in Compressed Sparse Row format>"
      ]
     },
     "execution_count": 34,
     "metadata": {},
     "output_type": "execute_result"
    }
   ],
   "source": [
    "#Checking X_test size\n",
    "X_test"
   ]
  },
  {
   "cell_type": "code",
   "execution_count": 35,
   "metadata": {},
   "outputs": [],
   "source": [
    "#addressing Imbalance dataset using SMOTE method\n",
    "from imblearn.over_sampling import SMOTE\n",
    "sm = SMOTE(random_state = 8, sampling_strategy = 'all', k_neighbors=7)\n",
    "X_rem, y_rem = sm.fit_sample(X_rem, y_rem)"
   ]
  },
  {
   "cell_type": "code",
   "execution_count": 36,
   "metadata": {},
   "outputs": [
    {
     "data": {
      "text/plain": [
       "expensive    9483\n",
       "good         9483\n",
       "fair         9483\n",
       "Name: deal_type, dtype: int64"
      ]
     },
     "execution_count": 36,
     "metadata": {},
     "output_type": "execute_result"
    }
   ],
   "source": [
    "#Checking for balanced class\n",
    "y_rem.value_counts()"
   ]
  },
  {
   "cell_type": "code",
   "execution_count": 37,
   "metadata": {},
   "outputs": [
    {
     "name": "stdout",
     "output_type": "stream",
     "text": [
      "Wall time: 7.53 s\n"
     ]
    },
    {
     "data": {
      "text/plain": [
       "LogisticRegression(n_jobs=-1, random_state=8)"
      ]
     },
     "execution_count": 37,
     "metadata": {},
     "output_type": "execute_result"
    }
   ],
   "source": [
    "%%time\n",
    "# fitting a basic logistic regression model with defaults as a candidate benchmark for our hypertuned models\n",
    "\n",
    "logreg = LogisticRegression(n_jobs = -1, random_state = 8)\n",
    "logreg.fit(X_rem, y_rem)"
   ]
  },
  {
   "cell_type": "code",
   "execution_count": 38,
   "metadata": {},
   "outputs": [
    {
     "name": "stdout",
     "output_type": "stream",
     "text": [
      "Training Score with TFIDF:  0.8083\n",
      "Test Score with TFIDF:      0.5047\n"
     ]
    }
   ],
   "source": [
    "# Checking accuracy score\n",
    "print('Training Score with TFIDF: ', round(logreg.score(X_rem,y_rem),4))\n",
    "print('Test Score with TFIDF:     ', round(logreg.score(X_test,y_test),4))"
   ]
  },
  {
   "cell_type": "markdown",
   "metadata": {},
   "source": [
    "---\n",
    "Since `TFIDFVectorizer` performed better than `CountVectorizer`, we will use the TFIDF vectorization for our GridSearch Cross validation and hyperparameter tuning."
   ]
  },
  {
   "cell_type": "markdown",
   "metadata": {},
   "source": [
    "---\n",
    "\n",
    "### Deploying GridSearch Cross Validation\n",
    "---\n",
    "\n",
    "##### Build a Pipeline"
   ]
  },
  {
   "cell_type": "code",
   "execution_count": 39,
   "metadata": {},
   "outputs": [],
   "source": [
    "#instantiate pipeline and grid\n",
    "model_pipeline = Pipeline([('dim_reducer', TruncatedSVD()), ('model', LogisticRegression())])"
   ]
  },
  {
   "cell_type": "markdown",
   "metadata": {},
   "source": [
    "---\n",
    "\n",
    "##### Logistic Regression"
   ]
  },
  {
   "cell_type": "code",
   "execution_count": 40,
   "metadata": {},
   "outputs": [],
   "source": [
    "# Intiate a parameter grid for logistic regression\n",
    "\n",
    "logreg_param_grid = [\n",
    "    {'dim_reducer': [TruncatedSVD()],\n",
    "    'dim_reducer__n_components': [400,500,600],\n",
    "    'model': [LogisticRegression(random_state = 8, n_jobs = -1)],\n",
    "    'model__C': [ 0.1, 1, 10],\n",
    "    'model__solver': ['lbfgs', 'saga', 'liblinear']}\n",
    "]"
   ]
  },
  {
   "cell_type": "code",
   "execution_count": 41,
   "metadata": {},
   "outputs": [],
   "source": [
    "# Instantiate the logistic regression grid search\n",
    "\n",
    "logreg_gs = GridSearchCV(model_pipeline, param_grid = logreg_param_grid, cv=5, verbose=1, scoring = 'accuracy')"
   ]
  },
  {
   "cell_type": "code",
   "execution_count": 42,
   "metadata": {
    "scrolled": true
   },
   "outputs": [
    {
     "name": "stdout",
     "output_type": "stream",
     "text": [
      "Fitting 5 folds for each of 27 candidates, totalling 135 fits\n"
     ]
    },
    {
     "name": "stderr",
     "output_type": "stream",
     "text": [
      "[Parallel(n_jobs=1)]: Using backend SequentialBackend with 1 concurrent workers.\n",
      "[Parallel(n_jobs=1)]: Done 135 out of 135 | elapsed: 74.0min finished\n"
     ]
    },
    {
     "name": "stdout",
     "output_type": "stream",
     "text": [
      "Wall time: 1h 14min 59s\n"
     ]
    }
   ],
   "source": [
    "%%time\n",
    "\n",
    "#Fitting the logistic Regression GridSearch\n",
    "fitted_logreg_gs = logreg_gs.fit(X_rem, y_rem)"
   ]
  },
  {
   "cell_type": "markdown",
   "metadata": {},
   "source": [
    "##### Evaluation: Logistic Regresssion"
   ]
  },
  {
   "cell_type": "code",
   "execution_count": 43,
   "metadata": {},
   "outputs": [
    {
     "name": "stdout",
     "output_type": "stream",
     "text": [
      "Best Parameters:  {'dim_reducer': TruncatedSVD(n_components=600), 'dim_reducer__n_components': 600, 'model': LogisticRegression(C=1, n_jobs=-1, random_state=8), 'model__C': 1, 'model__solver': 'lbfgs'}\n",
      "\n",
      "Best Score:  0.5381573047730936\n"
     ]
    }
   ],
   "source": [
    "#Check for best parameters and best score \n",
    "\n",
    "print(\"Best Parameters: \", fitted_logreg_gs.best_params_)\n",
    "print(\"\\nBest Score: \", fitted_logreg_gs.best_score_)"
   ]
  },
  {
   "cell_type": "code",
   "execution_count": 44,
   "metadata": {},
   "outputs": [],
   "source": [
    "#Use model to predict test set\n",
    "y_pred_logreg = fitted_logreg_gs.predict(X_test)"
   ]
  },
  {
   "cell_type": "code",
   "execution_count": 45,
   "metadata": {},
   "outputs": [
    {
     "name": "stdout",
     "output_type": "stream",
     "text": [
      "Training Score:  0.5698970086822033\n",
      "Test Score:  0.4865007382408775\n"
     ]
    }
   ],
   "source": [
    "#Compare Training and Test set scores to ensure we are not over or under-fitting\n",
    "\n",
    "print('Training Score: ', fitted_logreg_gs.score(X_rem,y_rem))\n",
    "print('Test Score: ', fitted_logreg_gs.score(X_test,y_test))"
   ]
  },
  {
   "cell_type": "code",
   "execution_count": 46,
   "metadata": {},
   "outputs": [
    {
     "name": "stdout",
     "output_type": "stream",
     "text": [
      " Logistic Regression Classification Report \n",
      "               precision    recall  f1-score   support\n",
      "\n",
      "   expensive       0.44      0.56      0.49      2230\n",
      "        fair       0.51      0.37      0.43      4064\n",
      "        good       0.50      0.58      0.54      3188\n",
      "\n",
      "    accuracy                           0.49      9482\n",
      "   macro avg       0.48      0.50      0.49      9482\n",
      "weighted avg       0.49      0.49      0.48      9482\n",
      "\n"
     ]
    },
    {
     "data": {
      "image/png": "[encoded data removed]",
      "text/plain": [
       "<Figure size 720x360 with 2 Axes>"
      ]
     },
     "metadata": {
      "needs_background": "light"
     },
     "output_type": "display_data"
    }
   ],
   "source": [
    "# Setting up our confusion matrix \n",
    "logreg_confusion_matrix = confusion_matrix(y_test,y_pred_logreg)\n",
    "\n",
    "# Making a DataFrame of Confustion matrix for readability\n",
    "logreg_confusion_matrix = pd.DataFrame(data = logreg_confusion_matrix,\\\n",
    "                                   columns = ['Predicted Expensive', 'Predicted Fair', 'Predicted Good'],\\\n",
    "                                  index = ['True Expensive','True Fair', 'True Good'])\n",
    "\n",
    "# Setting up our classification_report\n",
    "logreg_classification_report = classification_report(y_test,y_pred_logreg)\n",
    "logreg_scores_dict = classification_report(y_test,y_pred_logreg, output_dict = True)\n",
    "\n",
    "# Print Classification report\n",
    "print(f' Logistic Regression Classification Report \\n {logreg_classification_report}')\n",
    "\n",
    "# Visualizing the confusion matrix heatmap\n",
    "plt.figure(figsize = (10,5))\n",
    "sns.heatmap(logreg_confusion_matrix, annot = True, cmap='Blues', fmt = 'g')\n",
    "plt.title('Confusion Matrix for Logistic Regression ')\n",
    "plt.show()"
   ]
  },
  {
   "cell_type": "markdown",
   "metadata": {},
   "source": [
    "---\n",
    "##### Random Forest Classifier\n",
    "---"
   ]
  },
  {
   "cell_type": "code",
   "execution_count": 49,
   "metadata": {},
   "outputs": [],
   "source": [
    "# Intiate a parameter grid for Random Forest Classifier\n",
    "\n",
    "rf_param_grid = [\n",
    "    \n",
    "    {'dim_reducer': [TruncatedSVD()],\n",
    "    'dim_reducer__n_components': [400,500],\n",
    "    'model': [RandomForestClassifier(random_state = 8, n_jobs = -1)],\n",
    "    'model__max_depth': [5,10,15,20],\n",
    "    'model__n_estimators': [400,500]}\n",
    "]"
   ]
  },
  {
   "cell_type": "code",
   "execution_count": 50,
   "metadata": {},
   "outputs": [],
   "source": [
    "# Instantiate the RandomForest classifier grid search with 5 cross-validation sets\n",
    "\n",
    "rf_gs = GridSearchCV(model_pipeline, param_grid=rf_param_grid, cv=5, verbose=1, scoring = 'accuracy')"
   ]
  },
  {
   "cell_type": "code",
   "execution_count": 51,
   "metadata": {
    "scrolled": true
   },
   "outputs": [
    {
     "name": "stdout",
     "output_type": "stream",
     "text": [
      "Fitting 5 folds for each of 16 candidates, totalling 80 fits\n"
     ]
    },
    {
     "name": "stderr",
     "output_type": "stream",
     "text": [
      "[Parallel(n_jobs=1)]: Using backend SequentialBackend with 1 concurrent workers.\n",
      "[Parallel(n_jobs=1)]: Done  80 out of  80 | elapsed: 99.9min finished\n"
     ]
    },
    {
     "name": "stdout",
     "output_type": "stream",
     "text": [
      "Wall time: 1h 41min 54s\n"
     ]
    }
   ],
   "source": [
    "%%time\n",
    "\n",
    "\n",
    "#Fitting the RandomForest Classifier GridSearch\n",
    "fitted_rf_gs = rf_gs.fit(X_rem, y_rem)"
   ]
  },
  {
   "cell_type": "markdown",
   "metadata": {},
   "source": [
    "##### Evaluation: RandomForest Classifier"
   ]
  },
  {
   "cell_type": "code",
   "execution_count": 52,
   "metadata": {},
   "outputs": [
    {
     "name": "stdout",
     "output_type": "stream",
     "text": [
      "Best Parameters:  {'dim_reducer': TruncatedSVD(n_components=500), 'dim_reducer__n_components': 500, 'model': RandomForestClassifier(max_depth=20, n_estimators=500, n_jobs=-1,\n",
      "                       random_state=8), 'model__max_depth': 20, 'model__n_estimators': 500}\n",
      "\n",
      "Best Score:  0.6524342385530488\n"
     ]
    }
   ],
   "source": [
    "#Check for best parameters and best score \n",
    "\n",
    "print(\"Best Parameters: \", fitted_rf_gs.best_params_)\n",
    "print(\"\\nBest Score: \", fitted_rf_gs.best_score_)"
   ]
  },
  {
   "cell_type": "code",
   "execution_count": 53,
   "metadata": {},
   "outputs": [],
   "source": [
    "#Use best model to predict test set values\n",
    "\n",
    "y_pred_rf = fitted_rf_gs.predict(X_test)"
   ]
  },
  {
   "cell_type": "code",
   "execution_count": 54,
   "metadata": {},
   "outputs": [
    {
     "name": "stdout",
     "output_type": "stream",
     "text": [
      "Training Score:  0.9980667158775353\n",
      "Test Score:  0.5066441678970681\n"
     ]
    }
   ],
   "source": [
    "#Compare Training and Test set scores to ensure we are not over or under-fitting\n",
    "\n",
    "print('Training Score: ', fitted_rf_gs.score(X_rem,y_rem))\n",
    "print('Test Score: ', fitted_rf_gs.score(X_test,y_test))"
   ]
  },
  {
   "cell_type": "code",
   "execution_count": 55,
   "metadata": {},
   "outputs": [
    {
     "name": "stdout",
     "output_type": "stream",
     "text": [
      "Classification Report \n",
      "               precision    recall  f1-score   support\n",
      "\n",
      "   expensive       0.49      0.42      0.46      2230\n",
      "        fair       0.51      0.53      0.52      4064\n",
      "        good       0.51      0.54      0.53      3188\n",
      "\n",
      "    accuracy                           0.51      9482\n",
      "   macro avg       0.51      0.50      0.50      9482\n",
      "weighted avg       0.51      0.51      0.51      9482\n",
      "\n"
     ]
    },
    {
     "data": {
      "image/png": "[encoded data removed]",
      "text/plain": [
       "<Figure size 720x360 with 2 Axes>"
      ]
     },
     "metadata": {
      "needs_background": "light"
     },
     "output_type": "display_data"
    }
   ],
   "source": [
    "# Setting up our confusion matrix \n",
    "rf_confusion_matrix = confusion_matrix(y_test,y_pred_rf)\n",
    "\n",
    "# Making a DataFrame of Confustion matrix for readability\n",
    "rf_confusion_matrix = pd.DataFrame(data = rf_confusion_matrix,\\\n",
    "                                   columns = ['Predicted Expensive', 'Predicted Fair', 'Predicted Good'],\\\n",
    "                                  index = ['True Expensive','True Fair', 'True Good'])\n",
    "\n",
    "# Setting up our classification_report\n",
    "rf_classification_report = classification_report(y_test,y_pred_rf)\n",
    "rf_scores_dict = classification_report(y_test,y_pred_rf, output_dict = True)\n",
    "\n",
    "# Printing classification report\n",
    "print(f'Classification Report \\n {rf_classification_report}')\n",
    "\n",
    "# Visualizing the confusion matrix heatmap\n",
    "plt.figure(figsize = (10,5))\n",
    "sns.heatmap(rf_confusion_matrix, annot = True, cmap='Reds', fmt = 'g')\n",
    "plt.title('Confusion Matrix')\n",
    "plt.show()"
   ]
  },
  {
   "cell_type": "markdown",
   "metadata": {},
   "source": [
    "---\n",
    "##### K-Nearest Neighbours\n",
    "---"
   ]
  },
  {
   "cell_type": "code",
   "execution_count": 56,
   "metadata": {},
   "outputs": [],
   "source": [
    "# Intiate a parameter grid for K-Nearest Neighbours classification\n",
    "\n",
    "knn_param_grid = [\n",
    "    \n",
    "    {'dim_reducer': [TruncatedSVD()],\n",
    "    'dim_reducer__n_components': [400,500],\n",
    "    'model': [KNeighborsClassifier(n_jobs = -1)],\n",
    "    'model__n_neighbors': [3,5,7,11],\n",
    "    'model__weights': ['uniform', 'distance']}\n",
    "]"
   ]
  },
  {
   "cell_type": "code",
   "execution_count": 57,
   "metadata": {},
   "outputs": [],
   "source": [
    "# Instantiate the KNN classification gridsearch\n",
    "\n",
    "knn_gs = GridSearchCV(model_pipeline, param_grid = knn_param_grid, cv=5, verbose=1, scoring = 'accuracy')"
   ]
  },
  {
   "cell_type": "code",
   "execution_count": 58,
   "metadata": {},
   "outputs": [
    {
     "name": "stdout",
     "output_type": "stream",
     "text": [
      "Fitting 5 folds for each of 16 candidates, totalling 80 fits\n"
     ]
    },
    {
     "name": "stderr",
     "output_type": "stream",
     "text": [
      "[Parallel(n_jobs=1)]: Using backend SequentialBackend with 1 concurrent workers.\n",
      "[Parallel(n_jobs=1)]: Done  80 out of  80 | elapsed: 82.3min finished\n"
     ]
    },
    {
     "name": "stdout",
     "output_type": "stream",
     "text": [
      "Wall time: 1h 22min 54s\n"
     ]
    }
   ],
   "source": [
    "%%time\n",
    "\n",
    "\n",
    "#Fitting the KNN model\n",
    "fitted_knn_gs = knn_gs.fit(X_rem, y_rem)"
   ]
  },
  {
   "cell_type": "markdown",
   "metadata": {},
   "source": [
    "##### Evaluation: KNN Classification"
   ]
  },
  {
   "cell_type": "code",
   "execution_count": 59,
   "metadata": {},
   "outputs": [
    {
     "name": "stdout",
     "output_type": "stream",
     "text": [
      "Best Parameters:  {'dim_reducer': TruncatedSVD(n_components=400), 'dim_reducer__n_components': 400, 'model': KNeighborsClassifier(n_jobs=-1, n_neighbors=3, weights='distance'), 'model__n_neighbors': 3, 'model__weights': 'distance'}\n",
      "\n",
      "Best Score:  0.6167211474924167\n"
     ]
    }
   ],
   "source": [
    "#Check for best parameters and best score \n",
    "\n",
    "print(\"Best Parameters: \", fitted_knn_gs.best_params_)\n",
    "print(\"\\nBest Score: \", fitted_knn_gs.best_score_)"
   ]
  },
  {
   "cell_type": "code",
   "execution_count": 60,
   "metadata": {},
   "outputs": [],
   "source": [
    "#Use best model to predict test set values\n",
    "\n",
    "y_pred_knn = fitted_knn_gs.predict(X_test)"
   ]
  },
  {
   "cell_type": "code",
   "execution_count": 61,
   "metadata": {},
   "outputs": [
    {
     "name": "stdout",
     "output_type": "stream",
     "text": [
      "Training Score:  0.9978909627754929\n",
      "Test Score:  0.4149968361105252\n"
     ]
    }
   ],
   "source": [
    "#Compare Training and Test set scores to ensure we are not over or under-fitting\n",
    "\n",
    "print('Training Score: ', fitted_knn_gs.score(X_rem,y_rem))\n",
    "print('Test Score: ', fitted_knn_gs.score(X_test,y_test))"
   ]
  },
  {
   "cell_type": "code",
   "execution_count": 62,
   "metadata": {},
   "outputs": [
    {
     "name": "stdout",
     "output_type": "stream",
     "text": [
      "Classification Report \n",
      "               precision    recall  f1-score   support\n",
      "\n",
      "   expensive       0.43      0.33      0.37      2230\n",
      "        fair       0.56      0.16      0.25      4064\n",
      "        good       0.39      0.80      0.52      3188\n",
      "\n",
      "    accuracy                           0.41      9482\n",
      "   macro avg       0.46      0.43      0.38      9482\n",
      "weighted avg       0.47      0.41      0.37      9482\n",
      "\n"
     ]
    },
    {
     "data": {
      "image/png": "[encoded data removed]",
      "text/plain": [
       "<Figure size 720x360 with 2 Axes>"
      ]
     },
     "metadata": {
      "needs_background": "light"
     },
     "output_type": "display_data"
    }
   ],
   "source": [
    "# Setting up our confusion matrix \n",
    "knn_confusion_matrix = confusion_matrix(y_test,y_pred_knn)\n",
    "\n",
    "# Putting the confusion matrix in a DataFrame\n",
    "knn_confusion_matrix = pd.DataFrame(data = knn_confusion_matrix,\\\n",
    "                                   columns = ['Predicted Expensive', 'Predicted Fair', 'Predicted Good'],\\\n",
    "                                  index = ['True Expensive','True Fair', 'True Good'])\n",
    "\n",
    "# Setting up our classification_report\n",
    "knn_classification_report = classification_report(y_test,y_pred_knn)\n",
    "knn_scores_dict = classification_report(y_test,y_pred_knn, output_dict = True)\n",
    "\n",
    "# Printing classification report\n",
    "print(f'Classification Report \\n {knn_classification_report}')\n",
    "\n",
    "# Visualizing the heatmap\n",
    "plt.figure(figsize = (10,5))\n",
    "sns.heatmap(knn_confusion_matrix, annot = True, cmap='Greys', fmt = 'g')\n",
    "plt.title('Confusion Matrix')\n",
    "plt.show()"
   ]
  },
  {
   "cell_type": "markdown",
   "metadata": {},
   "source": [
    "---\n",
    "\n",
    "##### Support Vector Classifier (SVC)\n",
    "\n",
    "---"
   ]
  },
  {
   "cell_type": "code",
   "execution_count": 63,
   "metadata": {},
   "outputs": [],
   "source": [
    "from sklearn.svm import SVC"
   ]
  },
  {
   "cell_type": "code",
   "execution_count": 64,
   "metadata": {},
   "outputs": [],
   "source": [
    "# Intiate a parameter grid for SVC \n",
    "\n",
    "svm_param_grid = [\n",
    "    \n",
    "    {'dim_reducer': [TruncatedSVD()],\n",
    "    'dim_reducer__n_components': [400,500],\n",
    "    'model': [SVC(random_state = 8, probability = True)],\n",
    "    'model__C': [0.1,1,10],\n",
    "    'model__kernel': ['rbf', 'sigmoid']}\n",
    "]"
   ]
  },
  {
   "cell_type": "code",
   "execution_count": 65,
   "metadata": {},
   "outputs": [],
   "source": [
    "# Instantiate the SVC grid search\n",
    "\n",
    "svm_gs = GridSearchCV(model_pipeline, param_grid=svm_param_grid, cv=5, verbose=1, scoring = 'accuracy')"
   ]
  },
  {
   "cell_type": "code",
   "execution_count": 66,
   "metadata": {},
   "outputs": [
    {
     "name": "stdout",
     "output_type": "stream",
     "text": [
      "Fitting 5 folds for each of 12 candidates, totalling 60 fits\n"
     ]
    },
    {
     "name": "stderr",
     "output_type": "stream",
     "text": [
      "[Parallel(n_jobs=1)]: Using backend SequentialBackend with 1 concurrent workers.\n",
      "[Parallel(n_jobs=1)]: Done  60 out of  60 | elapsed: 3437.9min finished\n"
     ]
    },
    {
     "name": "stdout",
     "output_type": "stream",
     "text": [
      "Wall time: 2d 13h 49min 52s\n"
     ]
    }
   ],
   "source": [
    "%%time\n",
    "\n",
    "#Fitting the Support vector classifier (SVC)\n",
    "fitted_svm_gs = svm_gs.fit(X_rem, y_rem)"
   ]
  },
  {
   "cell_type": "markdown",
   "metadata": {},
   "source": [
    "##### Evaluation: Support Vector Classifier"
   ]
  },
  {
   "cell_type": "code",
   "execution_count": 67,
   "metadata": {},
   "outputs": [
    {
     "name": "stdout",
     "output_type": "stream",
     "text": [
      "Best Parameters:  {'dim_reducer': TruncatedSVD(n_components=500), 'dim_reducer__n_components': 500, 'model': SVC(C=10, probability=True, random_state=8), 'model__C': 10, 'model__kernel': 'rbf'}\n",
      "\n",
      "Best Score:  0.7009425459856703\n"
     ]
    }
   ],
   "source": [
    "#Check for best parameters and best score \n",
    "\n",
    "print(\"Best Parameters: \", fitted_svm_gs.best_params_)\n",
    "print(\"\\nBest Score: \", fitted_svm_gs.best_score_)"
   ]
  },
  {
   "cell_type": "code",
   "execution_count": 68,
   "metadata": {},
   "outputs": [],
   "source": [
    "#Use best model to predict test set values\n",
    "\n",
    "y_pred_svm = fitted_svm_gs.predict(X_test)"
   ]
  },
  {
   "cell_type": "code",
   "execution_count": 69,
   "metadata": {},
   "outputs": [
    {
     "name": "stdout",
     "output_type": "stream",
     "text": [
      "Training Score:  0.9930401771591268\n",
      "Test Score:  0.5192997257962455\n"
     ]
    }
   ],
   "source": [
    "#Compare Training and Test set scores to ensure we are not over or under-fitting\n",
    "\n",
    "print('Training Score: ', fitted_svm_gs.score(X_rem,y_rem))\n",
    "print('Test Score: ', fitted_svm_gs.score(X_test,y_test))"
   ]
  },
  {
   "cell_type": "code",
   "execution_count": 70,
   "metadata": {},
   "outputs": [
    {
     "name": "stdout",
     "output_type": "stream",
     "text": [
      "Classification Report \n",
      "               precision    recall  f1-score   support\n",
      "\n",
      "   expensive       0.53      0.44      0.48      2230\n",
      "        fair       0.51      0.56      0.53      4064\n",
      "        good       0.53      0.53      0.53      3188\n",
      "\n",
      "    accuracy                           0.52      9482\n",
      "   macro avg       0.52      0.51      0.51      9482\n",
      "weighted avg       0.52      0.52      0.52      9482\n",
      "\n"
     ]
    },
    {
     "data": {
      "image/png": "[encoded data removed]",
      "text/plain": [
       "<Figure size 720x360 with 2 Axes>"
      ]
     },
     "metadata": {
      "needs_background": "light"
     },
     "output_type": "display_data"
    }
   ],
   "source": [
    "# Setting up our confusion matrix \n",
    "svm_confusion_matrix = confusion_matrix(y_test,y_pred_svm)\n",
    "\n",
    "# Putting the confusion matrix in a DataFrame\n",
    "svm_confusion_matrix = pd.DataFrame(data = svm_confusion_matrix,\\\n",
    "                                   columns = ['Predicted Expensive', 'Predicted Fair', 'Predicted Good'],\\\n",
    "                                  index = ['True Expensive','True Fair', 'True Good'])\n",
    "\n",
    "# Setting up our classification_report\n",
    "svm_classification_report = classification_report(y_test,y_pred_svm)\n",
    "svm_scores_dict = classification_report(y_test,y_pred_svm, output_dict = True)\n",
    "\n",
    "# Printing classification report\n",
    "print(f'Classification Report \\n {svm_classification_report}')\n",
    "\n",
    "# Visualizing the heatmap\n",
    "plt.figure(figsize = (10,5))\n",
    "sns.heatmap(svm_confusion_matrix, annot = True, cmap='Purples', fmt = 'g')\n",
    "plt.title('Confusion Matrix')\n",
    "plt.show()"
   ]
  },
  {
   "cell_type": "code",
   "execution_count": null,
   "metadata": {},
   "outputs": [],
   "source": [
    "#dump(fitted_svm_gs, '/text_models/text_svc.joblib') "
   ]
  },
  {
   "cell_type": "markdown",
   "metadata": {},
   "source": [
    "---\n",
    "##### AdaBoost Classifier\n",
    "---"
   ]
  },
  {
   "cell_type": "code",
   "execution_count": 71,
   "metadata": {},
   "outputs": [],
   "source": [
    "# Intiate a parameter grid for AdaBoost Classifier\n",
    "\n",
    "ada_param_grid = [\n",
    "    \n",
    "    {'dim_reducer': [TruncatedSVD()],\n",
    "    'dim_reducer__n_components': [500],\n",
    "    'model': [AdaBoostClassifier(random_state = 8)],\n",
    "    'model__n_estimators': [200,400,600],\n",
    "    'model__learning_rate': [0.5,1]}\n",
    "]"
   ]
  },
  {
   "cell_type": "code",
   "execution_count": 72,
   "metadata": {},
   "outputs": [],
   "source": [
    "# Instantiate the AdaBoost grid search\n",
    "\n",
    "ada_gs = GridSearchCV(model_pipeline, param_grid=ada_param_grid, cv=5, verbose=1, scoring = 'accuracy')"
   ]
  },
  {
   "cell_type": "code",
   "execution_count": 73,
   "metadata": {},
   "outputs": [
    {
     "name": "stdout",
     "output_type": "stream",
     "text": [
      "Fitting 5 folds for each of 6 candidates, totalling 30 fits\n"
     ]
    },
    {
     "name": "stderr",
     "output_type": "stream",
     "text": [
      "[Parallel(n_jobs=1)]: Using backend SequentialBackend with 1 concurrent workers.\n",
      "[Parallel(n_jobs=1)]: Done  30 out of  30 | elapsed: 399.2min finished\n"
     ]
    },
    {
     "name": "stdout",
     "output_type": "stream",
     "text": [
      "Wall time: 7h 4min 56s\n"
     ]
    }
   ],
   "source": [
    "%%time\n",
    "\n",
    "\n",
    "#Fitting the AdaBoost GS\n",
    "fitted_ada_gs = ada_gs.fit(X_rem, y_rem)"
   ]
  },
  {
   "cell_type": "markdown",
   "metadata": {},
   "source": [
    "##### Evaluation: AdaBoost Classifier"
   ]
  },
  {
   "cell_type": "code",
   "execution_count": 74,
   "metadata": {},
   "outputs": [
    {
     "name": "stdout",
     "output_type": "stream",
     "text": [
      "Best Parameters:  {'dim_reducer': TruncatedSVD(n_components=500), 'dim_reducer__n_components': 500, 'model': AdaBoostClassifier(learning_rate=0.5, n_estimators=600, random_state=8), 'model__learning_rate': 0.5, 'model__n_estimators': 600}\n",
      "Best Score:  0.5130248829100404\n"
     ]
    }
   ],
   "source": [
    "#Check for best parameters and best score \n",
    "\n",
    "print(\"Best Parameters: \", fitted_ada_gs.best_params_)\n",
    "print(\"Best Score: \", fitted_ada_gs.best_score_)"
   ]
  },
  {
   "cell_type": "code",
   "execution_count": 75,
   "metadata": {},
   "outputs": [],
   "source": [
    "#Use best model to predict test set values\n",
    "\n",
    "y_pred_ada = fitted_ada_gs.predict(X_test)"
   ]
  },
  {
   "cell_type": "code",
   "execution_count": 76,
   "metadata": {},
   "outputs": [
    {
     "name": "stdout",
     "output_type": "stream",
     "text": [
      "Training Score:  0.5804421948047384\n",
      "Test Score:  0.4747943471841384\n"
     ]
    }
   ],
   "source": [
    "#Compare Training and Test set scores to ensure we are not over or under-fitting\n",
    "\n",
    "print('Training Score: ', fitted_ada_gs.score(X_rem,y_rem))\n",
    "print('Test Score: ', fitted_ada_gs.score(X_test,y_test))"
   ]
  },
  {
   "cell_type": "code",
   "execution_count": 77,
   "metadata": {},
   "outputs": [
    {
     "name": "stdout",
     "output_type": "stream",
     "text": [
      "Classification Report \n",
      "               precision    recall  f1-score   support\n",
      "\n",
      "   expensive       0.42      0.50      0.46      2230\n",
      "        fair       0.50      0.41      0.45      4064\n",
      "        good       0.49      0.54      0.52      3188\n",
      "\n",
      "    accuracy                           0.47      9482\n",
      "   macro avg       0.47      0.48      0.47      9482\n",
      "weighted avg       0.48      0.47      0.47      9482\n",
      "\n"
     ]
    },
    {
     "data": {
      "image/png": "[encoded data removed]",
      "text/plain": [
       "<Figure size 720x360 with 2 Axes>"
      ]
     },
     "metadata": {
      "needs_background": "light"
     },
     "output_type": "display_data"
    }
   ],
   "source": [
    "# Setting up our confusion matrix \n",
    "ada_confusion_matrix = confusion_matrix(y_test,y_pred_ada)\n",
    "\n",
    "# Putting the confusion matrix in a DataFrame\n",
    "ada_confusion_matrix = pd.DataFrame(data = ada_confusion_matrix,\\\n",
    "                                   columns = ['Predicted Expensive', 'Predicted Fair', 'Predicted Good'],\\\n",
    "                                  index = ['True Expensive','True Fair', 'True Good'])\n",
    "\n",
    "# Setting up our classification_report\n",
    "ada_classification_report = classification_report(y_test,y_pred_ada)\n",
    "ada_scores_dict = classification_report(y_test,y_pred_ada, output_dict = True)\n",
    "\n",
    "# Printing classification report\n",
    "print(f'Classification Report \\n {ada_classification_report}')\n",
    "\n",
    "# Visualizing the heatmap\n",
    "plt.figure(figsize = (10,5))\n",
    "sns.heatmap(ada_confusion_matrix, annot = True, cmap='Greens', fmt = 'g')\n",
    "plt.title('Confusion Matrix')\n",
    "plt.show()"
   ]
  },
  {
   "cell_type": "markdown",
   "metadata": {},
   "source": [
    "---\n",
    "---\n",
    "### Results Summary\n",
    "---"
   ]
  },
  {
   "cell_type": "code",
   "execution_count": 78,
   "metadata": {},
   "outputs": [],
   "source": [
    "#intialize a dataframe to store all results\n",
    "model_names = ['Logistic Regression', 'Random Forest', 'KNNs', 'SVC', 'AdaBoost']\n",
    "results = pd.DataFrame(columns = ['Accuracy', 'Recall', 'Precision', 'F1_score'], index = model_names)"
   ]
  },
  {
   "cell_type": "code",
   "execution_count": 79,
   "metadata": {},
   "outputs": [],
   "source": [
    "#Write a loop to summarize all results by using confusion matrix dictionaries\n",
    "reports = [logreg_scores_dict, rf_scores_dict, knn_scores_dict, svm_scores_dict, ada_scores_dict]\n",
    "\n",
    "for row in range(0,results.shape[0]):\n",
    "    results.Accuracy[row] = round(reports[row]['accuracy'],3)\n",
    "    results.Recall[row] = round(reports[row]['macro avg']['recall'],3)\n",
    "    results.Precision[row] = round(reports[row]['macro avg']['precision'],3)\n",
    "    results.F1_score[row] = round(reports[row]['macro avg']['f1-score'],3)"
   ]
  },
  {
   "cell_type": "code",
   "execution_count": 80,
   "metadata": {},
   "outputs": [
    {
     "data": {
      "image/png": "[encoded data removed]",
      "text/plain": [
       "<Figure size 720x360 with 2 Axes>"
      ]
     },
     "metadata": {
      "needs_background": "light"
     },
     "output_type": "display_data"
    }
   ],
   "source": [
    "#display the results\n",
    "results = results.astype('float')\n",
    "plt.figure(figsize = (10,5))\n",
    "sns.heatmap(results, annot = True, cmap='RdYlGn', fmt = 'g')\n",
    "plt.title('Scores Summary')\n",
    "plt.show()"
   ]
  },
  {
   "cell_type": "markdown",
   "metadata": {},
   "source": [
    "#### Saving top 3 models with best results"
   ]
  },
  {
   "cell_type": "code",
   "execution_count": 86,
   "metadata": {},
   "outputs": [
    {
     "data": {
      "text/plain": [
       "['text_models/text_logreg.joblib']"
      ]
     },
     "execution_count": 86,
     "metadata": {},
     "output_type": "execute_result"
    }
   ],
   "source": [
    "dump(fitted_logreg_gs, 'text_models/text_logreg.joblib') "
   ]
  },
  {
   "cell_type": "code",
   "execution_count": 87,
   "metadata": {},
   "outputs": [
    {
     "data": {
      "text/plain": [
       "['text_models/text_svc.joblib']"
      ]
     },
     "execution_count": 87,
     "metadata": {},
     "output_type": "execute_result"
    }
   ],
   "source": [
    "dump(fitted_svm_gs, 'text_models/text_svc.joblib') "
   ]
  },
  {
   "cell_type": "code",
   "execution_count": 88,
   "metadata": {},
   "outputs": [
    {
     "data": {
      "text/plain": [
       "['text_models/text_rf.joblib']"
      ]
     },
     "execution_count": 88,
     "metadata": {},
     "output_type": "execute_result"
    }
   ],
   "source": [
    "dump(fitted_rf_gs, 'text_models/text_rf.joblib') "
   ]
  },
  {
   "cell_type": "markdown",
   "metadata": {},
   "source": [
    "##### Saving the results"
   ]
  },
  {
   "cell_type": "code",
   "execution_count": 81,
   "metadata": {},
   "outputs": [],
   "source": [
    "#Storing Vec2 transformed data to X1 variable that will hold all the available data.\n",
    "X1 = vec2.transform(X)"
   ]
  },
  {
   "cell_type": "code",
   "execution_count": 82,
   "metadata": {
    "scrolled": false
   },
   "outputs": [],
   "source": [
    "#Saving predictions in a dataframe\n",
    "prob_pred = pd.DataFrame(fitted_svm_gs.predict_proba(X1))"
   ]
  },
  {
   "cell_type": "code",
   "execution_count": 83,
   "metadata": {},
   "outputs": [],
   "source": [
    "prob_pred.columns = ['nlp_pred_1', 'nlp_pred_2', 'nlp_pred_3']"
   ]
  },
  {
   "cell_type": "code",
   "execution_count": 84,
   "metadata": {
    "scrolled": true
   },
   "outputs": [
    {
     "data": {
      "text/html": [
       "<div>\n",
       "<style scoped>\n",
       "    .dataframe tbody tr th:only-of-type {\n",
       "        vertical-align: middle;\n",
       "    }\n",
       "\n",
       "    .dataframe tbody tr th {\n",
       "        vertical-align: top;\n",
       "    }\n",
       "\n",
       "    .dataframe thead th {\n",
       "        text-align: right;\n",
       "    }\n",
       "</style>\n",
       "<table border=\"1\" class=\"dataframe\">\n",
       "  <thead>\n",
       "    <tr style=\"text-align: right;\">\n",
       "      <th></th>\n",
       "      <th>nlp_pred_1</th>\n",
       "      <th>nlp_pred_2</th>\n",
       "      <th>nlp_pred_3</th>\n",
       "    </tr>\n",
       "  </thead>\n",
       "  <tbody>\n",
       "    <tr>\n",
       "      <th>0</th>\n",
       "      <td>0.018513</td>\n",
       "      <td>0.860774</td>\n",
       "      <td>0.120713</td>\n",
       "    </tr>\n",
       "    <tr>\n",
       "      <th>1</th>\n",
       "      <td>0.030633</td>\n",
       "      <td>0.584860</td>\n",
       "      <td>0.384508</td>\n",
       "    </tr>\n",
       "    <tr>\n",
       "      <th>2</th>\n",
       "      <td>0.904492</td>\n",
       "      <td>0.064233</td>\n",
       "      <td>0.031275</td>\n",
       "    </tr>\n",
       "    <tr>\n",
       "      <th>3</th>\n",
       "      <td>0.031903</td>\n",
       "      <td>0.850543</td>\n",
       "      <td>0.117554</td>\n",
       "    </tr>\n",
       "    <tr>\n",
       "      <th>4</th>\n",
       "      <td>0.115649</td>\n",
       "      <td>0.619779</td>\n",
       "      <td>0.264572</td>\n",
       "    </tr>\n",
       "    <tr>\n",
       "      <th>...</th>\n",
       "      <td>...</td>\n",
       "      <td>...</td>\n",
       "      <td>...</td>\n",
       "    </tr>\n",
       "    <tr>\n",
       "      <th>31599</th>\n",
       "      <td>0.213906</td>\n",
       "      <td>0.678091</td>\n",
       "      <td>0.108003</td>\n",
       "    </tr>\n",
       "    <tr>\n",
       "      <th>31600</th>\n",
       "      <td>0.911785</td>\n",
       "      <td>0.065674</td>\n",
       "      <td>0.022540</td>\n",
       "    </tr>\n",
       "    <tr>\n",
       "      <th>31601</th>\n",
       "      <td>0.028859</td>\n",
       "      <td>0.114865</td>\n",
       "      <td>0.856276</td>\n",
       "    </tr>\n",
       "    <tr>\n",
       "      <th>31602</th>\n",
       "      <td>0.024264</td>\n",
       "      <td>0.140200</td>\n",
       "      <td>0.835536</td>\n",
       "    </tr>\n",
       "    <tr>\n",
       "      <th>31603</th>\n",
       "      <td>0.927259</td>\n",
       "      <td>0.059607</td>\n",
       "      <td>0.013134</td>\n",
       "    </tr>\n",
       "  </tbody>\n",
       "</table>\n",
       "<p>31604 rows × 3 columns</p>\n",
       "</div>"
      ],
      "text/plain": [
       "       nlp_pred_1  nlp_pred_2  nlp_pred_3\n",
       "0        0.018513    0.860774    0.120713\n",
       "1        0.030633    0.584860    0.384508\n",
       "2        0.904492    0.064233    0.031275\n",
       "3        0.031903    0.850543    0.117554\n",
       "4        0.115649    0.619779    0.264572\n",
       "...           ...         ...         ...\n",
       "31599    0.213906    0.678091    0.108003\n",
       "31600    0.911785    0.065674    0.022540\n",
       "31601    0.028859    0.114865    0.856276\n",
       "31602    0.024264    0.140200    0.835536\n",
       "31603    0.927259    0.059607    0.013134\n",
       "\n",
       "[31604 rows x 3 columns]"
      ]
     },
     "execution_count": 84,
     "metadata": {},
     "output_type": "execute_result"
    }
   ],
   "source": [
    "prob_pred"
   ]
  },
  {
   "cell_type": "code",
   "execution_count": 85,
   "metadata": {},
   "outputs": [],
   "source": [
    "#writing prediction probablities to a csv file to be used in future models\n",
    "prob_pred.to_csv('nlp_predictions.csv', index = False)"
   ]
  },
  {
   "cell_type": "markdown",
   "metadata": {},
   "source": [
    "### Fin."
   ]
  }
 ],
 "metadata": {
  "kernelspec": {
   "display_name": "Python 3",
   "language": "python",
   "name": "python3"
  },
  "language_info": {
   "codemirror_mode": {
    "name": "ipython",
    "version": 3
   },
   "file_extension": ".py",
   "mimetype": "text/x-python",
   "name": "python",
   "nbconvert_exporter": "python",
   "pygments_lexer": "ipython3",
   "version": "3.7.6"
  }
 },
 "nbformat": 4,
 "nbformat_minor": 4
}
